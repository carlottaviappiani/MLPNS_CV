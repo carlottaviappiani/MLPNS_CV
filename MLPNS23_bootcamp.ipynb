{
  "nbformat": 4,
  "nbformat_minor": 0,
  "metadata": {
    "colab": {
      "provenance": [],
      "authorship_tag": "ABX9TyNMdpSMXwFl2e+3BtXjyMX0",
      "include_colab_link": true
    },
    "kernelspec": {
      "name": "python3",
      "display_name": "Python 3"
    },
    "language_info": {
      "name": "python"
    }
  },
  "cells": [
    {
      "cell_type": "markdown",
      "metadata": {
        "id": "view-in-github",
        "colab_type": "text"
      },
      "source": [
        "<a href=\"https://colab.research.google.com/github/carlottaviappiani/MLPNS_CViappiani/blob/main/MLPNS23_bootcamp.ipynb\" target=\"_parent\"><img src=\"https://colab.research.google.com/assets/colab-badge.svg\" alt=\"Open In Colab\"/></a>"
      ]
    },
    {
      "cell_type": "markdown",
      "source": [],
      "metadata": {
        "id": "6b2rbU-P1k8t"
      }
    },
    {
      "cell_type": "code",
      "source": [],
      "metadata": {
        "id": "4PeoEH0Q1kx-"
      },
      "execution_count": null,
      "outputs": []
    },
    {
      "cell_type": "markdown",
      "source": [
        "# First markdown cell\n",
        "This is a text cell in markdown syntax \\\\\n",
        "Ex.: $\\alpha_\\text{a}$=$\\frac{3}{4}$"
      ],
      "metadata": {
        "id": "eNhAolkF1uKm"
      }
    },
    {
      "cell_type": "code",
      "execution_count": null,
      "metadata": {
        "colab": {
          "base_uri": "https://localhost:8080/"
        },
        "id": "UXdzApS70Tmp",
        "outputId": "6871916d-36e4-4b6c-a7a8-5e53ae1566b6"
      },
      "outputs": [
        {
          "output_type": "execute_result",
          "data": {
            "text/plain": [
              "4"
            ]
          },
          "metadata": {},
          "execution_count": 1
        }
      ],
      "source": [
        "2*2\n"
      ]
    },
    {
      "cell_type": "markdown",
      "source": [
        "# Here we start coding:"
      ],
      "metadata": {
        "id": "6onbejrP2RG8"
      }
    },
    {
      "cell_type": "markdown",
      "source": [
        "# 1) Native variables and variables types"
      ],
      "metadata": {
        "id": "0uiqZbB_2ueM"
      }
    },
    {
      "cell_type": "markdown",
      "source": [
        "## Integers"
      ],
      "metadata": {
        "id": "kUYFxtmx7Br8"
      }
    },
    {
      "cell_type": "code",
      "source": [
        "intVar = 3"
      ],
      "metadata": {
        "id": "VIK0dM-i2y8k"
      },
      "execution_count": null,
      "outputs": []
    },
    {
      "cell_type": "code",
      "source": [
        "type(intVar)"
      ],
      "metadata": {
        "colab": {
          "base_uri": "https://localhost:8080/"
        },
        "id": "tE9IyupU3dBX",
        "outputId": "e4b38f90-c08d-4fcb-f711-4bd5698bd168"
      },
      "execution_count": null,
      "outputs": [
        {
          "output_type": "execute_result",
          "data": {
            "text/plain": [
              "int"
            ]
          },
          "metadata": {},
          "execution_count": 3
        }
      ]
    },
    {
      "cell_type": "markdown",
      "source": [
        "## Float"
      ],
      "metadata": {
        "id": "OFN7apz17GRU"
      }
    },
    {
      "cell_type": "code",
      "source": [
        "floatVar= 3.0"
      ],
      "metadata": {
        "id": "hA1d0KrH3fOj"
      },
      "execution_count": null,
      "outputs": []
    },
    {
      "cell_type": "code",
      "source": [
        "type(floatVar)"
      ],
      "metadata": {
        "colab": {
          "base_uri": "https://localhost:8080/"
        },
        "id": "t39oD79K3lfU",
        "outputId": "be43c02b-8603-4453-e479-bdb9ae486f53"
      },
      "execution_count": null,
      "outputs": [
        {
          "output_type": "execute_result",
          "data": {
            "text/plain": [
              "float"
            ]
          },
          "metadata": {},
          "execution_count": 7
        }
      ]
    },
    {
      "cell_type": "code",
      "source": [
        "float(intVar)"
      ],
      "metadata": {
        "colab": {
          "base_uri": "https://localhost:8080/"
        },
        "id": "w87aFGg-3owE",
        "outputId": "dfc08444-287d-49f5-daf2-6a6d1e96650d"
      },
      "execution_count": null,
      "outputs": [
        {
          "output_type": "execute_result",
          "data": {
            "text/plain": [
              "3.0"
            ]
          },
          "metadata": {},
          "execution_count": 8
        }
      ]
    },
    {
      "cell_type": "code",
      "source": [
        "float2var=float(intVar)"
      ],
      "metadata": {
        "id": "ZoB9Pc1E31qc"
      },
      "execution_count": null,
      "outputs": []
    },
    {
      "cell_type": "code",
      "source": [
        "type(float2var)"
      ],
      "metadata": {
        "colab": {
          "base_uri": "https://localhost:8080/"
        },
        "id": "wJfjcx2m39dD",
        "outputId": "29421de8-6cb5-46e9-f00f-de5877bd8e6a"
      },
      "execution_count": null,
      "outputs": [
        {
          "output_type": "execute_result",
          "data": {
            "text/plain": [
              "float"
            ]
          },
          "metadata": {},
          "execution_count": 10
        }
      ]
    },
    {
      "cell_type": "code",
      "source": [
        "intVar * floatVar "
      ],
      "metadata": {
        "colab": {
          "base_uri": "https://localhost:8080/"
        },
        "id": "3XEqxm_b3_da",
        "outputId": "37839f73-d35e-402e-a14b-6d3251e48f98"
      },
      "execution_count": null,
      "outputs": [
        {
          "output_type": "execute_result",
          "data": {
            "text/plain": [
              "9.0"
            ]
          },
          "metadata": {},
          "execution_count": 13
        }
      ]
    },
    {
      "cell_type": "code",
      "source": [
        "intVar /2"
      ],
      "metadata": {
        "colab": {
          "base_uri": "https://localhost:8080/"
        },
        "id": "BBt95M4j4EDW",
        "outputId": "6a9cbd9d-57f6-4f58-dc62-5bba469da184"
      },
      "execution_count": null,
      "outputs": [
        {
          "output_type": "execute_result",
          "data": {
            "text/plain": [
              "1.5"
            ]
          },
          "metadata": {},
          "execution_count": 14
        }
      ]
    },
    {
      "cell_type": "code",
      "source": [
        "intVar + floatVar"
      ],
      "metadata": {
        "colab": {
          "base_uri": "https://localhost:8080/"
        },
        "id": "d3UyaB0D4eoV",
        "outputId": "81e8b231-0027-4091-e681-78a682f34ccd"
      },
      "execution_count": null,
      "outputs": [
        {
          "output_type": "execute_result",
          "data": {
            "text/plain": [
              "6.0"
            ]
          },
          "metadata": {},
          "execution_count": 15
        }
      ]
    },
    {
      "cell_type": "code",
      "source": [
        "intVar + floatVar -intVar/2"
      ],
      "metadata": {
        "colab": {
          "base_uri": "https://localhost:8080/"
        },
        "id": "HlcxpzLZ4mqg",
        "outputId": "ab3a6268-d2be-445e-aa47-a9c825900389"
      },
      "execution_count": null,
      "outputs": [
        {
          "output_type": "execute_result",
          "data": {
            "text/plain": [
              "4.5"
            ]
          },
          "metadata": {},
          "execution_count": 16
        }
      ]
    },
    {
      "cell_type": "code",
      "source": [
        "type(intVar + floatVar -intVar/2)"
      ],
      "metadata": {
        "colab": {
          "base_uri": "https://localhost:8080/"
        },
        "id": "yXU7bLgs4qyv",
        "outputId": "c2f18b79-817c-4086-b6fe-d6290f1179ff"
      },
      "execution_count": null,
      "outputs": [
        {
          "output_type": "execute_result",
          "data": {
            "text/plain": [
              "float"
            ]
          },
          "metadata": {},
          "execution_count": 17
        }
      ]
    },
    {
      "cell_type": "code",
      "source": [
        "(intVar + floatVar -intVar)/2"
      ],
      "metadata": {
        "colab": {
          "base_uri": "https://localhost:8080/"
        },
        "id": "eii3Qo4L5A_b",
        "outputId": "e86b3096-03f7-40e8-c49a-c65f977691bd"
      },
      "execution_count": null,
      "outputs": [
        {
          "output_type": "execute_result",
          "data": {
            "text/plain": [
              "1.5"
            ]
          },
          "metadata": {},
          "execution_count": 18
        }
      ]
    },
    {
      "cell_type": "markdown",
      "source": [
        "## Strings"
      ],
      "metadata": {
        "id": "NCmu8xOu7MLk"
      }
    },
    {
      "cell_type": "code",
      "source": [
        "print(\"Hello world\")"
      ],
      "metadata": {
        "colab": {
          "base_uri": "https://localhost:8080/"
        },
        "id": "IfsMwxhR5PO2",
        "outputId": "748b468e-3bbf-497d-c3eb-1396f4f938c6"
      },
      "execution_count": null,
      "outputs": [
        {
          "output_type": "stream",
          "name": "stdout",
          "text": [
            "Hello world\n"
          ]
        }
      ]
    },
    {
      "cell_type": "code",
      "source": [
        "print(\"'Hello world'\")"
      ],
      "metadata": {
        "colab": {
          "base_uri": "https://localhost:8080/"
        },
        "id": "K3oLMM675tLY",
        "outputId": "8c030286-3853-4db3-e8ce-3d7740e1b791"
      },
      "execution_count": null,
      "outputs": [
        {
          "output_type": "stream",
          "name": "stdout",
          "text": [
            "'Hello world'\n"
          ]
        }
      ]
    },
    {
      "cell_type": "code",
      "source": [
        "print('''Hello\n",
        "world''')"
      ],
      "metadata": {
        "colab": {
          "base_uri": "https://localhost:8080/"
        },
        "id": "CUIQqNNx6Gc6",
        "outputId": "ec74032c-7b7a-47c1-b64e-665f7c16ba71"
      },
      "execution_count": null,
      "outputs": [
        {
          "output_type": "stream",
          "name": "stdout",
          "text": [
            "Hello\n",
            "world\n"
          ]
        }
      ]
    },
    {
      "cell_type": "code",
      "source": [
        "strVar= 'Hello world'"
      ],
      "metadata": {
        "id": "qSWcGfJS6Vhz"
      },
      "execution_count": null,
      "outputs": []
    },
    {
      "cell_type": "code",
      "source": [
        "print(strVar)\n"
      ],
      "metadata": {
        "colab": {
          "base_uri": "https://localhost:8080/"
        },
        "id": "9pHIupUO6jak",
        "outputId": "e9297f72-0e34-4ba4-a0c4-404a786cd3a0"
      },
      "execution_count": null,
      "outputs": [
        {
          "output_type": "stream",
          "name": "stdout",
          "text": [
            "Hello world\n"
          ]
        }
      ]
    },
    {
      "cell_type": "markdown",
      "source": [
        "## Boolean Variables"
      ],
      "metadata": {
        "id": "u7ghD73h7Qvk"
      }
    },
    {
      "cell_type": "code",
      "source": [
        "True"
      ],
      "metadata": {
        "colab": {
          "base_uri": "https://localhost:8080/"
        },
        "id": "ol2szfTr7SzU",
        "outputId": "0dea0bad-8df3-475c-aa66-857637119ebf"
      },
      "execution_count": null,
      "outputs": [
        {
          "output_type": "execute_result",
          "data": {
            "text/plain": [
              "True"
            ]
          },
          "metadata": {},
          "execution_count": 24
        }
      ]
    },
    {
      "cell_type": "code",
      "source": [
        "False"
      ],
      "metadata": {
        "colab": {
          "base_uri": "https://localhost:8080/"
        },
        "id": "o3TZX4dt7biN",
        "outputId": "5ce922f5-08c8-4d57-b5e8-7c5b62dc73f1"
      },
      "execution_count": null,
      "outputs": [
        {
          "output_type": "execute_result",
          "data": {
            "text/plain": [
              "False"
            ]
          },
          "metadata": {},
          "execution_count": 25
        }
      ]
    },
    {
      "cell_type": "code",
      "source": [
        "\n",
        "if intVar>floatVar:\n",
        "  print(\"this is true\")\n",
        "  print(intVar*floatVar)\n",
        "else:\n",
        "  print(\"condition was false\")"
      ],
      "metadata": {
        "colab": {
          "base_uri": "https://localhost:8080/"
        },
        "id": "uinshlva7dgu",
        "outputId": "e7f3cc0a-0dc1-4ff9-de43-826a7c8ec73f"
      },
      "execution_count": null,
      "outputs": [
        {
          "output_type": "stream",
          "name": "stdout",
          "text": [
            "condition was false\n"
          ]
        }
      ]
    },
    {
      "cell_type": "code",
      "source": [
        "# == is equal?\n",
        "print(intVar==floatVar)\n",
        "# > greater\n",
        "print(intVar>floatVar)\n",
        "# < greater\n",
        "print(intVar<floatVar)\n",
        "# != not equal\n",
        "print(intVar!=floatVar)"
      ],
      "metadata": {
        "colab": {
          "base_uri": "https://localhost:8080/"
        },
        "id": "p8RSQP3A8F55",
        "outputId": "43dca9a7-22e2-4eb6-c2f3-718038ef7112"
      },
      "execution_count": null,
      "outputs": [
        {
          "output_type": "stream",
          "name": "stdout",
          "text": [
            "True\n",
            "False\n",
            "False\n",
            "False\n"
          ]
        }
      ]
    },
    {
      "cell_type": "code",
      "source": [
        "# | is logical OR\n",
        "(intVar>floatVar) | (intVar==floatVar)\n",
        "# & is logical AND\n",
        "(intVar>floatVar) & (intVar==floatVar)"
      ],
      "metadata": {
        "colab": {
          "base_uri": "https://localhost:8080/"
        },
        "id": "DcjXNH7N-D1S",
        "outputId": "169a48b1-6f90-4d8d-c9bc-f71dcd846a63"
      },
      "execution_count": null,
      "outputs": [
        {
          "output_type": "execute_result",
          "data": {
            "text/plain": [
              "False"
            ]
          },
          "metadata": {},
          "execution_count": 38
        }
      ]
    },
    {
      "cell_type": "code",
      "source": [
        "False==0"
      ],
      "metadata": {
        "colab": {
          "base_uri": "https://localhost:8080/"
        },
        "id": "HhLQqmte-OjU",
        "outputId": "22d03ed5-8f60-433b-f815-3ea1b21d0d7f"
      },
      "execution_count": null,
      "outputs": [
        {
          "output_type": "execute_result",
          "data": {
            "text/plain": [
              "True"
            ]
          },
          "metadata": {},
          "execution_count": 39
        }
      ]
    },
    {
      "cell_type": "code",
      "source": [
        "True==1"
      ],
      "metadata": {
        "colab": {
          "base_uri": "https://localhost:8080/"
        },
        "id": "z1IIAL6K-lOP",
        "outputId": "8101dfcb-1ecb-495f-8d74-f0d01c142410"
      },
      "execution_count": null,
      "outputs": [
        {
          "output_type": "execute_result",
          "data": {
            "text/plain": [
              "True"
            ]
          },
          "metadata": {},
          "execution_count": 41
        }
      ]
    },
    {
      "cell_type": "code",
      "source": [
        "# Instead of logical AND & I can use *\n",
        "if (intVar>floatVar) * (intVar==floatVar):\n",
        "  print(\"True\")\n",
        "else: \n",
        "  print(\"False\")"
      ],
      "metadata": {
        "colab": {
          "base_uri": "https://localhost:8080/"
        },
        "id": "G2ESsodW-m6I",
        "outputId": "4fe2c606-70d9-47f8-9587-08b4f72287a4"
      },
      "execution_count": null,
      "outputs": [
        {
          "output_type": "stream",
          "name": "stdout",
          "text": [
            "False\n"
          ]
        }
      ]
    },
    {
      "cell_type": "code",
      "source": [
        "# Instead of logical OR | I can use +\n",
        "if (intVar>floatVar) + (intVar==floatVar):\n",
        "  print(\"True\")\n",
        "else: \n",
        "  print(\"False\")"
      ],
      "metadata": {
        "colab": {
          "base_uri": "https://localhost:8080/"
        },
        "id": "z30Ig0Iz-zdp",
        "outputId": "8fcc7aeb-aee0-4bf7-e82e-a9888a5d26b6"
      },
      "execution_count": null,
      "outputs": [
        {
          "output_type": "stream",
          "name": "stdout",
          "text": [
            "True\n"
          ]
        }
      ]
    },
    {
      "cell_type": "markdown",
      "source": [
        "##Loop"
      ],
      "metadata": {
        "id": "ohvPQm-WBf_z"
      }
    },
    {
      "cell_type": "code",
      "source": [
        "for i in range(1,10,3):\n",
        "  print(i)"
      ],
      "metadata": {
        "colab": {
          "base_uri": "https://localhost:8080/"
        },
        "id": "Nzw9IKLnBY0S",
        "outputId": "65395708-0275-4532-e15c-6b0b1ed96f83"
      },
      "execution_count": null,
      "outputs": [
        {
          "output_type": "stream",
          "name": "stdout",
          "text": [
            "1\n",
            "4\n",
            "7\n"
          ]
        }
      ]
    },
    {
      "cell_type": "markdown",
      "source": [
        "#2) Variable as objects"
      ],
      "metadata": {
        "id": "MV7SM4qUCZaD"
      }
    },
    {
      "cell_type": "code",
      "source": [
        "strVar=\"hello world\"\n"
      ],
      "metadata": {
        "id": "vqB4d_PfCrFe"
      },
      "execution_count": null,
      "outputs": []
    },
    {
      "cell_type": "code",
      "source": [
        "#capitalize puts first capital letter\n",
        "strVar.capitalize()\n"
      ],
      "metadata": {
        "colab": {
          "base_uri": "https://localhost:8080/",
          "height": 35
        },
        "id": "9xsIDPgCBxeV",
        "outputId": "03f59f60-6e1c-423a-d29d-7f9ab23b2b93"
      },
      "execution_count": null,
      "outputs": [
        {
          "output_type": "execute_result",
          "data": {
            "text/plain": [
              "'Hello world'"
            ],
            "application/vnd.google.colaboratory.intrinsic+json": {
              "type": "string"
            }
          },
          "metadata": {},
          "execution_count": 54
        }
      ]
    },
    {
      "cell_type": "code",
      "source": [
        "#upper turns all the letters in capital letters\n",
        "strVar.upper()"
      ],
      "metadata": {
        "colab": {
          "base_uri": "https://localhost:8080/",
          "height": 35
        },
        "id": "bNw-UDFZC-wr",
        "outputId": "f0ad2586-3586-4974-caba-2a16cbc2d681"
      },
      "execution_count": null,
      "outputs": [
        {
          "output_type": "execute_result",
          "data": {
            "text/plain": [
              "'HELLO WORLD'"
            ],
            "application/vnd.google.colaboratory.intrinsic+json": {
              "type": "string"
            }
          },
          "metadata": {},
          "execution_count": 55
        }
      ]
    },
    {
      "cell_type": "code",
      "source": [
        "#isdigit verifies if string is a number\n",
        "strVar.isdigit()"
      ],
      "metadata": {
        "colab": {
          "base_uri": "https://localhost:8080/"
        },
        "id": "bJ8jTeM5DI7A",
        "outputId": "ce85a191-e130-4966-d77b-e62f6eeeb30c"
      },
      "execution_count": null,
      "outputs": [
        {
          "output_type": "execute_result",
          "data": {
            "text/plain": [
              "False"
            ]
          },
          "metadata": {},
          "execution_count": 57
        }
      ]
    },
    {
      "cell_type": "code",
      "source": [
        "\"3\".isdigit()"
      ],
      "metadata": {
        "colab": {
          "base_uri": "https://localhost:8080/"
        },
        "id": "Fml5f7EKDMSX",
        "outputId": "df8631be-ceff-400b-fe56-166487193c01"
      },
      "execution_count": null,
      "outputs": [
        {
          "output_type": "execute_result",
          "data": {
            "text/plain": [
              "True"
            ]
          },
          "metadata": {},
          "execution_count": 58
        }
      ]
    },
    {
      "cell_type": "code",
      "source": [
        "floatVar.is_integer()"
      ],
      "metadata": {
        "colab": {
          "base_uri": "https://localhost:8080/"
        },
        "id": "Z-rLITuqDZIU",
        "outputId": "59956e1c-afbd-4742-b4ce-aa223f8e5650"
      },
      "execution_count": null,
      "outputs": [
        {
          "output_type": "execute_result",
          "data": {
            "text/plain": [
              "True"
            ]
          },
          "metadata": {},
          "execution_count": 59
        }
      ]
    },
    {
      "cell_type": "markdown",
      "source": [
        "#3) List"
      ],
      "metadata": {
        "id": "sBiA5XHwEkO2"
      }
    },
    {
      "cell_type": "code",
      "source": [
        "listVar=[intVar, floatVar, strVar, 0, True]\n",
        "listVar"
      ],
      "metadata": {
        "colab": {
          "base_uri": "https://localhost:8080/"
        },
        "id": "iHgvARfGDsMv",
        "outputId": "746fe17d-2bbd-4d9a-db3c-252a22060714"
      },
      "execution_count": null,
      "outputs": [
        {
          "output_type": "execute_result",
          "data": {
            "text/plain": [
              "[3, 3.0, 'hello world', 0, True]"
            ]
          },
          "metadata": {},
          "execution_count": 61
        }
      ]
    },
    {
      "cell_type": "code",
      "source": [
        "#append adds elements at the end of the string\n",
        "listVar.append(11)\n",
        "listVar"
      ],
      "metadata": {
        "colab": {
          "base_uri": "https://localhost:8080/"
        },
        "id": "isdsPuhoE55E",
        "outputId": "d07a9643-d93f-48d9-9b4a-9bb4b22c212f"
      },
      "execution_count": null,
      "outputs": [
        {
          "output_type": "execute_result",
          "data": {
            "text/plain": [
              "[3, 3.0, 'hello world', 0, True, 11]"
            ]
          },
          "metadata": {},
          "execution_count": 62
        }
      ]
    },
    {
      "cell_type": "code",
      "source": [
        "listVar[0]"
      ],
      "metadata": {
        "colab": {
          "base_uri": "https://localhost:8080/"
        },
        "id": "fkSIxERJFFVf",
        "outputId": "d920db64-a9d0-432c-803b-959cf6f0fa3c"
      },
      "execution_count": null,
      "outputs": [
        {
          "output_type": "execute_result",
          "data": {
            "text/plain": [
              "3"
            ]
          },
          "metadata": {},
          "execution_count": 63
        }
      ]
    },
    {
      "cell_type": "code",
      "source": [
        "strVar[0]"
      ],
      "metadata": {
        "colab": {
          "base_uri": "https://localhost:8080/",
          "height": 35
        },
        "id": "Tpc9murzFTR9",
        "outputId": "2d96d00c-5b01-4b47-d4c0-b968090b6f82"
      },
      "execution_count": null,
      "outputs": [
        {
          "output_type": "execute_result",
          "data": {
            "text/plain": [
              "'h'"
            ],
            "application/vnd.google.colaboratory.intrinsic+json": {
              "type": "string"
            }
          },
          "metadata": {},
          "execution_count": 64
        }
      ]
    },
    {
      "cell_type": "code",
      "source": [
        "'h' in strVar"
      ],
      "metadata": {
        "colab": {
          "base_uri": "https://localhost:8080/"
        },
        "id": "_YE3gXvOFV_K",
        "outputId": "ca03f69c-8ebf-447c-b3ed-9624b88df3fc"
      },
      "execution_count": null,
      "outputs": [
        {
          "output_type": "execute_result",
          "data": {
            "text/plain": [
              "True"
            ]
          },
          "metadata": {},
          "execution_count": 65
        }
      ]
    },
    {
      "cell_type": "code",
      "source": [
        "3 in listVar"
      ],
      "metadata": {
        "colab": {
          "base_uri": "https://localhost:8080/"
        },
        "id": "mwAFEOqyFiPJ",
        "outputId": "00e5ae55-a805-4bf1-9cfa-55e929d48afe"
      },
      "execution_count": null,
      "outputs": [
        {
          "output_type": "execute_result",
          "data": {
            "text/plain": [
              "True"
            ]
          },
          "metadata": {},
          "execution_count": 66
        }
      ]
    },
    {
      "cell_type": "code",
      "source": [
        "64 in listVar"
      ],
      "metadata": {
        "colab": {
          "base_uri": "https://localhost:8080/"
        },
        "id": "0eWQdUc_FkiZ",
        "outputId": "237091ea-16a2-472c-efff-9730ff1e27ea"
      },
      "execution_count": null,
      "outputs": [
        {
          "output_type": "execute_result",
          "data": {
            "text/plain": [
              "False"
            ]
          },
          "metadata": {},
          "execution_count": 67
        }
      ]
    },
    {
      "cell_type": "code",
      "source": [
        "listVar\n"
      ],
      "metadata": {
        "colab": {
          "base_uri": "https://localhost:8080/"
        },
        "id": "hzn0YrtlFmkV",
        "outputId": "d368f3e7-1f35-4685-ebd0-4cdb7553aeb8"
      },
      "execution_count": null,
      "outputs": [
        {
          "output_type": "execute_result",
          "data": {
            "text/plain": [
              "[3, 3.0, 'hello world', 0, True, 11]"
            ]
          },
          "metadata": {},
          "execution_count": 68
        }
      ]
    },
    {
      "cell_type": "code",
      "source": [
        "listVar[1]=9"
      ],
      "metadata": {
        "id": "VGSMMPgdFrZw"
      },
      "execution_count": null,
      "outputs": []
    },
    {
      "cell_type": "code",
      "source": [
        "listVar"
      ],
      "metadata": {
        "colab": {
          "base_uri": "https://localhost:8080/"
        },
        "id": "OPOuQfscF029",
        "outputId": "086cf2ec-afc3-4eec-a296-10af66ed8499"
      },
      "execution_count": null,
      "outputs": [
        {
          "output_type": "execute_result",
          "data": {
            "text/plain": [
              "[3, 9, 'hello world', 0, True, 11]"
            ]
          },
          "metadata": {},
          "execution_count": 70
        }
      ]
    },
    {
      "cell_type": "code",
      "source": [
        "strVar[0]=\"H\""
      ],
      "metadata": {
        "colab": {
          "base_uri": "https://localhost:8080/",
          "height": 166
        },
        "id": "Gzgyj1MOF2hE",
        "outputId": "93d47637-42d3-4d36-a485-5e5fc7eafa0f"
      },
      "execution_count": null,
      "outputs": [
        {
          "output_type": "error",
          "ename": "TypeError",
          "evalue": "ignored",
          "traceback": [
            "\u001b[0;31m---------------------------------------------------------------------------\u001b[0m",
            "\u001b[0;31mTypeError\u001b[0m                                 Traceback (most recent call last)",
            "\u001b[0;32m<ipython-input-71-dda17d166022>\u001b[0m in \u001b[0;36m<module>\u001b[0;34m\u001b[0m\n\u001b[0;32m----> 1\u001b[0;31m \u001b[0mstrVar\u001b[0m\u001b[0;34m[\u001b[0m\u001b[0;36m0\u001b[0m\u001b[0;34m]\u001b[0m\u001b[0;34m=\u001b[0m\u001b[0;34m\"H\"\u001b[0m\u001b[0;34m\u001b[0m\u001b[0;34m\u001b[0m\u001b[0m\n\u001b[0m",
            "\u001b[0;31mTypeError\u001b[0m: 'str' object does not support item assignment"
          ]
        }
      ]
    },
    {
      "cell_type": "markdown",
      "source": [
        "#4) Exercise: Wordle"
      ],
      "metadata": {
        "id": "dXO-sNg6GKjQ"
      }
    },
    {
      "cell_type": "code",
      "source": [
        "target=\"yyyyy\""
      ],
      "metadata": {
        "id": "3rMIUNNBF642"
      },
      "execution_count": null,
      "outputs": []
    },
    {
      "cell_type": "code",
      "source": [
        "guess=\"xxxxx\""
      ],
      "metadata": {
        "id": "sCz_RGdAGRVD"
      },
      "execution_count": null,
      "outputs": []
    },
    {
      "cell_type": "code",
      "source": [
        "target=\"ERROR\"\n",
        "guess=\"Acres\"\n",
        "if len(guess)!=5 | len(target)!=5:\n",
        "  print('Illegal word')\n",
        "else:\n",
        "  target=target.upper()\n",
        "  guess=guess.upper()\n",
        "  output=[]\n",
        "  for i in range (0,5):\n",
        "    if guess[i] in target:\n",
        "      if guess[i]==target[i]:\n",
        "        output.append(guess[i])\n",
        "      else:\n",
        "       output.append('*')\n",
        "    else:\n",
        "      output.append('_')\n",
        "  print(\" \".join(output))"
      ],
      "metadata": {
        "colab": {
          "base_uri": "https://localhost:8080/"
        },
        "id": "eE1U9mbkG8Iu",
        "outputId": "2868b45a-89fa-49e9-f748-601aa61b018e"
      },
      "execution_count": null,
      "outputs": [
        {
          "output_type": "stream",
          "name": "stdout",
          "text": [
            "_ _ R * _\n"
          ]
        }
      ]
    },
    {
      "cell_type": "markdown",
      "source": [
        "#5) Functions"
      ],
      "metadata": {
        "id": "dfMNE0IkPAAu"
      }
    },
    {
      "cell_type": "code",
      "source": [
        "def wordle(guess):\n",
        "  \"\"\"\n",
        "  A function that checks a word guess against a target\n",
        "  Input: \n",
        "    guess: a string\n",
        "  Return:\n",
        "    a string\n",
        "  \"\"\"\n",
        "  target=\"ERROR\"\n",
        "\n",
        "  if len(guess)!=5 | len(target)!=5:\n",
        "    print('Illegal word')\n",
        "  else:\n",
        "    target=target.upper()\n",
        "    guess=guess.upper()\n",
        "    output=[]\n",
        "    for i in range (0,5):\n",
        "      if guess[i] in target:\n",
        "        if guess[i]==target[i]:\n",
        "          output.append(guess[i])\n",
        "        else:\n",
        "          output.append('*')\n",
        "      else:\n",
        "        output.append('_')\n",
        "    print(\" \".join(output))"
      ],
      "metadata": {
        "id": "75ZZBhjTJxHo"
      },
      "execution_count": null,
      "outputs": []
    },
    {
      "cell_type": "code",
      "source": [
        "wordle?"
      ],
      "metadata": {
        "id": "0ifVYUeuQivc"
      },
      "execution_count": null,
      "outputs": []
    },
    {
      "cell_type": "code",
      "source": [
        "wordle('bugia')"
      ],
      "metadata": {
        "colab": {
          "base_uri": "https://localhost:8080/"
        },
        "id": "5v__TK89RPQy",
        "outputId": "dae7b958-850a-4c13-e0fb-47539f649f58"
      },
      "execution_count": null,
      "outputs": [
        {
          "output_type": "stream",
          "name": "stdout",
          "text": [
            "_ _ _ _ _\n"
          ]
        }
      ]
    },
    {
      "cell_type": "markdown",
      "source": [
        "#6) Importing packages"
      ],
      "metadata": {
        "id": "RshBSCrySI3J"
      }
    },
    {
      "cell_type": "markdown",
      "source": [
        "Typical packages that we'll see:\n",
        "##pandas\n",
        "manipulation of tabular data\n",
        "##numpy \n",
        "manipulation of numerical data\n",
        "##scipy\n",
        "statistica (also statsmodels)\n",
        "##matplotlib(pylab)\n",
        "visualizations and plotting\n",
        "##sklearn(scikitlearn)\n",
        "machine learning\n",
        "##tensorflow\n",
        "neural networks"
      ],
      "metadata": {
        "id": "p9oZZKNlSfTl"
      }
    },
    {
      "cell_type": "code",
      "source": [
        "import pandas as pd\n",
        "# from pandas import * # never !\n",
        "#cvs='comma separated values'"
      ],
      "metadata": {
        "id": "wTw5gQMIRRw1"
      },
      "execution_count": null,
      "outputs": []
    },
    {
      "cell_type": "code",
      "source": [
        "url=\"https://raw.githubusercontent.com/fedhere/PyBOOT/master/311_Service_Requests_from_2010_to_Present.csv\""
      ],
      "metadata": {
        "id": "FRaju5L2TFNS"
      },
      "execution_count": null,
      "outputs": []
    },
    {
      "cell_type": "code",
      "source": [
        "#shows file (url)\n",
        "df=pd.read_csv(url)"
      ],
      "metadata": {
        "id": "tPNXK5D4VNIc"
      },
      "execution_count": null,
      "outputs": []
    },
    {
      "cell_type": "code",
      "source": [
        "#dimensions of file matrix\n",
        "df.shape\n"
      ],
      "metadata": {
        "colab": {
          "base_uri": "https://localhost:8080/"
        },
        "id": "ZJfBcM1tVSrp",
        "outputId": "2203b04f-7da5-4ba0-a0ac-5d59f65f51c0"
      },
      "execution_count": null,
      "outputs": [
        {
          "output_type": "execute_result",
          "data": {
            "text/plain": [
              "(924, 41)"
            ]
          },
          "metadata": {},
          "execution_count": 126
        }
      ]
    },
    {
      "cell_type": "code",
      "source": [
        "#property/name of each column\n",
        "df.columns"
      ],
      "metadata": {
        "colab": {
          "base_uri": "https://localhost:8080/"
        },
        "id": "LI3-QkxYVel4",
        "outputId": "6ae6ca0c-cb13-42e5-f94c-3a6d987d9dee"
      },
      "execution_count": null,
      "outputs": [
        {
          "output_type": "execute_result",
          "data": {
            "text/plain": [
              "Index(['Unique Key', 'Created Date', 'Closed Date', 'Agency', 'Agency Name',\n",
              "       'Complaint Type', 'Descriptor', 'Location Type', 'Incident Zip',\n",
              "       'Incident Address', 'Street Name', 'Cross Street 1', 'Cross Street 2',\n",
              "       'Intersection Street 1', 'Intersection Street 2', 'Address Type',\n",
              "       'City', 'Landmark', 'Facility Type', 'Status', 'Due Date',\n",
              "       'Resolution Description', 'Resolution Action Updated Date',\n",
              "       'Community Board', 'BBL', 'Borough', 'X Coordinate (State Plane)',\n",
              "       'Y Coordinate (State Plane)', 'Open Data Channel Type',\n",
              "       'Park Facility Name', 'Park Borough', 'Vehicle Type',\n",
              "       'Taxi Company Borough', 'Taxi Pick Up Location', 'Bridge Highway Name',\n",
              "       'Bridge Highway Direction', 'Road Ramp', 'Bridge Highway Segment',\n",
              "       'Latitude', 'Longitude', 'Location'],\n",
              "      dtype='object')"
            ]
          },
          "metadata": {},
          "execution_count": 127
        }
      ]
    },
    {
      "cell_type": "code",
      "source": [
        "#estrapolates first line dataframes\n",
        "df.iloc[0]"
      ],
      "metadata": {
        "colab": {
          "base_uri": "https://localhost:8080/"
        },
        "id": "LIMrguiOV4wA",
        "outputId": "1163ead1-43fb-41d5-d686-5e7e08f62ac3"
      },
      "execution_count": null,
      "outputs": [
        {
          "output_type": "execute_result",
          "data": {
            "text/plain": [
              "Unique Key                                                       54049402\n",
              "Created Date                                       05/01/2022 12:00:03 AM\n",
              "Closed Date                                                           NaN\n",
              "Agency                                                               NYPD\n",
              "Agency Name                               New York City Police Department\n",
              "Complaint Type                                        Noise - Residential\n",
              "Descriptor                                               Loud Music/Party\n",
              "Location Type                                  Residential Building/House\n",
              "Incident Zip                                                      10452.0\n",
              "Incident Address                                       1006 GERARD AVENUE\n",
              "Street Name                                                 GERARD AVENUE\n",
              "Cross Street 1                                           EAST  164 STREET\n",
              "Cross Street 2                                           EAST  165 STREET\n",
              "Intersection Street 1                                    EAST  164 STREET\n",
              "Intersection Street 2                                    EAST  165 STREET\n",
              "Address Type                                                      ADDRESS\n",
              "City                                                                BRONX\n",
              "Landmark                                                    GERARD AVENUE\n",
              "Facility Type                                                         NaN\n",
              "Status                                                        In Progress\n",
              "Due Date                                                              NaN\n",
              "Resolution Description                                                NaN\n",
              "Resolution Action Updated Date                                        NaN\n",
              "Community Board                                                  04 BRONX\n",
              "BBL                                                          2024770001.0\n",
              "Borough                                                             BRONX\n",
              "X Coordinate (State Plane)                                      1005536.0\n",
              "Y Coordinate (State Plane)                                       241916.0\n",
              "Open Data Channel Type                                             ONLINE\n",
              "Park Facility Name                                            Unspecified\n",
              "Park Borough                                                        BRONX\n",
              "Vehicle Type                                                          NaN\n",
              "Taxi Company Borough                                                  NaN\n",
              "Taxi Pick Up Location                                                 NaN\n",
              "Bridge Highway Name                                                   NaN\n",
              "Bridge Highway Direction                                              NaN\n",
              "Road Ramp                                                             NaN\n",
              "Bridge Highway Segment                                                NaN\n",
              "Latitude                                                        40.830653\n",
              "Longitude                                                      -73.923082\n",
              "Location                          (40.83065331987539, -73.92308231033165)\n",
              "Name: 0, dtype: object"
            ]
          },
          "metadata": {},
          "execution_count": 128
        }
      ]
    },
    {
      "cell_type": "code",
      "source": [
        "df.loc[:,'Created Date']"
      ],
      "metadata": {
        "colab": {
          "base_uri": "https://localhost:8080/"
        },
        "id": "PYZQXFheWm4I",
        "outputId": "35210871-6a18-4a0a-8701-7d5b64b1f0ac"
      },
      "execution_count": null,
      "outputs": [
        {
          "output_type": "execute_result",
          "data": {
            "text/plain": [
              "0      05/01/2022 12:00:03 AM\n",
              "1      05/01/2022 12:00:09 AM\n",
              "2      05/01/2022 12:00:17 AM\n",
              "3      05/01/2022 12:00:21 AM\n",
              "4      05/01/2022 12:00:25 AM\n",
              "                ...          \n",
              "919    05/01/2022 02:04:45 AM\n",
              "920    05/01/2022 02:05:35 AM\n",
              "921    05/01/2022 02:05:38 AM\n",
              "922    05/01/2022 02:06:13 AM\n",
              "923    05/01/2022 02:06:26 AM\n",
              "Name: Created Date, Length: 924, dtype: object"
            ]
          },
          "metadata": {},
          "execution_count": 132
        }
      ]
    },
    {
      "cell_type": "code",
      "source": [
        "url=\"https://raw.githubusercontent.com/fedhere/UInotebooks/master/dataWrangling/movies.dat\""
      ],
      "metadata": {
        "id": "AzMBswh5W6C6"
      },
      "execution_count": null,
      "outputs": []
    },
    {
      "cell_type": "code",
      "source": [
        "colnames=['Title', 'Genre']\n",
        "pd.read_csv(url, sep=\"::\", index_col=0, header=None, names=colnames)\n",
        "#header=first line with name of columns"
      ],
      "metadata": {
        "colab": {
          "base_uri": "https://localhost:8080/",
          "height": 423
        },
        "id": "o2bxl6eBXnCl",
        "outputId": "48f2901d-a6b2-403b-85b2-125bc85d53e8"
      },
      "execution_count": null,
      "outputs": [
        {
          "output_type": "execute_result",
          "data": {
            "text/plain": [
              "                                   Title                         Genre\n",
              "1                       Toy Story (1995)   Animation|Children's|Comedy\n",
              "2                         Jumanji (1995)  Adventure|Children's|Fantasy\n",
              "3                Grumpier Old Men (1995)                Comedy|Romance\n",
              "4               Waiting to Exhale (1995)                  Comedy|Drama\n",
              "5     Father of the Bride Part II (1995)                        Comedy\n",
              "...                                  ...                           ...\n",
              "3948             Meet the Parents (2000)                        Comedy\n",
              "3949          Requiem for a Dream (2000)                         Drama\n",
              "3950                    Tigerland (2000)                         Drama\n",
              "3951             Two Family House (2000)                         Drama\n",
              "3952               Contender, The (2000)                Drama|Thriller\n",
              "\n",
              "[3883 rows x 2 columns]"
            ],
            "text/html": [
              "\n",
              "  <div id=\"df-512ef390-94c7-447f-9863-7a2a0ab57b39\">\n",
              "    <div class=\"colab-df-container\">\n",
              "      <div>\n",
              "<style scoped>\n",
              "    .dataframe tbody tr th:only-of-type {\n",
              "        vertical-align: middle;\n",
              "    }\n",
              "\n",
              "    .dataframe tbody tr th {\n",
              "        vertical-align: top;\n",
              "    }\n",
              "\n",
              "    .dataframe thead th {\n",
              "        text-align: right;\n",
              "    }\n",
              "</style>\n",
              "<table border=\"1\" class=\"dataframe\">\n",
              "  <thead>\n",
              "    <tr style=\"text-align: right;\">\n",
              "      <th></th>\n",
              "      <th>Title</th>\n",
              "      <th>Genre</th>\n",
              "    </tr>\n",
              "  </thead>\n",
              "  <tbody>\n",
              "    <tr>\n",
              "      <th>1</th>\n",
              "      <td>Toy Story (1995)</td>\n",
              "      <td>Animation|Children's|Comedy</td>\n",
              "    </tr>\n",
              "    <tr>\n",
              "      <th>2</th>\n",
              "      <td>Jumanji (1995)</td>\n",
              "      <td>Adventure|Children's|Fantasy</td>\n",
              "    </tr>\n",
              "    <tr>\n",
              "      <th>3</th>\n",
              "      <td>Grumpier Old Men (1995)</td>\n",
              "      <td>Comedy|Romance</td>\n",
              "    </tr>\n",
              "    <tr>\n",
              "      <th>4</th>\n",
              "      <td>Waiting to Exhale (1995)</td>\n",
              "      <td>Comedy|Drama</td>\n",
              "    </tr>\n",
              "    <tr>\n",
              "      <th>5</th>\n",
              "      <td>Father of the Bride Part II (1995)</td>\n",
              "      <td>Comedy</td>\n",
              "    </tr>\n",
              "    <tr>\n",
              "      <th>...</th>\n",
              "      <td>...</td>\n",
              "      <td>...</td>\n",
              "    </tr>\n",
              "    <tr>\n",
              "      <th>3948</th>\n",
              "      <td>Meet the Parents (2000)</td>\n",
              "      <td>Comedy</td>\n",
              "    </tr>\n",
              "    <tr>\n",
              "      <th>3949</th>\n",
              "      <td>Requiem for a Dream (2000)</td>\n",
              "      <td>Drama</td>\n",
              "    </tr>\n",
              "    <tr>\n",
              "      <th>3950</th>\n",
              "      <td>Tigerland (2000)</td>\n",
              "      <td>Drama</td>\n",
              "    </tr>\n",
              "    <tr>\n",
              "      <th>3951</th>\n",
              "      <td>Two Family House (2000)</td>\n",
              "      <td>Drama</td>\n",
              "    </tr>\n",
              "    <tr>\n",
              "      <th>3952</th>\n",
              "      <td>Contender, The (2000)</td>\n",
              "      <td>Drama|Thriller</td>\n",
              "    </tr>\n",
              "  </tbody>\n",
              "</table>\n",
              "<p>3883 rows × 2 columns</p>\n",
              "</div>\n",
              "      <button class=\"colab-df-convert\" onclick=\"convertToInteractive('df-512ef390-94c7-447f-9863-7a2a0ab57b39')\"\n",
              "              title=\"Convert this dataframe to an interactive table.\"\n",
              "              style=\"display:none;\">\n",
              "        \n",
              "  <svg xmlns=\"http://www.w3.org/2000/svg\" height=\"24px\"viewBox=\"0 0 24 24\"\n",
              "       width=\"24px\">\n",
              "    <path d=\"M0 0h24v24H0V0z\" fill=\"none\"/>\n",
              "    <path d=\"M18.56 5.44l.94 2.06.94-2.06 2.06-.94-2.06-.94-.94-2.06-.94 2.06-2.06.94zm-11 1L8.5 8.5l.94-2.06 2.06-.94-2.06-.94L8.5 2.5l-.94 2.06-2.06.94zm10 10l.94 2.06.94-2.06 2.06-.94-2.06-.94-.94-2.06-.94 2.06-2.06.94z\"/><path d=\"M17.41 7.96l-1.37-1.37c-.4-.4-.92-.59-1.43-.59-.52 0-1.04.2-1.43.59L10.3 9.45l-7.72 7.72c-.78.78-.78 2.05 0 2.83L4 21.41c.39.39.9.59 1.41.59.51 0 1.02-.2 1.41-.59l7.78-7.78 2.81-2.81c.8-.78.8-2.07 0-2.86zM5.41 20L4 18.59l7.72-7.72 1.47 1.35L5.41 20z\"/>\n",
              "  </svg>\n",
              "      </button>\n",
              "      \n",
              "  <style>\n",
              "    .colab-df-container {\n",
              "      display:flex;\n",
              "      flex-wrap:wrap;\n",
              "      gap: 12px;\n",
              "    }\n",
              "\n",
              "    .colab-df-convert {\n",
              "      background-color: #E8F0FE;\n",
              "      border: none;\n",
              "      border-radius: 50%;\n",
              "      cursor: pointer;\n",
              "      display: none;\n",
              "      fill: #1967D2;\n",
              "      height: 32px;\n",
              "      padding: 0 0 0 0;\n",
              "      width: 32px;\n",
              "    }\n",
              "\n",
              "    .colab-df-convert:hover {\n",
              "      background-color: #E2EBFA;\n",
              "      box-shadow: 0px 1px 2px rgba(60, 64, 67, 0.3), 0px 1px 3px 1px rgba(60, 64, 67, 0.15);\n",
              "      fill: #174EA6;\n",
              "    }\n",
              "\n",
              "    [theme=dark] .colab-df-convert {\n",
              "      background-color: #3B4455;\n",
              "      fill: #D2E3FC;\n",
              "    }\n",
              "\n",
              "    [theme=dark] .colab-df-convert:hover {\n",
              "      background-color: #434B5C;\n",
              "      box-shadow: 0px 1px 3px 1px rgba(0, 0, 0, 0.15);\n",
              "      filter: drop-shadow(0px 1px 2px rgba(0, 0, 0, 0.3));\n",
              "      fill: #FFFFFF;\n",
              "    }\n",
              "  </style>\n",
              "\n",
              "      <script>\n",
              "        const buttonEl =\n",
              "          document.querySelector('#df-512ef390-94c7-447f-9863-7a2a0ab57b39 button.colab-df-convert');\n",
              "        buttonEl.style.display =\n",
              "          google.colab.kernel.accessAllowed ? 'block' : 'none';\n",
              "\n",
              "        async function convertToInteractive(key) {\n",
              "          const element = document.querySelector('#df-512ef390-94c7-447f-9863-7a2a0ab57b39');\n",
              "          const dataTable =\n",
              "            await google.colab.kernel.invokeFunction('convertToInteractive',\n",
              "                                                     [key], {});\n",
              "          if (!dataTable) return;\n",
              "\n",
              "          const docLinkHtml = 'Like what you see? Visit the ' +\n",
              "            '<a target=\"_blank\" href=https://colab.research.google.com/notebooks/data_table.ipynb>data table notebook</a>'\n",
              "            + ' to learn more about interactive tables.';\n",
              "          element.innerHTML = '';\n",
              "          dataTable['output_type'] = 'display_data';\n",
              "          await google.colab.output.renderOutput(dataTable, element);\n",
              "          const docLink = document.createElement('div');\n",
              "          docLink.innerHTML = docLinkHtml;\n",
              "          element.appendChild(docLink);\n",
              "        }\n",
              "      </script>\n",
              "    </div>\n",
              "  </div>\n",
              "  "
            ]
          },
          "metadata": {},
          "execution_count": 147
        }
      ]
    },
    {
      "cell_type": "code",
      "source": [
        "movies.shape"
      ],
      "metadata": {
        "colab": {
          "base_uri": "https://localhost:8080/"
        },
        "id": "wG1ck3DeXsU7",
        "outputId": "b5c131a8-736d-4276-aff8-5178cb3e39ae"
      },
      "execution_count": null,
      "outputs": [
        {
          "output_type": "execute_result",
          "data": {
            "text/plain": [
              "(924, 41)"
            ]
          },
          "metadata": {},
          "execution_count": 141
        }
      ]
    },
    {
      "cell_type": "code",
      "source": [
        "movies.columns"
      ],
      "metadata": {
        "colab": {
          "base_uri": "https://localhost:8080/"
        },
        "id": "EWyBuu0vYvqW",
        "outputId": "d55fc0fc-f3dd-4ff5-b8be-291dc5645319"
      },
      "execution_count": null,
      "outputs": [
        {
          "output_type": "execute_result",
          "data": {
            "text/plain": [
              "Index(['Unique Key', 'Created Date', 'Closed Date', 'Agency', 'Agency Name',\n",
              "       'Complaint Type', 'Descriptor', 'Location Type', 'Incident Zip',\n",
              "       'Incident Address', 'Street Name', 'Cross Street 1', 'Cross Street 2',\n",
              "       'Intersection Street 1', 'Intersection Street 2', 'Address Type',\n",
              "       'City', 'Landmark', 'Facility Type', 'Status', 'Due Date',\n",
              "       'Resolution Description', 'Resolution Action Updated Date',\n",
              "       'Community Board', 'BBL', 'Borough', 'X Coordinate (State Plane)',\n",
              "       'Y Coordinate (State Plane)', 'Open Data Channel Type',\n",
              "       'Park Facility Name', 'Park Borough', 'Vehicle Type',\n",
              "       'Taxi Company Borough', 'Taxi Pick Up Location', 'Bridge Highway Name',\n",
              "       'Bridge Highway Direction', 'Road Ramp', 'Bridge Highway Segment',\n",
              "       'Latitude', 'Longitude', 'Location'],\n",
              "      dtype='object')"
            ]
          },
          "metadata": {},
          "execution_count": 142
        }
      ]
    },
    {
      "cell_type": "code",
      "source": [
        "movies[\"Title\"]"
      ],
      "metadata": {
        "colab": {
          "base_uri": "https://localhost:8080/"
        },
        "id": "87X1eqFJYxG5",
        "outputId": "8e54cd83-bbe4-47e8-ab29-918c6238fcd5"
      },
      "execution_count": null,
      "outputs": [
        {
          "output_type": "execute_result",
          "data": {
            "text/plain": [
              "1                         Toy Story (1995)\n",
              "2                           Jumanji (1995)\n",
              "3                  Grumpier Old Men (1995)\n",
              "4                 Waiting to Exhale (1995)\n",
              "5       Father of the Bride Part II (1995)\n",
              "                       ...                \n",
              "3948               Meet the Parents (2000)\n",
              "3949            Requiem for a Dream (2000)\n",
              "3950                      Tigerland (2000)\n",
              "3951               Two Family House (2000)\n",
              "3952                 Contender, The (2000)\n",
              "Name: Title, Length: 3883, dtype: object"
            ]
          },
          "metadata": {},
          "execution_count": 148
        }
      ]
    },
    {
      "cell_type": "code",
      "source": [
        "movies[\"Genre\"]"
      ],
      "metadata": {
        "colab": {
          "base_uri": "https://localhost:8080/"
        },
        "id": "x91WhXXAZIp7",
        "outputId": "5997f496-1965-4ee8-d935-45b58b169eeb"
      },
      "execution_count": null,
      "outputs": [
        {
          "output_type": "execute_result",
          "data": {
            "text/plain": [
              "1        Animation|Children's|Comedy\n",
              "2       Adventure|Children's|Fantasy\n",
              "3                     Comedy|Romance\n",
              "4                       Comedy|Drama\n",
              "5                             Comedy\n",
              "                    ...             \n",
              "3948                          Comedy\n",
              "3949                           Drama\n",
              "3950                           Drama\n",
              "3951                           Drama\n",
              "3952                  Drama|Thriller\n",
              "Name: Genre, Length: 3883, dtype: object"
            ]
          },
          "metadata": {},
          "execution_count": 149
        }
      ]
    },
    {
      "cell_type": "code",
      "source": [
        "\"Toy Story (1995)\".split()"
      ],
      "metadata": {
        "colab": {
          "base_uri": "https://localhost:8080/"
        },
        "id": "TQ4UY10UZjKb",
        "outputId": "2d2bfb27-d11e-4bb0-9b3b-5135cdaa3db5"
      },
      "execution_count": null,
      "outputs": [
        {
          "output_type": "execute_result",
          "data": {
            "text/plain": [
              "['Toy', 'Story', '(1995)']"
            ]
          },
          "metadata": {},
          "execution_count": 150
        }
      ]
    },
    {
      "cell_type": "code",
      "source": [
        "\"Toy Story (1995)\".split()[2]"
      ],
      "metadata": {
        "colab": {
          "base_uri": "https://localhost:8080/",
          "height": 35
        },
        "id": "2k86cNBsZ1Wf",
        "outputId": "e3a7f6f2-853b-4784-e14a-e405cebc3020"
      },
      "execution_count": null,
      "outputs": [
        {
          "output_type": "execute_result",
          "data": {
            "text/plain": [
              "'(1995)'"
            ],
            "application/vnd.google.colaboratory.intrinsic+json": {
              "type": "string"
            }
          },
          "metadata": {},
          "execution_count": 152
        }
      ]
    },
    {
      "cell_type": "code",
      "source": [
        "\"Toy Story (1995)\".split()[-1]"
      ],
      "metadata": {
        "colab": {
          "base_uri": "https://localhost:8080/",
          "height": 35
        },
        "id": "zGGA4pEaaB-R",
        "outputId": "1bf72e8e-ca1d-467c-d713-d87e1192ad8e"
      },
      "execution_count": null,
      "outputs": [
        {
          "output_type": "execute_result",
          "data": {
            "text/plain": [
              "'(1995)'"
            ],
            "application/vnd.google.colaboratory.intrinsic+json": {
              "type": "string"
            }
          },
          "metadata": {},
          "execution_count": 153
        }
      ]
    },
    {
      "cell_type": "code",
      "source": [
        "\"Toy Story (1995)\".split()[-1].replace(\"(\",\"\").strip(\")\")"
      ],
      "metadata": {
        "colab": {
          "base_uri": "https://localhost:8080/",
          "height": 35
        },
        "id": "GBGxrWwtaM8z",
        "outputId": "b9076c85-7575-44b4-a8dc-2562eca04908"
      },
      "execution_count": null,
      "outputs": [
        {
          "output_type": "execute_result",
          "data": {
            "text/plain": [
              "'1995'"
            ],
            "application/vnd.google.colaboratory.intrinsic+json": {
              "type": "string"
            }
          },
          "metadata": {},
          "execution_count": 154
        }
      ]
    },
    {
      "cell_type": "code",
      "source": [
        "def get_year(mtitle):\n",
        "  \"\"\"\n",
        "  \"\"\"\n",
        "  return int(mtitle.split(\"(\")[-1].strip(\")\"))"
      ],
      "metadata": {
        "id": "-9zFCz3yaYqE"
      },
      "execution_count": null,
      "outputs": []
    },
    {
      "cell_type": "code",
      "source": [
        "movies[\"Title\"].map(get_year)"
      ],
      "metadata": {
        "colab": {
          "base_uri": "https://localhost:8080/"
        },
        "id": "m13VeES7ayus",
        "outputId": "7d88f712-f8ff-4224-9782-34a57d0d3ec9"
      },
      "execution_count": null,
      "outputs": [
        {
          "output_type": "execute_result",
          "data": {
            "text/plain": [
              "1       1995\n",
              "2       1995\n",
              "3       1995\n",
              "4       1995\n",
              "5       1995\n",
              "        ... \n",
              "3948    2000\n",
              "3949    2000\n",
              "3950    2000\n",
              "3951    2000\n",
              "3952    2000\n",
              "Name: Title, Length: 3883, dtype: int64"
            ]
          },
          "metadata": {},
          "execution_count": 164
        }
      ]
    },
    {
      "cell_type": "code",
      "source": [
        "movies.groupby(\"year\").count"
      ],
      "metadata": {
        "colab": {
          "base_uri": "https://localhost:8080/",
          "height": 166
        },
        "id": "To4aOk0wa4Ky",
        "outputId": "a1485723-801a-4c92-c94b-9b9f071971e4"
      },
      "execution_count": null,
      "outputs": [
        {
          "output_type": "error",
          "ename": "NameError",
          "evalue": "ignored",
          "traceback": [
            "\u001b[0;31m---------------------------------------------------------------------------\u001b[0m",
            "\u001b[0;31mNameError\u001b[0m                                 Traceback (most recent call last)",
            "\u001b[0;32m<ipython-input-4-44cb948ee762>\u001b[0m in \u001b[0;36m<module>\u001b[0;34m\u001b[0m\n\u001b[0;32m----> 1\u001b[0;31m \u001b[0mmovies\u001b[0m\u001b[0;34m[\u001b[0m\u001b[0;34m\"Title\"\u001b[0m\u001b[0;34m]\u001b[0m\u001b[0;34m.\u001b[0m\u001b[0mgroupby\u001b[0m\u001b[0;34m(\u001b[0m\u001b[0;34m\"year\"\u001b[0m\u001b[0;34m)\u001b[0m\u001b[0;34m.\u001b[0m\u001b[0mcount\u001b[0m\u001b[0;34m\u001b[0m\u001b[0;34m\u001b[0m\u001b[0m\n\u001b[0m",
            "\u001b[0;31mNameError\u001b[0m: name 'movies' is not defined"
          ]
        }
      ]
    },
    {
      "cell_type": "markdown",
      "source": [
        "##Exercise: sorting movies by genre"
      ],
      "metadata": {
        "id": "0OBz14pqf_2e"
      }
    },
    {
      "cell_type": "code",
      "source": [],
      "metadata": {
        "colab": {
          "base_uri": "https://localhost:8080/",
          "height": 166
        },
        "id": "Igv8xFcFb5yN",
        "outputId": "06dfdec8-4293-4fe5-8e17-48ebc5effc8b"
      },
      "execution_count": 18,
      "outputs": [
        {
          "output_type": "error",
          "ename": "NameError",
          "evalue": "ignored",
          "traceback": [
            "\u001b[0;31m---------------------------------------------------------------------------\u001b[0m",
            "\u001b[0;31mNameError\u001b[0m                                 Traceback (most recent call last)",
            "\u001b[0;32m<ipython-input-18-e8c2b7daefe6>\u001b[0m in \u001b[0;36m<module>\u001b[0;34m\u001b[0m\n\u001b[0;32m----> 1\u001b[0;31m \u001b[0mmovies\u001b[0m\u001b[0;34m[\u001b[0m\u001b[0;34m\"Genre\"\u001b[0m\u001b[0;34m]\u001b[0m\u001b[0;34m\u001b[0m\u001b[0;34m\u001b[0m\u001b[0m\n\u001b[0m",
            "\u001b[0;31mNameError\u001b[0m: name 'movies' is not defined"
          ]
        }
      ]
    },
    {
      "cell_type": "code",
      "source": [
        "import pandas as pd\n",
        "url=\"https://raw.githubusercontent.com/fedhere/UInotebooks/master/dataWrangling/movies.dat\"\n",
        "colnames=['title', 'genres']\n",
        "movies= pd.read_csv(url, sep=\"::\", index_col=0, header=None, names=colnames)"
      ],
      "metadata": {
        "colab": {
          "base_uri": "https://localhost:8080/"
        },
        "id": "pPLD0AORCPPc",
        "outputId": "e28b091d-e188-4a5d-cc2e-8555a40b9acb"
      },
      "execution_count": 8,
      "outputs": [
        {
          "output_type": "stream",
          "name": "stderr",
          "text": [
            "/usr/local/lib/python3.9/dist-packages/pandas/util/_decorators.py:311: ParserWarning: Falling back to the 'python' engine because the 'c' engine does not support regex separators (separators > 1 char and different from '\\s+' are interpreted as regex); you can avoid this warning by specifying engine='python'.\n",
            "  return func(*args, **kwargs)\n"
          ]
        }
      ]
    },
    {
      "cell_type": "code",
      "source": [
        "movies.genres"
      ],
      "metadata": {
        "colab": {
          "base_uri": "https://localhost:8080/"
        },
        "id": "cKoAn_QQGCBn",
        "outputId": "ef27274c-f22a-497f-8c80-7f39b89d0a65"
      },
      "execution_count": 9,
      "outputs": [
        {
          "output_type": "execute_result",
          "data": {
            "text/plain": [
              "1        Animation|Children's|Comedy\n",
              "2       Adventure|Children's|Fantasy\n",
              "3                     Comedy|Romance\n",
              "4                       Comedy|Drama\n",
              "5                             Comedy\n",
              "                    ...             \n",
              "3948                          Comedy\n",
              "3949                           Drama\n",
              "3950                           Drama\n",
              "3951                           Drama\n",
              "3952                  Drama|Thriller\n",
              "Name: genres, Length: 3883, dtype: object"
            ]
          },
          "metadata": {},
          "execution_count": 9
        }
      ]
    },
    {
      "cell_type": "code",
      "source": [
        "len(movies.genres)"
      ],
      "metadata": {
        "colab": {
          "base_uri": "https://localhost:8080/"
        },
        "id": "J6D8npxxhWM0",
        "outputId": "7f0353ec-297d-4f56-efd3-91ddb025bb3d"
      },
      "execution_count": 10,
      "outputs": [
        {
          "output_type": "execute_result",
          "data": {
            "text/plain": [
              "3883"
            ]
          },
          "metadata": {},
          "execution_count": 10
        }
      ]
    },
    {
      "cell_type": "code",
      "source": [
        "#Finds all 'Fantasy' movies\n",
        "c=0;\n",
        "for i in range(len(movies.genres)):\n",
        "  if \"Fantasy\" in movies.genres.iloc[i]:\n",
        "    c+=1\n",
        "print(\"There are\",c,\"Fantasy movies in the list.\")\n",
        "print(\"\")\n",
        "print(\"List of movies with this property:\")\n",
        "print(\"\")\n",
        "for i in range(len(movies.genres)):\n",
        "  if \"Fantasy\" in movies.genres.iloc[i]:\n",
        "    print(movies.title.iloc[i], movies.genres.iloc[i])\n",
        "print(\"--------------------------\")\n",
        "#Finds movies that are just 'Fantasy' \n",
        "d=0;\n",
        "for i in range(len(movies.genres)):\n",
        "  if movies.genres.iloc[i]==\"Fantasy\":\n",
        "    d+=1\n",
        "print(\"There are\",d,\"exclusevely Fantasy movies in the list.\")\n",
        "print(\"\")\n",
        "print(\"List of movies with this property:\")\n",
        "print(\"\")\n",
        "print(movies[movies.genres==\"Fantasy\"])"
      ],
      "metadata": {
        "colab": {
          "base_uri": "https://localhost:8080/"
        },
        "id": "s8AZi9XxGLUo",
        "outputId": "f1c811c1-8f0e-4830-e73e-c3d07b7fc53c"
      },
      "execution_count": 38,
      "outputs": [
        {
          "output_type": "stream",
          "name": "stdout",
          "text": [
            "There are 68 Fantasy movies in the list.\n",
            "\n",
            "List of movies with this property:\n",
            "\n",
            "Jumanji (1995) Adventure|Children's|Fantasy\n",
            "Kids of the Round Table (1995) Adventure|Children's|Fantasy\n",
            "Indian in the Cupboard, The (1995) Adventure|Children's|Fantasy\n",
            "NeverEnding Story III, The (1994) Adventure|Children's|Fantasy\n",
            "Heavenly Creatures (1994) Drama|Fantasy|Romance|Thriller\n",
            "Kid in King Arthur's Court, A (1995) Adventure|Children's|Comedy|Fantasy|Romance\n",
            "Star Wars: Episode IV - A New Hope (1977) Action|Adventure|Fantasy|Sci-Fi\n",
            "Santa Clause, The (1994) Children's|Comedy|Fantasy\n",
            "Mask, The (1994) Comedy|Crime|Fantasy\n",
            "Pagemaster, The (1994) Action|Adventure|Animation|Children's|Fantasy\n",
            "Dragonheart (1996) Action|Adventure|Fantasy\n",
            "Space Jam (1996) Adventure|Animation|Children's|Comedy|Fantasy\n",
            "Nutty Professor, The (1996) Comedy|Fantasy|Romance|Sci-Fi\n",
            "Hungarian Fairy Tale, A (1987) Fantasy\n",
            "Kazaam (1996) Children's|Comedy|Fantasy\n",
            "Bogus (1996) Children's|Drama|Fantasy\n",
            "Escape to Witch Mountain (1975) Adventure|Children's|Fantasy\n",
            "20,000 Leagues Under the Sea (1954) Adventure|Children's|Fantasy|Sci-Fi\n",
            "Willy Wonka and the Chocolate Factory (1971) Adventure|Children's|Comedy|Fantasy\n",
            "E.T. the Extra-Terrestrial (1982) Children's|Drama|Fantasy|Sci-Fi\n",
            "Drop Dead Fred (1991) Comedy|Fantasy\n",
            "Warriors of Virtue (1997) Action|Adventure|Children's|Fantasy\n",
            "Simple Wish, A (1997) Children's|Fantasy\n",
            "FairyTale: A True Story (1997) Children's|Drama|Fantasy\n",
            "Flubber (1997) Children's|Comedy|Fantasy\n",
            "Star Kid (1997) Adventure|Children's|Fantasy|Sci-Fi\n",
            "Borrowers, The (1997) Adventure|Children's|Comedy|Fantasy\n",
            "Quest for Camelot (1998) Adventure|Animation|Children's|Fantasy\n",
            "Small Soldiers (1998) Animation|Children's|Fantasy|War\n",
            "Labyrinth (1986) Adventure|Children's|Fantasy\n",
            "Goonies, The (1985) Adventure|Children's|Fantasy\n",
            "Absent Minded Professor, The (1961) Children's|Comedy|Fantasy\n",
            "Babes in Toyland (1961) Children's|Fantasy|Musical\n",
            "Dune (1984) Fantasy|Sci-Fi\n",
            "Darby O'Gill and the Little People (1959) Adventure|Children's|Fantasy\n",
            "Honey, I Shrunk the Kids (1989) Adventure|Children's|Comedy|Fantasy|Sci-Fi\n",
            "One Magic Christmas (1985) Drama|Fantasy\n",
            "Peter Pan (1953) Animation|Children's|Fantasy|Musical\n",
            "Return to Oz (1985) Adventure|Children's|Fantasy|Sci-Fi\n",
            "Splash (1984) Comedy|Fantasy|Romance\n",
            "Tron (1982) Action|Adventure|Fantasy|Sci-Fi\n",
            "Watership Down (1978) Animation|Children's|Drama|Fantasy\n",
            "Dark Crystal, The (1982) Children's|Fantasy|Sci-Fi\n",
            "Legend (1985) Adventure|Fantasy|Romance\n",
            "NeverEnding Story, The (1984) Adventure|Children's|Fantasy\n",
            "NeverEnding Story II: The Next Chapter, The (1990) Adventure|Children's|Fantasy\n",
            "Navigator: A Mediaeval Odyssey, The (1988) Adventure|Fantasy|Sci-Fi\n",
            "Beetlejuice (1988) Comedy|Fantasy\n",
            "Willow (1988) Action|Adventure|Fantasy\n",
            "Toys (1992) Action|Comedy|Fantasy\n",
            "Santa Claus: The Movie (1985) Adventure|Children's|Fantasy\n",
            "Boy Who Could Fly, The (1986) Drama|Fantasy\n",
            "Midsummer Night's Dream, A (1999) Comedy|Fantasy\n",
            "Star Wars: Episode I - The Phantom Menace (1999) Action|Adventure|Fantasy|Sci-Fi\n",
            "Big (1988) Comedy|Fantasy\n",
            "Excalibur (1981) Action|Drama|Fantasy|Romance\n",
            "Time Bandits (1981) Adventure|Fantasy|Sci-Fi\n",
            "7th Voyage of Sinbad, The (1958) Action|Adventure|Fantasy\n",
            "Date with an Angel (1987) Comedy|Fantasy\n",
            "Teenage Mutant Ninja Turtles (1990) Action|Children's|Fantasy\n",
            "Teenage Mutant Ninja Turtles II: The Secret of the Ooze (1991) Action|Children's|Fantasy\n",
            "Teenage Mutant Ninja Turtles III (1993) Action|Children's|Fantasy\n",
            "Heart and Souls (1993) Comedy|Fantasy\n",
            "Ladyhawke (1985) Adventure|Fantasy|Romance\n",
            "Hook (1991) Adventure|Fantasy\n",
            "Supergirl (1984) Action|Adventure|Fantasy\n",
            "Highlander: Endgame (2000) Action|Adventure|Fantasy\n",
            "Faraway, So Close (In Weiter Ferne, So Nah!) (1993) Drama|Fantasy\n",
            "--------------------------\n",
            "There are 1 exclusevely Fantasy movies in the list.\n",
            "\n",
            "List of movies with this property:\n",
            "\n",
            "                              title   genres\n",
            "792  Hungarian Fairy Tale, A (1987)  Fantasy\n"
          ]
        }
      ]
    },
    {
      "cell_type": "code",
      "source": [
        "#Finds all 'Adventure' movies\n",
        "b=0;\n",
        "for i in range(len(movies.genres)):\n",
        "  if \"Adventure\" in movies.genres.iloc[i]:\n",
        "    b+=1\n",
        "print(\"There are\",b,\"Adventure movies in the list.\")\n",
        "print(\"\")\n",
        "print(\"List of movies with this property:\")\n",
        "print(\"\")\n",
        "for i in range(len(movies.genres)):\n",
        "  if \"Adventure\" in movies.genres.iloc[i]:\n",
        "    print(movies.title.iloc[i], movies.genres.iloc[i])\n",
        "print(\"--------------------------\")\n",
        "#Finds movies that are just 'Adventure' \n",
        "a=0;\n",
        "for i in range(len(movies.genres)):\n",
        "  if movies.genres.iloc[i]==\"Adventure\":\n",
        "    a+=1\n",
        "print(\"There are\",a,\"exclusevely Fantasy movies in the list.\")\n",
        "print(\"\")\n",
        "print(\"List of movies with this property:\")\n",
        "print(\"\")\n",
        "print(movies[movies.genres==\"Adventure\"])"
      ],
      "metadata": {
        "colab": {
          "base_uri": "https://localhost:8080/"
        },
        "id": "o4xDKA4mht9d",
        "outputId": "d519bf40-3e88-4d75-b6c8-b04d99535721"
      },
      "execution_count": 39,
      "outputs": [
        {
          "output_type": "stream",
          "name": "stdout",
          "text": [
            "There are 283 Adventure movies in the list.\n",
            "\n",
            "List of movies with this property:\n",
            "\n",
            "Jumanji (1995) Adventure|Children's|Fantasy\n",
            "Tom and Huck (1995) Adventure|Children's\n",
            "GoldenEye (1995) Action|Adventure|Thriller\n",
            "Cutthroat Island (1995) Action|Adventure|Romance\n",
            "City of Lost Children, The (1995) Adventure|Sci-Fi\n",
            "Wings of Courage (1995) Adventure|Romance\n",
            "Mortal Kombat (1995) Action|Adventure\n",
            "Kids of the Round Table (1995) Adventure|Children's|Fantasy\n",
            "Indian in the Cupboard, The (1995) Adventure|Children's|Fantasy\n",
            "White Squall (1996) Adventure|Drama\n",
            "Muppet Treasure Island (1996) Adventure|Children's|Comedy|Musical\n",
            "Rumble in the Bronx (1995) Action|Adventure|Crime\n",
            "NeverEnding Story III, The (1994) Adventure|Children's|Fantasy\n",
            "Amazing Panda Adventure, The (1995) Adventure|Children's\n",
            "Batman Forever (1995) Action|Adventure|Comedy|Crime\n",
            "Casper (1995) Adventure|Children's\n",
            "Congo (1995) Action|Adventure|Mystery|Sci-Fi\n",
            "First Knight (1995) Action|Adventure|Drama|Romance\n",
            "Free Willy 2: The Adventure Home (1995) Adventure|Children's|Drama\n",
            "Judge Dredd (1995) Action|Adventure|Sci-Fi\n",
            "Waterworld (1995) Action|Adventure\n",
            "Far From Home: The Adventures of Yellow Dog (1995) Adventure|Children's\n",
            "Kid in King Arthur's Court, A (1995) Adventure|Children's|Comedy|Fantasy|Romance\n",
            "Star Wars: Episode IV - A New Hope (1977) Action|Adventure|Fantasy|Sci-Fi\n",
            "Quick and the Dead, The (1995) Action|Adventure|Western\n",
            "Stargate (1994) Action|Adventure|Sci-Fi\n",
            "Star Trek: Generations (1994) Action|Adventure|Sci-Fi\n",
            "War, The (1994) Adventure|Drama\n",
            "Clear and Present Danger (1994) Action|Adventure|Thriller\n",
            "Jungle Book, The (1994) Adventure|Children's|Romance\n",
            "True Lies (1994) Action|Adventure|Comedy|Romance\n",
            "Secret Adventures of Tom Thumb, The (1993) Adventure|Children's\n",
            "Black Beauty (1994) Adventure|Children's\n",
            "Cliffhanger (1993) Action|Adventure|Crime\n",
            "Free Willy (1993) Adventure|Children's|Drama\n",
            "Good Man in Africa, A (1994) Action|Adventure\n",
            "Hard Target (1993) Action|Adventure|Crime|Thriller\n",
            "Jurassic Park (1993) Action|Adventure|Sci-Fi\n",
            "Lassie (1994) Adventure|Children's\n",
            "Super Mario Bros. (1993) Action|Adventure|Children's|Sci-Fi\n",
            "Surviving the Game (1994) Action|Adventure|Thriller\n",
            "Three Musketeers, The (1993) Action|Adventure|Comedy\n",
            "Pagemaster, The (1994) Action|Adventure|Animation|Children's|Fantasy\n",
            "Andre (1994) Adventure|Children's\n",
            "Dances with Wolves (1990) Adventure|Drama|Western\n",
            "Batman (1989) Action|Adventure|Crime|Drama\n",
            "Homeward Bound II: Lost in San Francisco (1996) Adventure|Children's\n",
            "Heavy Metal (1981) Action|Adventure|Animation|Horror|Sci-Fi\n",
            "Mission: Impossible (1996) Action|Adventure|Mystery\n",
            "Dragonheart (1996) Action|Adventure|Fantasy\n",
            "Space Jam (1996) Adventure|Animation|Children's|Comedy|Fantasy\n",
            "Barbarella (1968) Adventure|Sci-Fi\n",
            "Operation Dumbo Drop (1995) Action|Adventure|Comedy|War\n",
            "Quest, The (1996) Action|Adventure\n",
            "Flipper (1996) Adventure|Children's\n",
            "Rock, The (1996) Action|Adventure|Thriller\n",
            "Twister (1996) Action|Adventure|Romance|Thriller\n",
            "Gold Diggers: The Secret of Bear Mountain (1995) Adventure|Children's\n",
            "Phantom, The (1996) Adventure\n",
            "Daylight (1996) Action|Adventure|Thriller\n",
            "Alaska (1996) Adventure|Children's\n",
            "Fled (1996) Action|Adventure\n",
            "Adventures of Pinocchio, The (1996) Adventure|Children's\n",
            "Chain Reaction (1996) Action|Adventure|Thriller\n",
            "Escape from L.A. (1996) Action|Adventure|Sci-Fi|Thriller\n",
            "For Whom the Bell Tolls (1943) Adventure|War\n",
            "Wizard of Oz, The (1939) Adventure|Children's|Drama|Musical\n",
            "Golden Earrings (1947) Adventure|Romance\n",
            "Adventures of Robin Hood, The (1938) Action|Adventure\n",
            "Mark of Zorro, The (1940) Adventure\n",
            "Around the World in 80 Days (1956) Adventure|Comedy\n",
            "African Queen, The (1951) Action|Adventure|Romance|War\n",
            "Fly Away Home (1996) Adventure|Children's\n",
            "Maximum Risk (1996) Action|Adventure|Thriller\n",
            "Escape to Witch Mountain (1975) Adventure|Children's|Fantasy\n",
            "Herbie Rides Again (1974) Adventure|Children's|Comedy\n",
            "Homeward Bound: The Incredible Journey (1993) Adventure|Children's\n",
            "Swiss Family Robinson (1960) Adventure|Children's\n",
            "20,000 Leagues Under the Sea (1954) Adventure|Children's|Fantasy|Sci-Fi\n",
            "Pete's Dragon (1977) Adventure|Animation|Children's|Musical\n",
            "Bedknobs and Broomsticks (1971) Adventure|Children's|Musical\n",
            "Ghost and the Darkness, The (1996) Action|Adventure\n",
            "Macao (1952) Adventure\n",
            "Willy Wonka and the Chocolate Factory (1971) Adventure|Children's|Comedy|Fantasy\n",
            "Old Man and the Sea, The (1958) Adventure|Drama\n",
            "Tashunga (1995) Adventure|Western\n",
            "Abyss, The (1989) Action|Adventure|Sci-Fi|Thriller\n",
            "Escape from New York (1981) Action|Adventure|Sci-Fi|Thriller\n",
            "Star Wars: Episode V - The Empire Strikes Back (1980) Action|Adventure|Drama|Sci-Fi|War\n",
            "Princess Bride, The (1987) Action|Adventure|Comedy|Romance\n",
            "Raiders of the Lost Ark (1981) Action|Adventure\n",
            "Lawrence of Arabia (1962) Adventure|War\n",
            "Star Wars: Episode VI - Return of the Jedi (1983) Action|Adventure|Romance|Sci-Fi|War\n",
            "Army of Darkness (1993) Action|Adventure|Comedy|Horror|Sci-Fi\n",
            "Big Blue, The (Le Grand Bleu) (1988) Adventure|Romance\n",
            "Treasure of the Sierra Madre, The (1948) Adventure\n",
            "Stand by Me (1986) Adventure|Comedy|Drama\n",
            "Evil Dead II (Dead By Dawn) (1987) Action|Adventure|Comedy|Horror\n",
            "Great Escape, The (1963) Adventure|War\n",
            "Akira (1988) Adventure|Animation|Sci-Fi|Thriller\n",
            "Highlander (1986) Action|Adventure\n",
            "Ben-Hur (1959) Action|Adventure|Drama\n",
            "Indiana Jones and the Last Crusade (1989) Action|Adventure\n",
            "Man Who Would Be King, The (1975) Adventure\n",
            "Star Trek: First Contact (1996) Action|Adventure|Sci-Fi\n",
            "Jingle All the Way (1996) Adventure|Children's|Comedy\n",
            "Star Trek: The Motion Picture (1979) Action|Adventure|Sci-Fi\n",
            "Star Trek VI: The Undiscovered Country (1991) Action|Adventure|Sci-Fi\n",
            "Star Trek V: The Final Frontier (1989) Action|Adventure|Sci-Fi\n",
            "Star Trek: The Wrath of Khan (1982) Action|Adventure|Sci-Fi\n",
            "Star Trek III: The Search for Spock (1984) Action|Adventure|Sci-Fi\n",
            "Star Trek IV: The Voyage Home (1986) Action|Adventure|Sci-Fi\n",
            "Batman Returns (1992) Action|Adventure|Comedy|Crime\n",
            "Turbo: A Power Rangers Movie (1997) Action|Adventure|Children's\n",
            "Anaconda (1997) Action|Adventure|Thriller\n",
            "Warriors of Virtue (1997) Action|Adventure|Children's|Fantasy\n",
            "Second Jungle Book: Mowgli & Baloo, The (1997) Adventure|Children's\n",
            "Lost World: Jurassic Park, The (1997) Action|Adventure|Sci-Fi|Thriller\n",
            "Buddy (1997) Adventure|Children's|Drama\n",
            "Con Air (1997) Action|Adventure|Thriller\n",
            "Batman & Robin (1997) Action|Adventure|Crime\n",
            "Hercules (1997) Adventure|Animation|Children's|Comedy|Musical\n",
            "Men in Black (1997) Action|Adventure|Comedy|Sci-Fi\n",
            "Wild America (1997) Adventure|Children's\n",
            "Conan the Barbarian (1982) Action|Adventure\n",
            "Spawn (1997) Action|Adventure|Sci-Fi|Thriller\n",
            "Free Willy 3: The Rescue (1997) Adventure|Children's|Drama\n",
            "Excess Baggage (1997) Adventure|Romance\n",
            "Kull the Conqueror (1997) Action|Adventure\n",
            "Edge, The (1997) Adventure|Thriller\n",
            "Starship Troopers (1997) Action|Adventure|Sci-Fi|War\n",
            "Mortal Kombat: Annihilation (1997) Action|Adventure\n",
            "Time Tracers (1995) Action|Adventure|Sci-Fi\n",
            "Firestorm (1998) Action|Adventure|Thriller\n",
            "Star Kid (1997) Adventure|Children's|Fantasy|Sci-Fi\n",
            "Sphere (1998) Adventure|Sci-Fi|Thriller\n",
            "Paulie (1998) Adventure|Children's|Comedy\n",
            "Barney's Great Adventure (1998) Adventure|Children's\n",
            "Borrowers, The (1997) Adventure|Children's|Comedy|Fantasy\n",
            "Prince Valiant (1997) Adventure\n",
            "Tarzan and the Lost City (1998) Action|Adventure\n",
            "Quest for Camelot (1998) Adventure|Animation|Children's|Fantasy\n",
            "Almost Heroes (1998) Adventure|Comedy\n",
            "Six Days Seven Nights (1998) Adventure|Comedy|Romance\n",
            "Passion in the Desert (1998) Adventure|Drama\n",
            "Armageddon (1998) Action|Adventure|Sci-Fi|Thriller\n",
            "Mutiny on the Bounty (1935) Adventure\n",
            "Labyrinth (1986) Adventure|Children's|Fantasy\n",
            "Goonies, The (1985) Adventure|Children's|Fantasy\n",
            "Mask of Zorro, The (1998) Action|Adventure|Romance\n",
            "Poseidon Adventure, The (1972) Action|Adventure\n",
            "Candleshoe (1977) Adventure|Children's|Comedy\n",
            "Cheetah (1989) Adventure|Children's\n",
            "Condorman (1981) Action|Adventure|Children's|Comedy\n",
            "Darby O'Gill and the Little People (1959) Adventure|Children's|Fantasy\n",
            "Far Off Place, A (1993) Adventure|Children's|Drama|Romance\n",
            "Flight of the Navigator (1986) Adventure|Children's|Sci-Fi\n",
            "Herbie Goes Bananas (1980) Adventure|Children's|Comedy\n",
            "Herbie Goes to Monte Carlo (1977) Adventure|Children's|Comedy\n",
            "Honey, I Shrunk the Kids (1989) Adventure|Children's|Comedy|Fantasy|Sci-Fi\n",
            "In Search of the Castaways (1962) Adventure|Children's\n",
            "Incredible Journey, The (1963) Adventure|Children's\n",
            "Journey of Natty Gann, The (1985) Adventure|Children's\n",
            "Popeye (1980) Adventure|Comedy|Musical\n",
            "Return to Oz (1985) Adventure|Children's|Fantasy|Sci-Fi\n",
            "Rocketeer, The (1991) Action|Adventure|Sci-Fi\n",
            "Song of the South (1946) Adventure|Animation|Children's|Musical\n",
            "Squanto: A Warrior's Tale (1994) Adventure|Drama\n",
            "Tall Tale (1994) Adventure|Children's\n",
            "Tron (1982) Action|Adventure|Fantasy|Sci-Fi\n",
            "Indiana Jones and the Temple of Doom (1984) Action|Adventure\n",
            "Lord of the Rings, The (1978) Adventure|Animation|Children's|Sci-Fi\n",
            "Adventures in Babysitting (1987) Adventure|Comedy\n",
            "Doctor Dolittle (1967) Adventure|Musical\n",
            "Legend (1985) Adventure|Fantasy|Romance\n",
            "Avengers, The (1998) Action|Adventure\n",
            "NeverEnding Story, The (1984) Adventure|Children's|Fantasy\n",
            "NeverEnding Story II: The Next Chapter, The (1990) Adventure|Children's|Fantasy\n",
            "Blade (1998) Action|Adventure|Horror\n",
            "Navigator: A Mediaeval Odyssey, The (1988) Adventure|Fantasy|Sci-Fi\n",
            "Willow (1988) Action|Adventure|Fantasy\n",
            "Nothing But Trouble (1991) Adventure|Comedy\n",
            "Six-String Samurai (1998) Action|Adventure|Sci-Fi\n",
            "Soldier (1998) Action|Adventure|Sci-Fi|Thriller|War\n",
            "Runaway Train (1985) Action|Adventure|Drama|Thriller\n",
            "King Kong (1933) Action|Adventure|Horror\n",
            "King Kong (1976) Action|Adventure|Horror\n",
            "King Kong Lives (1986) Action|Adventure|Horror\n",
            "Emerald Forest, The (1985) Action|Adventure|Drama\n",
            "Red Sonja (1985) Action|Adventure\n",
            "Santa Claus: The Movie (1985) Adventure|Children's|Fantasy\n",
            "Jewel of the Nile, The (1985) Action|Adventure|Comedy|Romance\n",
            "Romancing the Stone (1984) Action|Adventure|Comedy|Romance\n",
            "Young Sherlock Holmes (1985) Action|Adventure|Mystery\n",
            "Karate Kid, Part II, The (1986) Action|Adventure|Drama\n",
            "Karate Kid III, The (1989) Action|Adventure|Drama\n",
            "Mighty Joe Young (1998) Adventure|Children's|Drama\n",
            "Mighty Joe Young (1949) Adventure|Children's|Drama\n",
            "Garbage Pail Kids Movie, The (1987) Adventure|Children's\n",
            "Howard the Duck (1986) Adventure|Children's|Sci-Fi\n",
            "Crocodile Dundee (1986) Adventure|Comedy\n",
            "Crocodile Dundee II (1988) Adventure|Comedy\n",
            "Firewalker (1986) Adventure\n",
            "Logan's Run (1976) Action|Adventure|Sci-Fi\n",
            "Beyond the Poseidon Adventure (1979) Adventure\n",
            "Mighty Peking Man (Hsing hsing wang) (1977) Adventure|Sci-Fi\n",
            "My Science Project (1985) Adventure|Sci-Fi\n",
            "Mummy, The (1999) Action|Adventure|Horror|Thriller\n",
            "Star Wars: Episode I - The Phantom Menace (1999) Action|Adventure|Fantasy|Sci-Fi\n",
            "Superman (1978) Action|Adventure|Sci-Fi\n",
            "Superman II (1980) Action|Adventure|Sci-Fi\n",
            "Superman III (1983) Action|Adventure|Sci-Fi\n",
            "Superman IV: The Quest for Peace (1987) Action|Adventure|Sci-Fi\n",
            "Inspector Gadget (1999) Action|Adventure|Children's|Comedy\n",
            "Mystery Men (1999) Action|Adventure|Comedy\n",
            "Vibes (1988) Adventure|Comedy\n",
            "Golden Child, The (1986) Action|Adventure|Comedy\n",
            "Allan Quartermain and the Lost City of Gold (1987) Action|Adventure\n",
            "Male and Female (1919) Adventure|Drama\n",
            "Medicine Man (1992) Adventure|Romance\n",
            "Saturn 3 (1979) Adventure|Sci-Fi|Thriller\n",
            "Deliverance (1972) Adventure|Thriller\n",
            "Operation Condor (Feiying gaiwak) (1990) Action|Adventure|Comedy\n",
            "Operation Condor 2 (Longxiong hudi) (1990) Action|Adventure|Comedy\n",
            "Napoleon and Samantha (1972) Adventure\n",
            "Gulliver's Travels (1939) Adventure|Animation|Children's\n",
            "Sanjuro (1962) Action|Adventure\n",
            "Total Recall (1990) Action|Adventure|Sci-Fi|Thriller\n",
            "Blue Lagoon, The (1980) Adventure|Drama|Romance\n",
            "Time Bandits (1981) Adventure|Fantasy|Sci-Fi\n",
            "Fitzcarraldo (1982) Adventure|Drama\n",
            "Who Framed Roger Rabbit? (1988) Adventure|Animation|Film-Noir\n",
            "Princess Mononoke, The (Mononoke Hime) (1997) Action|Adventure|Animation\n",
            "Quest for Fire (1981) Adventure\n",
            "Adventures of Buckaroo Bonzai Across the 8th Dimension, The (1984) Adventure|Comedy|Sci-Fi\n",
            "Midnight Run (1988) Action|Adventure|Comedy|Crime\n",
            "Tarzan the Fearless (1933) Action|Adventure\n",
            "7th Voyage of Sinbad, The (1958) Action|Adventure|Fantasy\n",
            "Brenda Starr (1989) Adventure\n",
            "Easy Rider (1969) Adventure|Drama\n",
            "Ulysses (Ulisse) (1954) Adventure\n",
            "Galaxy Quest (1999) Adventure|Comedy|Sci-Fi\n",
            "Supernova (2000) Adventure|Sci-Fi\n",
            "Snows of Kilimanjaro, The (1952) Adventure\n",
            "Forever Young (1992) Adventure|Romance|Sci-Fi\n",
            "Knockout (1999) Action|Adventure\n",
            "Beach, The (2000) Adventure|Drama\n",
            "Legend of Lobo, The (1962) Adventure|Children's\n",
            "Charlie, the Lonesome Cougar (1967) Adventure|Children's\n",
            "Where Eagles Dare (1969) Action|Adventure|War\n",
            "Let's Get Harry (1986) Action|Adventure\n",
            "Shanghai Surprise (1986) Adventure\n",
            "Baby... Secret of the Lost Legend (1985) Adventure|Sci-Fi\n",
            "Captain Horatio Hornblower (1951) Action|Adventure|War\n",
            "Bear, The (1988) Adventure\n",
            "Crimson Pirate, The (1952) Adventure|Comedy|Sci-Fi\n",
            "Lord of the Flies (1963) Adventure|Drama|Thriller\n",
            "Dersu Uzala (1974) Adventure|Drama\n",
            "Ladyhawke (1985) Adventure|Fantasy|Romance\n",
            "Hook (1991) Adventure|Fantasy\n",
            "Son of the Sheik, The (1926) Adventure\n",
            "True Grit (1969) Adventure|Western\n",
            "Great Locomotive Chase, The (1956) Adventure|War\n",
            "Slipper and the Rose, The (1976) Adventure|Musical|Romance\n",
            "Benji (1974) Adventure|Children's\n",
            "Benji the Hunted (1987) Adventure|Children's\n",
            "For the Love of Benji (1977) Adventure|Children's\n",
            "Running Man, The (1987) Action|Adventure|Sci-Fi\n",
            "Starman (1984) Adventure|Drama|Romance|Sci-Fi\n",
            "Bird on a Wire (1990) Action|Adventure|Romance|Thriller\n",
            "Titan A.E. (2000) Adventure|Animation|Sci-Fi\n",
            "Perfect Storm, The (2000) Action|Adventure|Thriller\n",
            "Dreamscape (1984) Adventure|Crime|Sci-Fi|Thriller\n",
            "Golden Voyage of Sinbad, The (1974) Action|Adventure\n",
            "Knightriders (1981) Action|Adventure|Drama\n",
            "Sinbad and the Eye of the Tiger (1977) Action|Adventure\n",
            "Bronco Billy (1980) Adventure|Drama|Romance\n",
            "Godzilla 2000 (Gojira ni-sen mireniamu) (1999) Action|Adventure|Sci-Fi\n",
            "Supergirl (1984) Action|Adventure|Fantasy\n",
            "Highlander: Endgame (2000) Action|Adventure|Fantasy\n",
            "Voyage to the Bottom of the Sea (1961) Adventure|Sci-Fi\n",
            "Fantastic Voyage (1966) Adventure|Sci-Fi\n",
            "Digimon: The Movie (2000) Adventure|Animation|Children's\n",
            "--------------------------\n",
            "There are 17 exclusevely Fantasy movies in the list.\n",
            "\n",
            "List of movies with this property:\n",
            "\n",
            "                                         title     genres\n",
            "761                        Phantom, The (1996)  Adventure\n",
            "941                  Mark of Zorro, The (1940)  Adventure\n",
            "1070                              Macao (1952)  Adventure\n",
            "1254  Treasure of the Sierra Madre, The (1948)  Adventure\n",
            "1303         Man Who Would Be King, The (1975)  Adventure\n",
            "1849                     Prince Valiant (1997)  Adventure\n",
            "1931               Mutiny on the Bounty (1935)  Adventure\n",
            "2477                         Firewalker (1986)  Adventure\n",
            "2537      Beyond the Poseidon Adventure (1979)  Adventure\n",
            "2895              Napoleon and Samantha (1972)  Adventure\n",
            "3036                     Quest for Fire (1981)  Adventure\n",
            "3166                       Brenda Starr (1989)  Adventure\n",
            "3172                   Ulysses (Ulisse) (1954)  Adventure\n",
            "3207          Snows of Kilimanjaro, The (1952)  Adventure\n",
            "3390                  Shanghai Surprise (1986)  Adventure\n",
            "3412                          Bear, The (1988)  Adventure\n",
            "3492              Son of the Sheik, The (1926)  Adventure\n"
          ]
        }
      ]
    },
    {
      "cell_type": "code",
      "source": [],
      "metadata": {
        "colab": {
          "base_uri": "https://localhost:8080/"
        },
        "id": "JO0Mjt1Th1Cz",
        "outputId": "0ef2227c-9a56-4679-8e0a-08c66825b219"
      },
      "execution_count": 14,
      "outputs": [
        {
          "output_type": "stream",
          "name": "stdout",
          "text": [
            "17\n"
          ]
        }
      ]
    },
    {
      "cell_type": "code",
      "source": [],
      "metadata": {
        "id": "G-p7M8Wth7i5"
      },
      "execution_count": null,
      "outputs": []
    }
  ]
}