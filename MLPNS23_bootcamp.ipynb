{
  "nbformat": 4,
  "nbformat_minor": 0,
  "metadata": {
    "colab": {
      "provenance": [],
      "authorship_tag": "ABX9TyMhYPXzJmnQgL2YRqI5Kxvs",
      "include_colab_link": true
    },
    "kernelspec": {
      "name": "python3",
      "display_name": "Python 3"
    },
    "language_info": {
      "name": "python"
    }
  },
  "cells": [
    {
      "cell_type": "markdown",
      "metadata": {
        "id": "view-in-github",
        "colab_type": "text"
      },
      "source": [
        "<a href=\"https://colab.research.google.com/github/carlottaviappiani/MLPNS_CViappiani/blob/main/MLPNS23_bootcamp.ipynb\" target=\"_parent\"><img src=\"https://colab.research.google.com/assets/colab-badge.svg\" alt=\"Open In Colab\"/></a>"
      ]
    },
    {
      "cell_type": "markdown",
      "source": [],
      "metadata": {
        "id": "6b2rbU-P1k8t"
      }
    },
    {
      "cell_type": "code",
      "source": [],
      "metadata": {
        "id": "4PeoEH0Q1kx-"
      },
      "execution_count": 121,
      "outputs": []
    },
    {
      "cell_type": "markdown",
      "source": [
        "# First markdown cell\n",
        "This is a text cell in markdown syntax \\\\\n",
        "Ex.: $\\alpha_\\text{a}$=$\\frac{3}{4}$"
      ],
      "metadata": {
        "id": "eNhAolkF1uKm"
      }
    },
    {
      "cell_type": "code",
      "execution_count": 122,
      "metadata": {
        "colab": {
          "base_uri": "https://localhost:8080/"
        },
        "id": "UXdzApS70Tmp",
        "outputId": "2ea9798e-ca73-4e0e-a8c2-d88561f8d535"
      },
      "outputs": [
        {
          "output_type": "execute_result",
          "data": {
            "text/plain": [
              "4"
            ]
          },
          "metadata": {},
          "execution_count": 122
        }
      ],
      "source": [
        "2*2\n"
      ]
    },
    {
      "cell_type": "markdown",
      "source": [
        "# Here we start coding:"
      ],
      "metadata": {
        "id": "6onbejrP2RG8"
      }
    },
    {
      "cell_type": "markdown",
      "source": [
        "# 1) Native variables and variables types"
      ],
      "metadata": {
        "id": "0uiqZbB_2ueM"
      }
    },
    {
      "cell_type": "markdown",
      "source": [
        "## Integers"
      ],
      "metadata": {
        "id": "kUYFxtmx7Br8"
      }
    },
    {
      "cell_type": "code",
      "source": [
        "intVar = 3"
      ],
      "metadata": {
        "id": "VIK0dM-i2y8k"
      },
      "execution_count": 123,
      "outputs": []
    },
    {
      "cell_type": "code",
      "source": [
        "type(intVar)"
      ],
      "metadata": {
        "colab": {
          "base_uri": "https://localhost:8080/"
        },
        "id": "tE9IyupU3dBX",
        "outputId": "8d20ddc7-4ec8-45cb-bf37-0d70148b9724"
      },
      "execution_count": 124,
      "outputs": [
        {
          "output_type": "execute_result",
          "data": {
            "text/plain": [
              "int"
            ]
          },
          "metadata": {},
          "execution_count": 124
        }
      ]
    },
    {
      "cell_type": "markdown",
      "source": [
        "## Float"
      ],
      "metadata": {
        "id": "OFN7apz17GRU"
      }
    },
    {
      "cell_type": "code",
      "source": [
        "floatVar= 3.0"
      ],
      "metadata": {
        "id": "hA1d0KrH3fOj"
      },
      "execution_count": 125,
      "outputs": []
    },
    {
      "cell_type": "code",
      "source": [
        "type(floatVar)"
      ],
      "metadata": {
        "colab": {
          "base_uri": "https://localhost:8080/"
        },
        "id": "t39oD79K3lfU",
        "outputId": "1f1bc3a1-7a2e-42ad-ed8c-69175106eec5"
      },
      "execution_count": 126,
      "outputs": [
        {
          "output_type": "execute_result",
          "data": {
            "text/plain": [
              "float"
            ]
          },
          "metadata": {},
          "execution_count": 126
        }
      ]
    },
    {
      "cell_type": "code",
      "source": [
        "float(intVar)"
      ],
      "metadata": {
        "colab": {
          "base_uri": "https://localhost:8080/"
        },
        "id": "w87aFGg-3owE",
        "outputId": "4fbebfde-95e1-4fb3-c67e-f2f8580637a7"
      },
      "execution_count": 127,
      "outputs": [
        {
          "output_type": "execute_result",
          "data": {
            "text/plain": [
              "3.0"
            ]
          },
          "metadata": {},
          "execution_count": 127
        }
      ]
    },
    {
      "cell_type": "code",
      "source": [
        "float2var=float(intVar)"
      ],
      "metadata": {
        "id": "ZoB9Pc1E31qc"
      },
      "execution_count": 128,
      "outputs": []
    },
    {
      "cell_type": "code",
      "source": [
        "type(float2var)"
      ],
      "metadata": {
        "colab": {
          "base_uri": "https://localhost:8080/"
        },
        "id": "wJfjcx2m39dD",
        "outputId": "aa4b5404-afaf-496a-ed15-9df7ef535cdb"
      },
      "execution_count": 129,
      "outputs": [
        {
          "output_type": "execute_result",
          "data": {
            "text/plain": [
              "float"
            ]
          },
          "metadata": {},
          "execution_count": 129
        }
      ]
    },
    {
      "cell_type": "code",
      "source": [
        "intVar * floatVar "
      ],
      "metadata": {
        "colab": {
          "base_uri": "https://localhost:8080/"
        },
        "id": "3XEqxm_b3_da",
        "outputId": "640c5202-7f3b-45ed-ef36-27ec7db0281e"
      },
      "execution_count": 130,
      "outputs": [
        {
          "output_type": "execute_result",
          "data": {
            "text/plain": [
              "9.0"
            ]
          },
          "metadata": {},
          "execution_count": 130
        }
      ]
    },
    {
      "cell_type": "code",
      "source": [
        "intVar /2"
      ],
      "metadata": {
        "colab": {
          "base_uri": "https://localhost:8080/"
        },
        "id": "BBt95M4j4EDW",
        "outputId": "c9e62dbd-a8e5-4d9a-b1de-c8df88de1b67"
      },
      "execution_count": 131,
      "outputs": [
        {
          "output_type": "execute_result",
          "data": {
            "text/plain": [
              "1.5"
            ]
          },
          "metadata": {},
          "execution_count": 131
        }
      ]
    },
    {
      "cell_type": "code",
      "source": [
        "intVar + floatVar"
      ],
      "metadata": {
        "colab": {
          "base_uri": "https://localhost:8080/"
        },
        "id": "d3UyaB0D4eoV",
        "outputId": "bc996d02-746c-4f63-92e3-44828aa194e8"
      },
      "execution_count": 132,
      "outputs": [
        {
          "output_type": "execute_result",
          "data": {
            "text/plain": [
              "6.0"
            ]
          },
          "metadata": {},
          "execution_count": 132
        }
      ]
    },
    {
      "cell_type": "code",
      "source": [
        "intVar + floatVar -intVar/2"
      ],
      "metadata": {
        "colab": {
          "base_uri": "https://localhost:8080/"
        },
        "id": "HlcxpzLZ4mqg",
        "outputId": "4c169859-66dd-41c7-dcff-29812aa92d55"
      },
      "execution_count": 133,
      "outputs": [
        {
          "output_type": "execute_result",
          "data": {
            "text/plain": [
              "4.5"
            ]
          },
          "metadata": {},
          "execution_count": 133
        }
      ]
    },
    {
      "cell_type": "code",
      "source": [
        "type(intVar + floatVar -intVar/2)"
      ],
      "metadata": {
        "colab": {
          "base_uri": "https://localhost:8080/"
        },
        "id": "yXU7bLgs4qyv",
        "outputId": "c1c6bf16-5072-465c-d4a6-b8ba32b12134"
      },
      "execution_count": 134,
      "outputs": [
        {
          "output_type": "execute_result",
          "data": {
            "text/plain": [
              "float"
            ]
          },
          "metadata": {},
          "execution_count": 134
        }
      ]
    },
    {
      "cell_type": "code",
      "source": [
        "(intVar + floatVar -intVar)/2"
      ],
      "metadata": {
        "colab": {
          "base_uri": "https://localhost:8080/"
        },
        "id": "eii3Qo4L5A_b",
        "outputId": "adf215c7-d8ee-4c2e-c287-a798f1eed909"
      },
      "execution_count": 135,
      "outputs": [
        {
          "output_type": "execute_result",
          "data": {
            "text/plain": [
              "1.5"
            ]
          },
          "metadata": {},
          "execution_count": 135
        }
      ]
    },
    {
      "cell_type": "markdown",
      "source": [
        "## Strings"
      ],
      "metadata": {
        "id": "NCmu8xOu7MLk"
      }
    },
    {
      "cell_type": "code",
      "source": [
        "print(\"Hello world\")"
      ],
      "metadata": {
        "colab": {
          "base_uri": "https://localhost:8080/"
        },
        "id": "IfsMwxhR5PO2",
        "outputId": "7d780422-11a1-474f-a128-3f1c3e42e542"
      },
      "execution_count": 136,
      "outputs": [
        {
          "output_type": "stream",
          "name": "stdout",
          "text": [
            "Hello world\n"
          ]
        }
      ]
    },
    {
      "cell_type": "code",
      "source": [
        "print(\"'Hello world'\")"
      ],
      "metadata": {
        "colab": {
          "base_uri": "https://localhost:8080/"
        },
        "id": "K3oLMM675tLY",
        "outputId": "9f8d339c-9780-4ea3-d450-d20ac8514e61"
      },
      "execution_count": 137,
      "outputs": [
        {
          "output_type": "stream",
          "name": "stdout",
          "text": [
            "'Hello world'\n"
          ]
        }
      ]
    },
    {
      "cell_type": "code",
      "source": [
        "print('''Hello\n",
        "world''')"
      ],
      "metadata": {
        "colab": {
          "base_uri": "https://localhost:8080/"
        },
        "id": "CUIQqNNx6Gc6",
        "outputId": "09aa3d4b-2a5d-4ec8-8105-6fac039d6109"
      },
      "execution_count": 138,
      "outputs": [
        {
          "output_type": "stream",
          "name": "stdout",
          "text": [
            "Hello\n",
            "world\n"
          ]
        }
      ]
    },
    {
      "cell_type": "code",
      "source": [
        "strVar= 'Hello world'"
      ],
      "metadata": {
        "id": "qSWcGfJS6Vhz"
      },
      "execution_count": 139,
      "outputs": []
    },
    {
      "cell_type": "code",
      "source": [
        "print(strVar)\n"
      ],
      "metadata": {
        "colab": {
          "base_uri": "https://localhost:8080/"
        },
        "id": "9pHIupUO6jak",
        "outputId": "f041eb77-3a2f-4b9d-eb77-d99f3319ff29"
      },
      "execution_count": 140,
      "outputs": [
        {
          "output_type": "stream",
          "name": "stdout",
          "text": [
            "Hello world\n"
          ]
        }
      ]
    },
    {
      "cell_type": "markdown",
      "source": [
        "## Boolean Variables"
      ],
      "metadata": {
        "id": "u7ghD73h7Qvk"
      }
    },
    {
      "cell_type": "code",
      "source": [
        "True"
      ],
      "metadata": {
        "colab": {
          "base_uri": "https://localhost:8080/"
        },
        "id": "ol2szfTr7SzU",
        "outputId": "2ded9d1f-9300-4307-b7f5-cbce30f29806"
      },
      "execution_count": 141,
      "outputs": [
        {
          "output_type": "execute_result",
          "data": {
            "text/plain": [
              "True"
            ]
          },
          "metadata": {},
          "execution_count": 141
        }
      ]
    },
    {
      "cell_type": "code",
      "source": [
        "False"
      ],
      "metadata": {
        "colab": {
          "base_uri": "https://localhost:8080/"
        },
        "id": "o3TZX4dt7biN",
        "outputId": "35b10298-5053-4e18-a6f7-75fbac46a609"
      },
      "execution_count": 142,
      "outputs": [
        {
          "output_type": "execute_result",
          "data": {
            "text/plain": [
              "False"
            ]
          },
          "metadata": {},
          "execution_count": 142
        }
      ]
    },
    {
      "cell_type": "code",
      "source": [
        "\n",
        "if intVar>floatVar:\n",
        "  print(\"this is true\")\n",
        "  print(intVar*floatVar)\n",
        "else:\n",
        "  print(\"condition was false\")"
      ],
      "metadata": {
        "colab": {
          "base_uri": "https://localhost:8080/"
        },
        "id": "uinshlva7dgu",
        "outputId": "35658455-69f7-4e32-a492-3a077212dd02"
      },
      "execution_count": 143,
      "outputs": [
        {
          "output_type": "stream",
          "name": "stdout",
          "text": [
            "condition was false\n"
          ]
        }
      ]
    },
    {
      "cell_type": "code",
      "source": [
        "# == is equal?\n",
        "print(intVar==floatVar)\n",
        "# > greater\n",
        "print(intVar>floatVar)\n",
        "# < greater\n",
        "print(intVar<floatVar)\n",
        "# != not equal\n",
        "print(intVar!=floatVar)"
      ],
      "metadata": {
        "colab": {
          "base_uri": "https://localhost:8080/"
        },
        "id": "p8RSQP3A8F55",
        "outputId": "492289e2-620e-4c77-a9f0-cec22b062e27"
      },
      "execution_count": 144,
      "outputs": [
        {
          "output_type": "stream",
          "name": "stdout",
          "text": [
            "True\n",
            "False\n",
            "False\n",
            "False\n"
          ]
        }
      ]
    },
    {
      "cell_type": "code",
      "source": [
        "# | is logical OR\n",
        "(intVar>floatVar) | (intVar==floatVar)\n",
        "# & is logical AND\n",
        "(intVar>floatVar) & (intVar==floatVar)"
      ],
      "metadata": {
        "colab": {
          "base_uri": "https://localhost:8080/"
        },
        "id": "DcjXNH7N-D1S",
        "outputId": "ee399051-f42f-4c0a-c23d-c2bc8d966d79"
      },
      "execution_count": 145,
      "outputs": [
        {
          "output_type": "execute_result",
          "data": {
            "text/plain": [
              "False"
            ]
          },
          "metadata": {},
          "execution_count": 145
        }
      ]
    },
    {
      "cell_type": "code",
      "source": [
        "False==0"
      ],
      "metadata": {
        "colab": {
          "base_uri": "https://localhost:8080/"
        },
        "id": "HhLQqmte-OjU",
        "outputId": "c7b4dcc7-7104-437b-ebad-0dfebeb8a17b"
      },
      "execution_count": 146,
      "outputs": [
        {
          "output_type": "execute_result",
          "data": {
            "text/plain": [
              "True"
            ]
          },
          "metadata": {},
          "execution_count": 146
        }
      ]
    },
    {
      "cell_type": "code",
      "source": [
        "True==1"
      ],
      "metadata": {
        "colab": {
          "base_uri": "https://localhost:8080/"
        },
        "id": "z1IIAL6K-lOP",
        "outputId": "e77e4eb8-3885-4b36-afb8-29968dac3788"
      },
      "execution_count": 147,
      "outputs": [
        {
          "output_type": "execute_result",
          "data": {
            "text/plain": [
              "True"
            ]
          },
          "metadata": {},
          "execution_count": 147
        }
      ]
    },
    {
      "cell_type": "code",
      "source": [
        "# Instead of logical AND & I can use *\n",
        "if (intVar>floatVar) * (intVar==floatVar):\n",
        "  print(\"True\")\n",
        "else: \n",
        "  print(\"False\")"
      ],
      "metadata": {
        "colab": {
          "base_uri": "https://localhost:8080/"
        },
        "id": "G2ESsodW-m6I",
        "outputId": "2f51d787-6a28-4e1d-fc4c-6c426c388693"
      },
      "execution_count": 148,
      "outputs": [
        {
          "output_type": "stream",
          "name": "stdout",
          "text": [
            "False\n"
          ]
        }
      ]
    },
    {
      "cell_type": "code",
      "source": [
        "# Instead of logical OR | I can use +\n",
        "if (intVar>floatVar) + (intVar==floatVar):\n",
        "  print(\"True\")\n",
        "else: \n",
        "  print(\"False\")"
      ],
      "metadata": {
        "colab": {
          "base_uri": "https://localhost:8080/"
        },
        "id": "z30Ig0Iz-zdp",
        "outputId": "1fe6e725-303e-4591-d1d7-09633a95cae0"
      },
      "execution_count": 149,
      "outputs": [
        {
          "output_type": "stream",
          "name": "stdout",
          "text": [
            "True\n"
          ]
        }
      ]
    },
    {
      "cell_type": "markdown",
      "source": [
        "##Loop"
      ],
      "metadata": {
        "id": "ohvPQm-WBf_z"
      }
    },
    {
      "cell_type": "code",
      "source": [
        "for i in range(1,10,3):\n",
        "  print(i)"
      ],
      "metadata": {
        "colab": {
          "base_uri": "https://localhost:8080/"
        },
        "id": "Nzw9IKLnBY0S",
        "outputId": "960c376b-5bc7-4d55-d6af-a887672bc1bb"
      },
      "execution_count": 150,
      "outputs": [
        {
          "output_type": "stream",
          "name": "stdout",
          "text": [
            "1\n",
            "4\n",
            "7\n"
          ]
        }
      ]
    },
    {
      "cell_type": "markdown",
      "source": [
        "#2) Variable as objects"
      ],
      "metadata": {
        "id": "MV7SM4qUCZaD"
      }
    },
    {
      "cell_type": "code",
      "source": [
        "strVar=\"hello world\"\n"
      ],
      "metadata": {
        "id": "vqB4d_PfCrFe"
      },
      "execution_count": 151,
      "outputs": []
    },
    {
      "cell_type": "code",
      "source": [
        "#capitalize puts first capital letter\n",
        "strVar.capitalize()\n"
      ],
      "metadata": {
        "colab": {
          "base_uri": "https://localhost:8080/",
          "height": 35
        },
        "id": "9xsIDPgCBxeV",
        "outputId": "11253ffb-f1d0-445b-f19b-3d074c574caf"
      },
      "execution_count": 152,
      "outputs": [
        {
          "output_type": "execute_result",
          "data": {
            "text/plain": [
              "'Hello world'"
            ],
            "application/vnd.google.colaboratory.intrinsic+json": {
              "type": "string"
            }
          },
          "metadata": {},
          "execution_count": 152
        }
      ]
    },
    {
      "cell_type": "code",
      "source": [
        "#upper turns all the letters in capital letters\n",
        "strVar.upper()"
      ],
      "metadata": {
        "colab": {
          "base_uri": "https://localhost:8080/",
          "height": 35
        },
        "id": "bNw-UDFZC-wr",
        "outputId": "1e1083f2-baac-4c45-a703-c5ffe1e77314"
      },
      "execution_count": 153,
      "outputs": [
        {
          "output_type": "execute_result",
          "data": {
            "text/plain": [
              "'HELLO WORLD'"
            ],
            "application/vnd.google.colaboratory.intrinsic+json": {
              "type": "string"
            }
          },
          "metadata": {},
          "execution_count": 153
        }
      ]
    },
    {
      "cell_type": "code",
      "source": [
        "#isdigit verifies if string is a number\n",
        "strVar.isdigit()"
      ],
      "metadata": {
        "colab": {
          "base_uri": "https://localhost:8080/"
        },
        "id": "bJ8jTeM5DI7A",
        "outputId": "5f027480-3635-43c3-83b2-ba54d8e0007b"
      },
      "execution_count": 154,
      "outputs": [
        {
          "output_type": "execute_result",
          "data": {
            "text/plain": [
              "False"
            ]
          },
          "metadata": {},
          "execution_count": 154
        }
      ]
    },
    {
      "cell_type": "code",
      "source": [
        "\"3\".isdigit()"
      ],
      "metadata": {
        "colab": {
          "base_uri": "https://localhost:8080/"
        },
        "id": "Fml5f7EKDMSX",
        "outputId": "1056b44d-04ab-4938-a9b2-021db1f622ea"
      },
      "execution_count": 155,
      "outputs": [
        {
          "output_type": "execute_result",
          "data": {
            "text/plain": [
              "True"
            ]
          },
          "metadata": {},
          "execution_count": 155
        }
      ]
    },
    {
      "cell_type": "code",
      "source": [
        "floatVar.is_integer()"
      ],
      "metadata": {
        "colab": {
          "base_uri": "https://localhost:8080/"
        },
        "id": "Z-rLITuqDZIU",
        "outputId": "63c14dd0-56d5-4323-bb8c-e132749e0f67"
      },
      "execution_count": 156,
      "outputs": [
        {
          "output_type": "execute_result",
          "data": {
            "text/plain": [
              "True"
            ]
          },
          "metadata": {},
          "execution_count": 156
        }
      ]
    },
    {
      "cell_type": "markdown",
      "source": [
        "#3) List"
      ],
      "metadata": {
        "id": "sBiA5XHwEkO2"
      }
    },
    {
      "cell_type": "code",
      "source": [
        "listVar=[intVar, floatVar, strVar, 0, True]\n",
        "listVar"
      ],
      "metadata": {
        "colab": {
          "base_uri": "https://localhost:8080/"
        },
        "id": "iHgvARfGDsMv",
        "outputId": "58d757cc-6c28-49b0-868a-97d36f65dae2"
      },
      "execution_count": 157,
      "outputs": [
        {
          "output_type": "execute_result",
          "data": {
            "text/plain": [
              "[3, 3.0, 'hello world', 0, True]"
            ]
          },
          "metadata": {},
          "execution_count": 157
        }
      ]
    },
    {
      "cell_type": "code",
      "source": [
        "#append adds elements at the end of the string\n",
        "listVar.append(11)\n",
        "listVar"
      ],
      "metadata": {
        "colab": {
          "base_uri": "https://localhost:8080/"
        },
        "id": "isdsPuhoE55E",
        "outputId": "07a7ec7e-1feb-413a-a996-3106b2facb1e"
      },
      "execution_count": 158,
      "outputs": [
        {
          "output_type": "execute_result",
          "data": {
            "text/plain": [
              "[3, 3.0, 'hello world', 0, True, 11]"
            ]
          },
          "metadata": {},
          "execution_count": 158
        }
      ]
    },
    {
      "cell_type": "code",
      "source": [
        "listVar[0]"
      ],
      "metadata": {
        "colab": {
          "base_uri": "https://localhost:8080/"
        },
        "id": "fkSIxERJFFVf",
        "outputId": "e978f6ee-9d71-47eb-8d38-ca3a87f575f7"
      },
      "execution_count": 159,
      "outputs": [
        {
          "output_type": "execute_result",
          "data": {
            "text/plain": [
              "3"
            ]
          },
          "metadata": {},
          "execution_count": 159
        }
      ]
    },
    {
      "cell_type": "code",
      "source": [
        "strVar[0]"
      ],
      "metadata": {
        "colab": {
          "base_uri": "https://localhost:8080/",
          "height": 35
        },
        "id": "Tpc9murzFTR9",
        "outputId": "492fa336-bffb-4ddb-c1c1-a3bad5d34ff1"
      },
      "execution_count": 160,
      "outputs": [
        {
          "output_type": "execute_result",
          "data": {
            "text/plain": [
              "'h'"
            ],
            "application/vnd.google.colaboratory.intrinsic+json": {
              "type": "string"
            }
          },
          "metadata": {},
          "execution_count": 160
        }
      ]
    },
    {
      "cell_type": "code",
      "source": [
        "'h' in strVar"
      ],
      "metadata": {
        "colab": {
          "base_uri": "https://localhost:8080/"
        },
        "id": "_YE3gXvOFV_K",
        "outputId": "73c47190-282d-4cfe-c8f3-eca868a10ca1"
      },
      "execution_count": 161,
      "outputs": [
        {
          "output_type": "execute_result",
          "data": {
            "text/plain": [
              "True"
            ]
          },
          "metadata": {},
          "execution_count": 161
        }
      ]
    },
    {
      "cell_type": "code",
      "source": [
        "3 in listVar"
      ],
      "metadata": {
        "colab": {
          "base_uri": "https://localhost:8080/"
        },
        "id": "mwAFEOqyFiPJ",
        "outputId": "cba0f6a4-2e2b-43c4-81b3-41b2564b6c60"
      },
      "execution_count": 162,
      "outputs": [
        {
          "output_type": "execute_result",
          "data": {
            "text/plain": [
              "True"
            ]
          },
          "metadata": {},
          "execution_count": 162
        }
      ]
    },
    {
      "cell_type": "code",
      "source": [
        "64 in listVar"
      ],
      "metadata": {
        "colab": {
          "base_uri": "https://localhost:8080/"
        },
        "id": "0eWQdUc_FkiZ",
        "outputId": "c4fc8551-aeac-4926-e6da-bfaad3dc44c6"
      },
      "execution_count": 163,
      "outputs": [
        {
          "output_type": "execute_result",
          "data": {
            "text/plain": [
              "False"
            ]
          },
          "metadata": {},
          "execution_count": 163
        }
      ]
    },
    {
      "cell_type": "code",
      "source": [
        "listVar\n"
      ],
      "metadata": {
        "colab": {
          "base_uri": "https://localhost:8080/"
        },
        "id": "hzn0YrtlFmkV",
        "outputId": "891f2742-ce7c-48f8-9ebf-20b060ac4f68"
      },
      "execution_count": 164,
      "outputs": [
        {
          "output_type": "execute_result",
          "data": {
            "text/plain": [
              "[3, 3.0, 'hello world', 0, True, 11]"
            ]
          },
          "metadata": {},
          "execution_count": 164
        }
      ]
    },
    {
      "cell_type": "code",
      "source": [
        "listVar[1]=9"
      ],
      "metadata": {
        "id": "VGSMMPgdFrZw"
      },
      "execution_count": 165,
      "outputs": []
    },
    {
      "cell_type": "code",
      "source": [
        "listVar"
      ],
      "metadata": {
        "colab": {
          "base_uri": "https://localhost:8080/"
        },
        "id": "OPOuQfscF029",
        "outputId": "d2233921-1732-4960-de35-1ae228b92124"
      },
      "execution_count": 166,
      "outputs": [
        {
          "output_type": "execute_result",
          "data": {
            "text/plain": [
              "[3, 9, 'hello world', 0, True, 11]"
            ]
          },
          "metadata": {},
          "execution_count": 166
        }
      ]
    },
    {
      "cell_type": "markdown",
      "source": [
        "#4) Exercize: Wordle"
      ],
      "metadata": {
        "id": "dXO-sNg6GKjQ"
      }
    },
    {
      "cell_type": "code",
      "source": [
        "target=\"yyyyy\""
      ],
      "metadata": {
        "id": "3rMIUNNBF642"
      },
      "execution_count": 167,
      "outputs": []
    },
    {
      "cell_type": "code",
      "source": [
        "guess=\"xxxxx\""
      ],
      "metadata": {
        "id": "sCz_RGdAGRVD"
      },
      "execution_count": 168,
      "outputs": []
    },
    {
      "cell_type": "code",
      "source": [
        "target=\"ERROR\"\n",
        "guess=\"Acres\"\n",
        "if len(guess)!=5 | len(target)!=5:\n",
        "  print('Illegal word')\n",
        "else:\n",
        "  target=target.upper()\n",
        "  guess=guess.upper()\n",
        "  output=[]\n",
        "  for i in range (0,5):\n",
        "    if guess[i] in target:\n",
        "      if guess[i]==target[i]:\n",
        "        output.append(guess[i])\n",
        "      else:\n",
        "       output.append('*')\n",
        "    else:\n",
        "      output.append('_')\n",
        "  print(\" \".join(output))"
      ],
      "metadata": {
        "colab": {
          "base_uri": "https://localhost:8080/"
        },
        "id": "eE1U9mbkG8Iu",
        "outputId": "a6b0c890-00c3-481b-ee99-8c80e1a77e50"
      },
      "execution_count": 169,
      "outputs": [
        {
          "output_type": "stream",
          "name": "stdout",
          "text": [
            "_ _ R * _\n"
          ]
        }
      ]
    },
    {
      "cell_type": "markdown",
      "source": [
        "#5) Functions"
      ],
      "metadata": {
        "id": "dfMNE0IkPAAu"
      }
    },
    {
      "cell_type": "code",
      "source": [
        "def wordle(guess):\n",
        "  \"\"\"\n",
        "  A function that checks a word guess against a target\n",
        "  Input: \n",
        "    guess: a string\n",
        "  Return:\n",
        "    a string\n",
        "  \"\"\"\n",
        "  target=\"ERROR\"\n",
        "\n",
        "  if len(guess)!=5 | len(target)!=5:\n",
        "    print('Illegal word')\n",
        "  else:\n",
        "    target=target.upper()\n",
        "    guess=guess.upper()\n",
        "    output=[]\n",
        "    for i in range (0,5):\n",
        "      if guess[i] in target:\n",
        "        if guess[i]==target[i]:\n",
        "          output.append(guess[i])\n",
        "        else:\n",
        "          output.append('*')\n",
        "      else:\n",
        "        output.append('_')\n",
        "    print(\" \".join(output))"
      ],
      "metadata": {
        "id": "75ZZBhjTJxHo"
      },
      "execution_count": 170,
      "outputs": []
    },
    {
      "cell_type": "code",
      "source": [
        "wordle?"
      ],
      "metadata": {
        "id": "0ifVYUeuQivc"
      },
      "execution_count": 171,
      "outputs": []
    },
    {
      "cell_type": "code",
      "source": [
        "wordle('bugia')"
      ],
      "metadata": {
        "colab": {
          "base_uri": "https://localhost:8080/"
        },
        "id": "5v__TK89RPQy",
        "outputId": "d912b89b-1619-4613-dad0-71eee15d9c51"
      },
      "execution_count": 172,
      "outputs": [
        {
          "output_type": "stream",
          "name": "stdout",
          "text": [
            "_ _ _ _ _\n"
          ]
        }
      ]
    },
    {
      "cell_type": "markdown",
      "source": [
        "#6) Importing packages"
      ],
      "metadata": {
        "id": "RshBSCrySI3J"
      }
    },
    {
      "cell_type": "markdown",
      "source": [
        "Typical packages that we'll see:\n",
        "##pandas\n",
        "manipulation of tabular data\n",
        "##numpy \n",
        "manipulation of numerical data\n",
        "##scipy\n",
        "statistica (also statsmodels)\n",
        "##matplotlib(pylab)\n",
        "visualizations and plotting\n",
        "##sklearn(scikitlearn)\n",
        "machine learning\n",
        "##tensorflow\n",
        "neural networks"
      ],
      "metadata": {
        "id": "p9oZZKNlSfTl"
      }
    },
    {
      "cell_type": "code",
      "source": [
        "import pandas as pd\n",
        "# from pandas import * # never !\n",
        "#cvs='comma separated values'"
      ],
      "metadata": {
        "id": "wTw5gQMIRRw1"
      },
      "execution_count": 173,
      "outputs": []
    },
    {
      "cell_type": "code",
      "source": [
        "url=\"https://raw.githubusercontent.com/fedhere/PyBOOT/master/311_Service_Requests_from_2010_to_Present.csv\""
      ],
      "metadata": {
        "id": "FRaju5L2TFNS"
      },
      "execution_count": 174,
      "outputs": []
    },
    {
      "cell_type": "code",
      "source": [
        "#shows file (url)\n",
        "df=pd.read_csv(url)"
      ],
      "metadata": {
        "id": "tPNXK5D4VNIc"
      },
      "execution_count": 175,
      "outputs": []
    },
    {
      "cell_type": "code",
      "source": [
        "#dimensions of file matrix\n",
        "df.shape\n"
      ],
      "metadata": {
        "colab": {
          "base_uri": "https://localhost:8080/"
        },
        "id": "ZJfBcM1tVSrp",
        "outputId": "52598f85-1168-4576-be35-1575c71189e9"
      },
      "execution_count": 176,
      "outputs": [
        {
          "output_type": "execute_result",
          "data": {
            "text/plain": [
              "(924, 41)"
            ]
          },
          "metadata": {},
          "execution_count": 176
        }
      ]
    },
    {
      "cell_type": "code",
      "source": [
        "#property/name of each column\n",
        "df.columns"
      ],
      "metadata": {
        "colab": {
          "base_uri": "https://localhost:8080/"
        },
        "id": "LI3-QkxYVel4",
        "outputId": "77a7e079-5a62-45e0-9bdf-f52b739fc368"
      },
      "execution_count": 177,
      "outputs": [
        {
          "output_type": "execute_result",
          "data": {
            "text/plain": [
              "Index(['Unique Key', 'Created Date', 'Closed Date', 'Agency', 'Agency Name',\n",
              "       'Complaint Type', 'Descriptor', 'Location Type', 'Incident Zip',\n",
              "       'Incident Address', 'Street Name', 'Cross Street 1', 'Cross Street 2',\n",
              "       'Intersection Street 1', 'Intersection Street 2', 'Address Type',\n",
              "       'City', 'Landmark', 'Facility Type', 'Status', 'Due Date',\n",
              "       'Resolution Description', 'Resolution Action Updated Date',\n",
              "       'Community Board', 'BBL', 'Borough', 'X Coordinate (State Plane)',\n",
              "       'Y Coordinate (State Plane)', 'Open Data Channel Type',\n",
              "       'Park Facility Name', 'Park Borough', 'Vehicle Type',\n",
              "       'Taxi Company Borough', 'Taxi Pick Up Location', 'Bridge Highway Name',\n",
              "       'Bridge Highway Direction', 'Road Ramp', 'Bridge Highway Segment',\n",
              "       'Latitude', 'Longitude', 'Location'],\n",
              "      dtype='object')"
            ]
          },
          "metadata": {},
          "execution_count": 177
        }
      ]
    },
    {
      "cell_type": "code",
      "source": [
        "#estrapolates first line dataframes\n",
        "df.iloc[0]"
      ],
      "metadata": {
        "colab": {
          "base_uri": "https://localhost:8080/"
        },
        "id": "LIMrguiOV4wA",
        "outputId": "e183e6ee-9f36-4d59-df8c-b925bfc822f3"
      },
      "execution_count": 178,
      "outputs": [
        {
          "output_type": "execute_result",
          "data": {
            "text/plain": [
              "Unique Key                                                       54049402\n",
              "Created Date                                       05/01/2022 12:00:03 AM\n",
              "Closed Date                                                           NaN\n",
              "Agency                                                               NYPD\n",
              "Agency Name                               New York City Police Department\n",
              "Complaint Type                                        Noise - Residential\n",
              "Descriptor                                               Loud Music/Party\n",
              "Location Type                                  Residential Building/House\n",
              "Incident Zip                                                      10452.0\n",
              "Incident Address                                       1006 GERARD AVENUE\n",
              "Street Name                                                 GERARD AVENUE\n",
              "Cross Street 1                                           EAST  164 STREET\n",
              "Cross Street 2                                           EAST  165 STREET\n",
              "Intersection Street 1                                    EAST  164 STREET\n",
              "Intersection Street 2                                    EAST  165 STREET\n",
              "Address Type                                                      ADDRESS\n",
              "City                                                                BRONX\n",
              "Landmark                                                    GERARD AVENUE\n",
              "Facility Type                                                         NaN\n",
              "Status                                                        In Progress\n",
              "Due Date                                                              NaN\n",
              "Resolution Description                                                NaN\n",
              "Resolution Action Updated Date                                        NaN\n",
              "Community Board                                                  04 BRONX\n",
              "BBL                                                          2024770001.0\n",
              "Borough                                                             BRONX\n",
              "X Coordinate (State Plane)                                      1005536.0\n",
              "Y Coordinate (State Plane)                                       241916.0\n",
              "Open Data Channel Type                                             ONLINE\n",
              "Park Facility Name                                            Unspecified\n",
              "Park Borough                                                        BRONX\n",
              "Vehicle Type                                                          NaN\n",
              "Taxi Company Borough                                                  NaN\n",
              "Taxi Pick Up Location                                                 NaN\n",
              "Bridge Highway Name                                                   NaN\n",
              "Bridge Highway Direction                                              NaN\n",
              "Road Ramp                                                             NaN\n",
              "Bridge Highway Segment                                                NaN\n",
              "Latitude                                                        40.830653\n",
              "Longitude                                                      -73.923082\n",
              "Location                          (40.83065331987539, -73.92308231033165)\n",
              "Name: 0, dtype: object"
            ]
          },
          "metadata": {},
          "execution_count": 178
        }
      ]
    },
    {
      "cell_type": "code",
      "source": [
        "df.loc[:,'Created Date']"
      ],
      "metadata": {
        "colab": {
          "base_uri": "https://localhost:8080/"
        },
        "id": "PYZQXFheWm4I",
        "outputId": "dbc2df0b-23d2-4ce0-c037-75ec980430a9"
      },
      "execution_count": 179,
      "outputs": [
        {
          "output_type": "execute_result",
          "data": {
            "text/plain": [
              "0      05/01/2022 12:00:03 AM\n",
              "1      05/01/2022 12:00:09 AM\n",
              "2      05/01/2022 12:00:17 AM\n",
              "3      05/01/2022 12:00:21 AM\n",
              "4      05/01/2022 12:00:25 AM\n",
              "                ...          \n",
              "919    05/01/2022 02:04:45 AM\n",
              "920    05/01/2022 02:05:35 AM\n",
              "921    05/01/2022 02:05:38 AM\n",
              "922    05/01/2022 02:06:13 AM\n",
              "923    05/01/2022 02:06:26 AM\n",
              "Name: Created Date, Length: 924, dtype: object"
            ]
          },
          "metadata": {},
          "execution_count": 179
        }
      ]
    },
    {
      "cell_type": "code",
      "source": [
        "url=\"https://raw.githubusercontent.com/fedhere/UInotebooks/master/dataWrangling/movies.dat\""
      ],
      "metadata": {
        "id": "AzMBswh5W6C6"
      },
      "execution_count": 180,
      "outputs": []
    },
    {
      "cell_type": "code",
      "source": [
        "colnames=['Title', 'Genre']\n",
        "movies=pd.read_csv(url, sep=\"::\", index_col=0, header=None, names=colnames)\n",
        "#header=first line with name of columns"
      ],
      "metadata": {
        "colab": {
          "base_uri": "https://localhost:8080/"
        },
        "id": "o2bxl6eBXnCl",
        "outputId": "a8c9d2f5-5f32-49a1-9643-3035e3533af5"
      },
      "execution_count": 181,
      "outputs": [
        {
          "output_type": "stream",
          "name": "stderr",
          "text": [
            "/usr/local/lib/python3.9/dist-packages/pandas/util/_decorators.py:311: ParserWarning: Falling back to the 'python' engine because the 'c' engine does not support regex separators (separators > 1 char and different from '\\s+' are interpreted as regex); you can avoid this warning by specifying engine='python'.\n",
            "  return func(*args, **kwargs)\n"
          ]
        }
      ]
    },
    {
      "cell_type": "code",
      "source": [
        "movies.columns"
      ],
      "metadata": {
        "colab": {
          "base_uri": "https://localhost:8080/"
        },
        "id": "EWyBuu0vYvqW",
        "outputId": "05cd9e4c-d655-4ca1-e6de-cc28b3f5f97e"
      },
      "execution_count": 182,
      "outputs": [
        {
          "output_type": "execute_result",
          "data": {
            "text/plain": [
              "Index(['Title', 'Genre'], dtype='object')"
            ]
          },
          "metadata": {},
          "execution_count": 182
        }
      ]
    },
    {
      "cell_type": "code",
      "source": [
        "movies[\"Title\"]"
      ],
      "metadata": {
        "colab": {
          "base_uri": "https://localhost:8080/"
        },
        "id": "87X1eqFJYxG5",
        "outputId": "44b42138-64b5-462a-cd8f-65c9d4ccd0a2"
      },
      "execution_count": 183,
      "outputs": [
        {
          "output_type": "execute_result",
          "data": {
            "text/plain": [
              "1                         Toy Story (1995)\n",
              "2                           Jumanji (1995)\n",
              "3                  Grumpier Old Men (1995)\n",
              "4                 Waiting to Exhale (1995)\n",
              "5       Father of the Bride Part II (1995)\n",
              "                       ...                \n",
              "3948               Meet the Parents (2000)\n",
              "3949            Requiem for a Dream (2000)\n",
              "3950                      Tigerland (2000)\n",
              "3951               Two Family House (2000)\n",
              "3952                 Contender, The (2000)\n",
              "Name: Title, Length: 3883, dtype: object"
            ]
          },
          "metadata": {},
          "execution_count": 183
        }
      ]
    },
    {
      "cell_type": "code",
      "source": [
        "movies[\"Genre\"]"
      ],
      "metadata": {
        "colab": {
          "base_uri": "https://localhost:8080/"
        },
        "id": "x91WhXXAZIp7",
        "outputId": "3bf773ce-8c30-4556-e1fb-004b6b9465d2"
      },
      "execution_count": 184,
      "outputs": [
        {
          "output_type": "execute_result",
          "data": {
            "text/plain": [
              "1        Animation|Children's|Comedy\n",
              "2       Adventure|Children's|Fantasy\n",
              "3                     Comedy|Romance\n",
              "4                       Comedy|Drama\n",
              "5                             Comedy\n",
              "                    ...             \n",
              "3948                          Comedy\n",
              "3949                           Drama\n",
              "3950                           Drama\n",
              "3951                           Drama\n",
              "3952                  Drama|Thriller\n",
              "Name: Genre, Length: 3883, dtype: object"
            ]
          },
          "metadata": {},
          "execution_count": 184
        }
      ]
    },
    {
      "cell_type": "code",
      "source": [
        "\"Toy Story (1995)\".split()"
      ],
      "metadata": {
        "colab": {
          "base_uri": "https://localhost:8080/"
        },
        "id": "TQ4UY10UZjKb",
        "outputId": "ac8be7e9-3d47-4344-f691-89f99cb36a52"
      },
      "execution_count": 185,
      "outputs": [
        {
          "output_type": "execute_result",
          "data": {
            "text/plain": [
              "['Toy', 'Story', '(1995)']"
            ]
          },
          "metadata": {},
          "execution_count": 185
        }
      ]
    },
    {
      "cell_type": "code",
      "source": [
        "\"Toy Story (1995)\".split()[2]"
      ],
      "metadata": {
        "colab": {
          "base_uri": "https://localhost:8080/",
          "height": 35
        },
        "id": "2k86cNBsZ1Wf",
        "outputId": "db50fdb0-5317-40af-c8b7-dcffd47eb641"
      },
      "execution_count": 186,
      "outputs": [
        {
          "output_type": "execute_result",
          "data": {
            "text/plain": [
              "'(1995)'"
            ],
            "application/vnd.google.colaboratory.intrinsic+json": {
              "type": "string"
            }
          },
          "metadata": {},
          "execution_count": 186
        }
      ]
    },
    {
      "cell_type": "code",
      "source": [
        "\"Toy Story (1995)\".split()[-1]"
      ],
      "metadata": {
        "colab": {
          "base_uri": "https://localhost:8080/",
          "height": 35
        },
        "id": "zGGA4pEaaB-R",
        "outputId": "dd1ba15c-9e23-4ff1-a1bb-1877178082de"
      },
      "execution_count": 187,
      "outputs": [
        {
          "output_type": "execute_result",
          "data": {
            "text/plain": [
              "'(1995)'"
            ],
            "application/vnd.google.colaboratory.intrinsic+json": {
              "type": "string"
            }
          },
          "metadata": {},
          "execution_count": 187
        }
      ]
    },
    {
      "cell_type": "code",
      "source": [
        "\"Toy Story (1995)\".split()[-1].replace(\"(\",\"\").strip(\")\")"
      ],
      "metadata": {
        "colab": {
          "base_uri": "https://localhost:8080/",
          "height": 35
        },
        "id": "GBGxrWwtaM8z",
        "outputId": "be0d33b5-16d0-4344-ea51-eed435bb2178"
      },
      "execution_count": 188,
      "outputs": [
        {
          "output_type": "execute_result",
          "data": {
            "text/plain": [
              "'1995'"
            ],
            "application/vnd.google.colaboratory.intrinsic+json": {
              "type": "string"
            }
          },
          "metadata": {},
          "execution_count": 188
        }
      ]
    },
    {
      "cell_type": "code",
      "source": [
        "#def function to estrapolate the years from the file\n",
        "def get_year(mtitle):\n",
        "  \"\"\"\n",
        "  \"\"\"\n",
        "  return int(mtitle.split(\"(\")[-1].strip(\")\"))"
      ],
      "metadata": {
        "id": "-9zFCz3yaYqE"
      },
      "execution_count": 189,
      "outputs": []
    },
    {
      "cell_type": "code",
      "source": [
        "#recall the function in our file\n",
        "movies[\"Title\"].map(get_year)"
      ],
      "metadata": {
        "colab": {
          "base_uri": "https://localhost:8080/"
        },
        "id": "m13VeES7ayus",
        "outputId": "06f775ff-9764-4866-ea2e-72047b9a0ff8"
      },
      "execution_count": 190,
      "outputs": [
        {
          "output_type": "execute_result",
          "data": {
            "text/plain": [
              "1       1995\n",
              "2       1995\n",
              "3       1995\n",
              "4       1995\n",
              "5       1995\n",
              "        ... \n",
              "3948    2000\n",
              "3949    2000\n",
              "3950    2000\n",
              "3951    2000\n",
              "3952    2000\n",
              "Name: Title, Length: 3883, dtype: int64"
            ]
          },
          "metadata": {},
          "execution_count": 190
        }
      ]
    },
    {
      "cell_type": "code",
      "source": [
        "#creates column of movies sorted by year\n",
        "#movies[\"year\"]=movies[\"Title\"].map(get_year)\n",
        "#movies"
      ],
      "metadata": {
        "id": "To4aOk0wa4Ky"
      },
      "execution_count": 25,
      "outputs": []
    },
    {
      "cell_type": "code",
      "source": [
        "#plot of number of movies(years)\n",
        "#movies.groupby(\"year\").count().plot(y=\"title\")"
      ],
      "metadata": {
        "id": "iXx_82-YNxi0"
      },
      "execution_count": 26,
      "outputs": []
    },
    {
      "cell_type": "markdown",
      "source": [
        "##Exercise: sorting movies by genre"
      ],
      "metadata": {
        "id": "0OBz14pqf_2e"
      }
    },
    {
      "cell_type": "code",
      "source": [
        "import pandas as pd\n",
        "url=\"https://raw.githubusercontent.com/fedhere/UInotebooks/master/dataWrangling/movies.dat\"\n",
        "colnames=['title', 'genres']\n",
        "movies= pd.read_csv(url, sep=\"::\", index_col=0, header=None, names=colnames)"
      ],
      "metadata": {
        "id": "pPLD0AORCPPc"
      },
      "execution_count": 194,
      "outputs": []
    },
    {
      "cell_type": "code",
      "source": [
        "movies.genres"
      ],
      "metadata": {
        "colab": {
          "base_uri": "https://localhost:8080/"
        },
        "id": "cKoAn_QQGCBn",
        "outputId": "e1db28eb-654b-494a-b87c-bbebe06232a8"
      },
      "execution_count": 195,
      "outputs": [
        {
          "output_type": "execute_result",
          "data": {
            "text/plain": [
              "1        Animation|Children's|Comedy\n",
              "2       Adventure|Children's|Fantasy\n",
              "3                     Comedy|Romance\n",
              "4                       Comedy|Drama\n",
              "5                             Comedy\n",
              "                    ...             \n",
              "3948                          Comedy\n",
              "3949                           Drama\n",
              "3950                           Drama\n",
              "3951                           Drama\n",
              "3952                  Drama|Thriller\n",
              "Name: genres, Length: 3883, dtype: object"
            ]
          },
          "metadata": {},
          "execution_count": 195
        }
      ]
    },
    {
      "cell_type": "code",
      "source": [
        "len(movies.genres)"
      ],
      "metadata": {
        "colab": {
          "base_uri": "https://localhost:8080/"
        },
        "id": "J6D8npxxhWM0",
        "outputId": "ff974fb2-61c0-42c2-cc72-331025691469"
      },
      "execution_count": 196,
      "outputs": [
        {
          "output_type": "execute_result",
          "data": {
            "text/plain": [
              "3883"
            ]
          },
          "metadata": {},
          "execution_count": 196
        }
      ]
    },
    {
      "cell_type": "code",
      "source": [
        "#Finds all 'Fantasy' movies\n",
        "c=0;\n",
        "#mf=[]; to print as table\n",
        "for i in range(len(movies.genres)):\n",
        "  if \"Fantasy\" in movies.genres.iloc[i]:\n",
        "    c+=1\n",
        "    #mf.append(movies[i])\n",
        "print(\"There are\",c,\"Fantasy movies in the list.\")\n",
        "print(\"\")\n",
        "print(\"List of movies with this property:\")\n",
        "print(\"\")\n",
        "for i in range(len(movies.genres)):\n",
        "  if \"Fantasy\" in movies.genres.iloc[i]:\n",
        "    print(movies.title.iloc[i],movies.genres.iloc[i])\n",
        "#mff=pd.DataFrames(mf)\n",
        "print(\"--------------------------\")\n",
        "#Finds movies that are just 'Fantasy' \n",
        "d=0;\n",
        "for i in range(len(movies.genres)):\n",
        "  if movies.genres.iloc[i]==\"Fantasy\":\n",
        "    d+=1\n",
        "print(\"There are\",d,\"exclusevely Fantasy movies in the list.\")\n",
        "print(\"\")\n",
        "print(\"List of movies with this property:\")\n",
        "print(\"\")\n",
        "print(movies[movies.genres==\"Fantasy\"])"
      ],
      "metadata": {
        "colab": {
          "base_uri": "https://localhost:8080/"
        },
        "id": "s8AZi9XxGLUo",
        "outputId": "26fca6e9-50da-4b93-a960-9ed91f6463ff"
      },
      "execution_count": 197,
      "outputs": [
        {
          "output_type": "stream",
          "name": "stdout",
          "text": [
            "There are 68 Fantasy movies in the list.\n",
            "\n",
            "List of movies with this property:\n",
            "\n",
            "Jumanji (1995) Adventure|Children's|Fantasy\n",
            "Kids of the Round Table (1995) Adventure|Children's|Fantasy\n",
            "Indian in the Cupboard, The (1995) Adventure|Children's|Fantasy\n",
            "NeverEnding Story III, The (1994) Adventure|Children's|Fantasy\n",
            "Heavenly Creatures (1994) Drama|Fantasy|Romance|Thriller\n",
            "Kid in King Arthur's Court, A (1995) Adventure|Children's|Comedy|Fantasy|Romance\n",
            "Star Wars: Episode IV - A New Hope (1977) Action|Adventure|Fantasy|Sci-Fi\n",
            "Santa Clause, The (1994) Children's|Comedy|Fantasy\n",
            "Mask, The (1994) Comedy|Crime|Fantasy\n",
            "Pagemaster, The (1994) Action|Adventure|Animation|Children's|Fantasy\n",
            "Dragonheart (1996) Action|Adventure|Fantasy\n",
            "Space Jam (1996) Adventure|Animation|Children's|Comedy|Fantasy\n",
            "Nutty Professor, The (1996) Comedy|Fantasy|Romance|Sci-Fi\n",
            "Hungarian Fairy Tale, A (1987) Fantasy\n",
            "Kazaam (1996) Children's|Comedy|Fantasy\n",
            "Bogus (1996) Children's|Drama|Fantasy\n",
            "Escape to Witch Mountain (1975) Adventure|Children's|Fantasy\n",
            "20,000 Leagues Under the Sea (1954) Adventure|Children's|Fantasy|Sci-Fi\n",
            "Willy Wonka and the Chocolate Factory (1971) Adventure|Children's|Comedy|Fantasy\n",
            "E.T. the Extra-Terrestrial (1982) Children's|Drama|Fantasy|Sci-Fi\n",
            "Drop Dead Fred (1991) Comedy|Fantasy\n",
            "Warriors of Virtue (1997) Action|Adventure|Children's|Fantasy\n",
            "Simple Wish, A (1997) Children's|Fantasy\n",
            "FairyTale: A True Story (1997) Children's|Drama|Fantasy\n",
            "Flubber (1997) Children's|Comedy|Fantasy\n",
            "Star Kid (1997) Adventure|Children's|Fantasy|Sci-Fi\n",
            "Borrowers, The (1997) Adventure|Children's|Comedy|Fantasy\n",
            "Quest for Camelot (1998) Adventure|Animation|Children's|Fantasy\n",
            "Small Soldiers (1998) Animation|Children's|Fantasy|War\n",
            "Labyrinth (1986) Adventure|Children's|Fantasy\n",
            "Goonies, The (1985) Adventure|Children's|Fantasy\n",
            "Absent Minded Professor, The (1961) Children's|Comedy|Fantasy\n",
            "Babes in Toyland (1961) Children's|Fantasy|Musical\n",
            "Dune (1984) Fantasy|Sci-Fi\n",
            "Darby O'Gill and the Little People (1959) Adventure|Children's|Fantasy\n",
            "Honey, I Shrunk the Kids (1989) Adventure|Children's|Comedy|Fantasy|Sci-Fi\n",
            "One Magic Christmas (1985) Drama|Fantasy\n",
            "Peter Pan (1953) Animation|Children's|Fantasy|Musical\n",
            "Return to Oz (1985) Adventure|Children's|Fantasy|Sci-Fi\n",
            "Splash (1984) Comedy|Fantasy|Romance\n",
            "Tron (1982) Action|Adventure|Fantasy|Sci-Fi\n",
            "Watership Down (1978) Animation|Children's|Drama|Fantasy\n",
            "Dark Crystal, The (1982) Children's|Fantasy|Sci-Fi\n",
            "Legend (1985) Adventure|Fantasy|Romance\n",
            "NeverEnding Story, The (1984) Adventure|Children's|Fantasy\n",
            "NeverEnding Story II: The Next Chapter, The (1990) Adventure|Children's|Fantasy\n",
            "Navigator: A Mediaeval Odyssey, The (1988) Adventure|Fantasy|Sci-Fi\n",
            "Beetlejuice (1988) Comedy|Fantasy\n",
            "Willow (1988) Action|Adventure|Fantasy\n",
            "Toys (1992) Action|Comedy|Fantasy\n",
            "Santa Claus: The Movie (1985) Adventure|Children's|Fantasy\n",
            "Boy Who Could Fly, The (1986) Drama|Fantasy\n",
            "Midsummer Night's Dream, A (1999) Comedy|Fantasy\n",
            "Star Wars: Episode I - The Phantom Menace (1999) Action|Adventure|Fantasy|Sci-Fi\n",
            "Big (1988) Comedy|Fantasy\n",
            "Excalibur (1981) Action|Drama|Fantasy|Romance\n",
            "Time Bandits (1981) Adventure|Fantasy|Sci-Fi\n",
            "7th Voyage of Sinbad, The (1958) Action|Adventure|Fantasy\n",
            "Date with an Angel (1987) Comedy|Fantasy\n",
            "Teenage Mutant Ninja Turtles (1990) Action|Children's|Fantasy\n",
            "Teenage Mutant Ninja Turtles II: The Secret of the Ooze (1991) Action|Children's|Fantasy\n",
            "Teenage Mutant Ninja Turtles III (1993) Action|Children's|Fantasy\n",
            "Heart and Souls (1993) Comedy|Fantasy\n",
            "Ladyhawke (1985) Adventure|Fantasy|Romance\n",
            "Hook (1991) Adventure|Fantasy\n",
            "Supergirl (1984) Action|Adventure|Fantasy\n",
            "Highlander: Endgame (2000) Action|Adventure|Fantasy\n",
            "Faraway, So Close (In Weiter Ferne, So Nah!) (1993) Drama|Fantasy\n",
            "--------------------------\n",
            "There are 1 exclusevely Fantasy movies in the list.\n",
            "\n",
            "List of movies with this property:\n",
            "\n",
            "                              title   genres\n",
            "792  Hungarian Fairy Tale, A (1987)  Fantasy\n"
          ]
        }
      ]
    },
    {
      "cell_type": "code",
      "source": [
        "#Finds all 'Adventure' movies\n",
        "b=0;\n",
        "for i in range(len(movies.genres)):\n",
        "  if \"Adventure\" in movies.genres.iloc[i]:\n",
        "    b+=1\n",
        "print(\"There are\",b,\"Adventure movies in the list.\")\n",
        "print(\"\")\n",
        "print(\"List of movies with this property:\")\n",
        "print(\"\")\n",
        "for i in range(len(movies.genres)):\n",
        "  if \"Adventure\" in movies.genres.iloc[i]:\n",
        "    print(movies.title.iloc[i], movies.genres.iloc[i])\n",
        "print(\"--------------------------\")\n",
        "#Finds movies that are just 'Adventure' \n",
        "a=0;\n",
        "for i in range(len(movies.genres)):\n",
        "  if movies.genres.iloc[i]==\"Adventure\":\n",
        "    a+=1\n",
        "print(\"There are\",a,\"exclusevely Fantasy movies in the list.\")\n",
        "print(\"\")\n",
        "print(\"List of movies with this property:\")\n",
        "print(\"\")\n",
        "print(movies[movies.genres==\"Adventure\"])"
      ],
      "metadata": {
        "colab": {
          "base_uri": "https://localhost:8080/"
        },
        "id": "o4xDKA4mht9d",
        "outputId": "e4052db0-1cde-46ed-e7ca-5da1d4f7615d"
      },
      "execution_count": 198,
      "outputs": [
        {
          "output_type": "stream",
          "name": "stdout",
          "text": [
            "There are 283 Adventure movies in the list.\n",
            "\n",
            "List of movies with this property:\n",
            "\n",
            "Jumanji (1995) Adventure|Children's|Fantasy\n",
            "Tom and Huck (1995) Adventure|Children's\n",
            "GoldenEye (1995) Action|Adventure|Thriller\n",
            "Cutthroat Island (1995) Action|Adventure|Romance\n",
            "City of Lost Children, The (1995) Adventure|Sci-Fi\n",
            "Wings of Courage (1995) Adventure|Romance\n",
            "Mortal Kombat (1995) Action|Adventure\n",
            "Kids of the Round Table (1995) Adventure|Children's|Fantasy\n",
            "Indian in the Cupboard, The (1995) Adventure|Children's|Fantasy\n",
            "White Squall (1996) Adventure|Drama\n",
            "Muppet Treasure Island (1996) Adventure|Children's|Comedy|Musical\n",
            "Rumble in the Bronx (1995) Action|Adventure|Crime\n",
            "NeverEnding Story III, The (1994) Adventure|Children's|Fantasy\n",
            "Amazing Panda Adventure, The (1995) Adventure|Children's\n",
            "Batman Forever (1995) Action|Adventure|Comedy|Crime\n",
            "Casper (1995) Adventure|Children's\n",
            "Congo (1995) Action|Adventure|Mystery|Sci-Fi\n",
            "First Knight (1995) Action|Adventure|Drama|Romance\n",
            "Free Willy 2: The Adventure Home (1995) Adventure|Children's|Drama\n",
            "Judge Dredd (1995) Action|Adventure|Sci-Fi\n",
            "Waterworld (1995) Action|Adventure\n",
            "Far From Home: The Adventures of Yellow Dog (1995) Adventure|Children's\n",
            "Kid in King Arthur's Court, A (1995) Adventure|Children's|Comedy|Fantasy|Romance\n",
            "Star Wars: Episode IV - A New Hope (1977) Action|Adventure|Fantasy|Sci-Fi\n",
            "Quick and the Dead, The (1995) Action|Adventure|Western\n",
            "Stargate (1994) Action|Adventure|Sci-Fi\n",
            "Star Trek: Generations (1994) Action|Adventure|Sci-Fi\n",
            "War, The (1994) Adventure|Drama\n",
            "Clear and Present Danger (1994) Action|Adventure|Thriller\n",
            "Jungle Book, The (1994) Adventure|Children's|Romance\n",
            "True Lies (1994) Action|Adventure|Comedy|Romance\n",
            "Secret Adventures of Tom Thumb, The (1993) Adventure|Children's\n",
            "Black Beauty (1994) Adventure|Children's\n",
            "Cliffhanger (1993) Action|Adventure|Crime\n",
            "Free Willy (1993) Adventure|Children's|Drama\n",
            "Good Man in Africa, A (1994) Action|Adventure\n",
            "Hard Target (1993) Action|Adventure|Crime|Thriller\n",
            "Jurassic Park (1993) Action|Adventure|Sci-Fi\n",
            "Lassie (1994) Adventure|Children's\n",
            "Super Mario Bros. (1993) Action|Adventure|Children's|Sci-Fi\n",
            "Surviving the Game (1994) Action|Adventure|Thriller\n",
            "Three Musketeers, The (1993) Action|Adventure|Comedy\n",
            "Pagemaster, The (1994) Action|Adventure|Animation|Children's|Fantasy\n",
            "Andre (1994) Adventure|Children's\n",
            "Dances with Wolves (1990) Adventure|Drama|Western\n",
            "Batman (1989) Action|Adventure|Crime|Drama\n",
            "Homeward Bound II: Lost in San Francisco (1996) Adventure|Children's\n",
            "Heavy Metal (1981) Action|Adventure|Animation|Horror|Sci-Fi\n",
            "Mission: Impossible (1996) Action|Adventure|Mystery\n",
            "Dragonheart (1996) Action|Adventure|Fantasy\n",
            "Space Jam (1996) Adventure|Animation|Children's|Comedy|Fantasy\n",
            "Barbarella (1968) Adventure|Sci-Fi\n",
            "Operation Dumbo Drop (1995) Action|Adventure|Comedy|War\n",
            "Quest, The (1996) Action|Adventure\n",
            "Flipper (1996) Adventure|Children's\n",
            "Rock, The (1996) Action|Adventure|Thriller\n",
            "Twister (1996) Action|Adventure|Romance|Thriller\n",
            "Gold Diggers: The Secret of Bear Mountain (1995) Adventure|Children's\n",
            "Phantom, The (1996) Adventure\n",
            "Daylight (1996) Action|Adventure|Thriller\n",
            "Alaska (1996) Adventure|Children's\n",
            "Fled (1996) Action|Adventure\n",
            "Adventures of Pinocchio, The (1996) Adventure|Children's\n",
            "Chain Reaction (1996) Action|Adventure|Thriller\n",
            "Escape from L.A. (1996) Action|Adventure|Sci-Fi|Thriller\n",
            "For Whom the Bell Tolls (1943) Adventure|War\n",
            "Wizard of Oz, The (1939) Adventure|Children's|Drama|Musical\n",
            "Golden Earrings (1947) Adventure|Romance\n",
            "Adventures of Robin Hood, The (1938) Action|Adventure\n",
            "Mark of Zorro, The (1940) Adventure\n",
            "Around the World in 80 Days (1956) Adventure|Comedy\n",
            "African Queen, The (1951) Action|Adventure|Romance|War\n",
            "Fly Away Home (1996) Adventure|Children's\n",
            "Maximum Risk (1996) Action|Adventure|Thriller\n",
            "Escape to Witch Mountain (1975) Adventure|Children's|Fantasy\n",
            "Herbie Rides Again (1974) Adventure|Children's|Comedy\n",
            "Homeward Bound: The Incredible Journey (1993) Adventure|Children's\n",
            "Swiss Family Robinson (1960) Adventure|Children's\n",
            "20,000 Leagues Under the Sea (1954) Adventure|Children's|Fantasy|Sci-Fi\n",
            "Pete's Dragon (1977) Adventure|Animation|Children's|Musical\n",
            "Bedknobs and Broomsticks (1971) Adventure|Children's|Musical\n",
            "Ghost and the Darkness, The (1996) Action|Adventure\n",
            "Macao (1952) Adventure\n",
            "Willy Wonka and the Chocolate Factory (1971) Adventure|Children's|Comedy|Fantasy\n",
            "Old Man and the Sea, The (1958) Adventure|Drama\n",
            "Tashunga (1995) Adventure|Western\n",
            "Abyss, The (1989) Action|Adventure|Sci-Fi|Thriller\n",
            "Escape from New York (1981) Action|Adventure|Sci-Fi|Thriller\n",
            "Star Wars: Episode V - The Empire Strikes Back (1980) Action|Adventure|Drama|Sci-Fi|War\n",
            "Princess Bride, The (1987) Action|Adventure|Comedy|Romance\n",
            "Raiders of the Lost Ark (1981) Action|Adventure\n",
            "Lawrence of Arabia (1962) Adventure|War\n",
            "Star Wars: Episode VI - Return of the Jedi (1983) Action|Adventure|Romance|Sci-Fi|War\n",
            "Army of Darkness (1993) Action|Adventure|Comedy|Horror|Sci-Fi\n",
            "Big Blue, The (Le Grand Bleu) (1988) Adventure|Romance\n",
            "Treasure of the Sierra Madre, The (1948) Adventure\n",
            "Stand by Me (1986) Adventure|Comedy|Drama\n",
            "Evil Dead II (Dead By Dawn) (1987) Action|Adventure|Comedy|Horror\n",
            "Great Escape, The (1963) Adventure|War\n",
            "Akira (1988) Adventure|Animation|Sci-Fi|Thriller\n",
            "Highlander (1986) Action|Adventure\n",
            "Ben-Hur (1959) Action|Adventure|Drama\n",
            "Indiana Jones and the Last Crusade (1989) Action|Adventure\n",
            "Man Who Would Be King, The (1975) Adventure\n",
            "Star Trek: First Contact (1996) Action|Adventure|Sci-Fi\n",
            "Jingle All the Way (1996) Adventure|Children's|Comedy\n",
            "Star Trek: The Motion Picture (1979) Action|Adventure|Sci-Fi\n",
            "Star Trek VI: The Undiscovered Country (1991) Action|Adventure|Sci-Fi\n",
            "Star Trek V: The Final Frontier (1989) Action|Adventure|Sci-Fi\n",
            "Star Trek: The Wrath of Khan (1982) Action|Adventure|Sci-Fi\n",
            "Star Trek III: The Search for Spock (1984) Action|Adventure|Sci-Fi\n",
            "Star Trek IV: The Voyage Home (1986) Action|Adventure|Sci-Fi\n",
            "Batman Returns (1992) Action|Adventure|Comedy|Crime\n",
            "Turbo: A Power Rangers Movie (1997) Action|Adventure|Children's\n",
            "Anaconda (1997) Action|Adventure|Thriller\n",
            "Warriors of Virtue (1997) Action|Adventure|Children's|Fantasy\n",
            "Second Jungle Book: Mowgli & Baloo, The (1997) Adventure|Children's\n",
            "Lost World: Jurassic Park, The (1997) Action|Adventure|Sci-Fi|Thriller\n",
            "Buddy (1997) Adventure|Children's|Drama\n",
            "Con Air (1997) Action|Adventure|Thriller\n",
            "Batman & Robin (1997) Action|Adventure|Crime\n",
            "Hercules (1997) Adventure|Animation|Children's|Comedy|Musical\n",
            "Men in Black (1997) Action|Adventure|Comedy|Sci-Fi\n",
            "Wild America (1997) Adventure|Children's\n",
            "Conan the Barbarian (1982) Action|Adventure\n",
            "Spawn (1997) Action|Adventure|Sci-Fi|Thriller\n",
            "Free Willy 3: The Rescue (1997) Adventure|Children's|Drama\n",
            "Excess Baggage (1997) Adventure|Romance\n",
            "Kull the Conqueror (1997) Action|Adventure\n",
            "Edge, The (1997) Adventure|Thriller\n",
            "Starship Troopers (1997) Action|Adventure|Sci-Fi|War\n",
            "Mortal Kombat: Annihilation (1997) Action|Adventure\n",
            "Time Tracers (1995) Action|Adventure|Sci-Fi\n",
            "Firestorm (1998) Action|Adventure|Thriller\n",
            "Star Kid (1997) Adventure|Children's|Fantasy|Sci-Fi\n",
            "Sphere (1998) Adventure|Sci-Fi|Thriller\n",
            "Paulie (1998) Adventure|Children's|Comedy\n",
            "Barney's Great Adventure (1998) Adventure|Children's\n",
            "Borrowers, The (1997) Adventure|Children's|Comedy|Fantasy\n",
            "Prince Valiant (1997) Adventure\n",
            "Tarzan and the Lost City (1998) Action|Adventure\n",
            "Quest for Camelot (1998) Adventure|Animation|Children's|Fantasy\n",
            "Almost Heroes (1998) Adventure|Comedy\n",
            "Six Days Seven Nights (1998) Adventure|Comedy|Romance\n",
            "Passion in the Desert (1998) Adventure|Drama\n",
            "Armageddon (1998) Action|Adventure|Sci-Fi|Thriller\n",
            "Mutiny on the Bounty (1935) Adventure\n",
            "Labyrinth (1986) Adventure|Children's|Fantasy\n",
            "Goonies, The (1985) Adventure|Children's|Fantasy\n",
            "Mask of Zorro, The (1998) Action|Adventure|Romance\n",
            "Poseidon Adventure, The (1972) Action|Adventure\n",
            "Candleshoe (1977) Adventure|Children's|Comedy\n",
            "Cheetah (1989) Adventure|Children's\n",
            "Condorman (1981) Action|Adventure|Children's|Comedy\n",
            "Darby O'Gill and the Little People (1959) Adventure|Children's|Fantasy\n",
            "Far Off Place, A (1993) Adventure|Children's|Drama|Romance\n",
            "Flight of the Navigator (1986) Adventure|Children's|Sci-Fi\n",
            "Herbie Goes Bananas (1980) Adventure|Children's|Comedy\n",
            "Herbie Goes to Monte Carlo (1977) Adventure|Children's|Comedy\n",
            "Honey, I Shrunk the Kids (1989) Adventure|Children's|Comedy|Fantasy|Sci-Fi\n",
            "In Search of the Castaways (1962) Adventure|Children's\n",
            "Incredible Journey, The (1963) Adventure|Children's\n",
            "Journey of Natty Gann, The (1985) Adventure|Children's\n",
            "Popeye (1980) Adventure|Comedy|Musical\n",
            "Return to Oz (1985) Adventure|Children's|Fantasy|Sci-Fi\n",
            "Rocketeer, The (1991) Action|Adventure|Sci-Fi\n",
            "Song of the South (1946) Adventure|Animation|Children's|Musical\n",
            "Squanto: A Warrior's Tale (1994) Adventure|Drama\n",
            "Tall Tale (1994) Adventure|Children's\n",
            "Tron (1982) Action|Adventure|Fantasy|Sci-Fi\n",
            "Indiana Jones and the Temple of Doom (1984) Action|Adventure\n",
            "Lord of the Rings, The (1978) Adventure|Animation|Children's|Sci-Fi\n",
            "Adventures in Babysitting (1987) Adventure|Comedy\n",
            "Doctor Dolittle (1967) Adventure|Musical\n",
            "Legend (1985) Adventure|Fantasy|Romance\n",
            "Avengers, The (1998) Action|Adventure\n",
            "NeverEnding Story, The (1984) Adventure|Children's|Fantasy\n",
            "NeverEnding Story II: The Next Chapter, The (1990) Adventure|Children's|Fantasy\n",
            "Blade (1998) Action|Adventure|Horror\n",
            "Navigator: A Mediaeval Odyssey, The (1988) Adventure|Fantasy|Sci-Fi\n",
            "Willow (1988) Action|Adventure|Fantasy\n",
            "Nothing But Trouble (1991) Adventure|Comedy\n",
            "Six-String Samurai (1998) Action|Adventure|Sci-Fi\n",
            "Soldier (1998) Action|Adventure|Sci-Fi|Thriller|War\n",
            "Runaway Train (1985) Action|Adventure|Drama|Thriller\n",
            "King Kong (1933) Action|Adventure|Horror\n",
            "King Kong (1976) Action|Adventure|Horror\n",
            "King Kong Lives (1986) Action|Adventure|Horror\n",
            "Emerald Forest, The (1985) Action|Adventure|Drama\n",
            "Red Sonja (1985) Action|Adventure\n",
            "Santa Claus: The Movie (1985) Adventure|Children's|Fantasy\n",
            "Jewel of the Nile, The (1985) Action|Adventure|Comedy|Romance\n",
            "Romancing the Stone (1984) Action|Adventure|Comedy|Romance\n",
            "Young Sherlock Holmes (1985) Action|Adventure|Mystery\n",
            "Karate Kid, Part II, The (1986) Action|Adventure|Drama\n",
            "Karate Kid III, The (1989) Action|Adventure|Drama\n",
            "Mighty Joe Young (1998) Adventure|Children's|Drama\n",
            "Mighty Joe Young (1949) Adventure|Children's|Drama\n",
            "Garbage Pail Kids Movie, The (1987) Adventure|Children's\n",
            "Howard the Duck (1986) Adventure|Children's|Sci-Fi\n",
            "Crocodile Dundee (1986) Adventure|Comedy\n",
            "Crocodile Dundee II (1988) Adventure|Comedy\n",
            "Firewalker (1986) Adventure\n",
            "Logan's Run (1976) Action|Adventure|Sci-Fi\n",
            "Beyond the Poseidon Adventure (1979) Adventure\n",
            "Mighty Peking Man (Hsing hsing wang) (1977) Adventure|Sci-Fi\n",
            "My Science Project (1985) Adventure|Sci-Fi\n",
            "Mummy, The (1999) Action|Adventure|Horror|Thriller\n",
            "Star Wars: Episode I - The Phantom Menace (1999) Action|Adventure|Fantasy|Sci-Fi\n",
            "Superman (1978) Action|Adventure|Sci-Fi\n",
            "Superman II (1980) Action|Adventure|Sci-Fi\n",
            "Superman III (1983) Action|Adventure|Sci-Fi\n",
            "Superman IV: The Quest for Peace (1987) Action|Adventure|Sci-Fi\n",
            "Inspector Gadget (1999) Action|Adventure|Children's|Comedy\n",
            "Mystery Men (1999) Action|Adventure|Comedy\n",
            "Vibes (1988) Adventure|Comedy\n",
            "Golden Child, The (1986) Action|Adventure|Comedy\n",
            "Allan Quartermain and the Lost City of Gold (1987) Action|Adventure\n",
            "Male and Female (1919) Adventure|Drama\n",
            "Medicine Man (1992) Adventure|Romance\n",
            "Saturn 3 (1979) Adventure|Sci-Fi|Thriller\n",
            "Deliverance (1972) Adventure|Thriller\n",
            "Operation Condor (Feiying gaiwak) (1990) Action|Adventure|Comedy\n",
            "Operation Condor 2 (Longxiong hudi) (1990) Action|Adventure|Comedy\n",
            "Napoleon and Samantha (1972) Adventure\n",
            "Gulliver's Travels (1939) Adventure|Animation|Children's\n",
            "Sanjuro (1962) Action|Adventure\n",
            "Total Recall (1990) Action|Adventure|Sci-Fi|Thriller\n",
            "Blue Lagoon, The (1980) Adventure|Drama|Romance\n",
            "Time Bandits (1981) Adventure|Fantasy|Sci-Fi\n",
            "Fitzcarraldo (1982) Adventure|Drama\n",
            "Who Framed Roger Rabbit? (1988) Adventure|Animation|Film-Noir\n",
            "Princess Mononoke, The (Mononoke Hime) (1997) Action|Adventure|Animation\n",
            "Quest for Fire (1981) Adventure\n",
            "Adventures of Buckaroo Bonzai Across the 8th Dimension, The (1984) Adventure|Comedy|Sci-Fi\n",
            "Midnight Run (1988) Action|Adventure|Comedy|Crime\n",
            "Tarzan the Fearless (1933) Action|Adventure\n",
            "7th Voyage of Sinbad, The (1958) Action|Adventure|Fantasy\n",
            "Brenda Starr (1989) Adventure\n",
            "Easy Rider (1969) Adventure|Drama\n",
            "Ulysses (Ulisse) (1954) Adventure\n",
            "Galaxy Quest (1999) Adventure|Comedy|Sci-Fi\n",
            "Supernova (2000) Adventure|Sci-Fi\n",
            "Snows of Kilimanjaro, The (1952) Adventure\n",
            "Forever Young (1992) Adventure|Romance|Sci-Fi\n",
            "Knockout (1999) Action|Adventure\n",
            "Beach, The (2000) Adventure|Drama\n",
            "Legend of Lobo, The (1962) Adventure|Children's\n",
            "Charlie, the Lonesome Cougar (1967) Adventure|Children's\n",
            "Where Eagles Dare (1969) Action|Adventure|War\n",
            "Let's Get Harry (1986) Action|Adventure\n",
            "Shanghai Surprise (1986) Adventure\n",
            "Baby... Secret of the Lost Legend (1985) Adventure|Sci-Fi\n",
            "Captain Horatio Hornblower (1951) Action|Adventure|War\n",
            "Bear, The (1988) Adventure\n",
            "Crimson Pirate, The (1952) Adventure|Comedy|Sci-Fi\n",
            "Lord of the Flies (1963) Adventure|Drama|Thriller\n",
            "Dersu Uzala (1974) Adventure|Drama\n",
            "Ladyhawke (1985) Adventure|Fantasy|Romance\n",
            "Hook (1991) Adventure|Fantasy\n",
            "Son of the Sheik, The (1926) Adventure\n",
            "True Grit (1969) Adventure|Western\n",
            "Great Locomotive Chase, The (1956) Adventure|War\n",
            "Slipper and the Rose, The (1976) Adventure|Musical|Romance\n",
            "Benji (1974) Adventure|Children's\n",
            "Benji the Hunted (1987) Adventure|Children's\n",
            "For the Love of Benji (1977) Adventure|Children's\n",
            "Running Man, The (1987) Action|Adventure|Sci-Fi\n",
            "Starman (1984) Adventure|Drama|Romance|Sci-Fi\n",
            "Bird on a Wire (1990) Action|Adventure|Romance|Thriller\n",
            "Titan A.E. (2000) Adventure|Animation|Sci-Fi\n",
            "Perfect Storm, The (2000) Action|Adventure|Thriller\n",
            "Dreamscape (1984) Adventure|Crime|Sci-Fi|Thriller\n",
            "Golden Voyage of Sinbad, The (1974) Action|Adventure\n",
            "Knightriders (1981) Action|Adventure|Drama\n",
            "Sinbad and the Eye of the Tiger (1977) Action|Adventure\n",
            "Bronco Billy (1980) Adventure|Drama|Romance\n",
            "Godzilla 2000 (Gojira ni-sen mireniamu) (1999) Action|Adventure|Sci-Fi\n",
            "Supergirl (1984) Action|Adventure|Fantasy\n",
            "Highlander: Endgame (2000) Action|Adventure|Fantasy\n",
            "Voyage to the Bottom of the Sea (1961) Adventure|Sci-Fi\n",
            "Fantastic Voyage (1966) Adventure|Sci-Fi\n",
            "Digimon: The Movie (2000) Adventure|Animation|Children's\n",
            "--------------------------\n",
            "There are 17 exclusevely Fantasy movies in the list.\n",
            "\n",
            "List of movies with this property:\n",
            "\n",
            "                                         title     genres\n",
            "761                        Phantom, The (1996)  Adventure\n",
            "941                  Mark of Zorro, The (1940)  Adventure\n",
            "1070                              Macao (1952)  Adventure\n",
            "1254  Treasure of the Sierra Madre, The (1948)  Adventure\n",
            "1303         Man Who Would Be King, The (1975)  Adventure\n",
            "1849                     Prince Valiant (1997)  Adventure\n",
            "1931               Mutiny on the Bounty (1935)  Adventure\n",
            "2477                         Firewalker (1986)  Adventure\n",
            "2537      Beyond the Poseidon Adventure (1979)  Adventure\n",
            "2895              Napoleon and Samantha (1972)  Adventure\n",
            "3036                     Quest for Fire (1981)  Adventure\n",
            "3166                       Brenda Starr (1989)  Adventure\n",
            "3172                   Ulysses (Ulisse) (1954)  Adventure\n",
            "3207          Snows of Kilimanjaro, The (1952)  Adventure\n",
            "3390                  Shanghai Surprise (1986)  Adventure\n",
            "3412                          Bear, The (1988)  Adventure\n",
            "3492              Son of the Sheik, The (1926)  Adventure\n"
          ]
        }
      ]
    },
    {
      "cell_type": "code",
      "source": [
        "# SOLUTION OF EXERCIZE\n",
        "#movies['Genre']=movies.Genre.map(lambda x: x.split('|'))\n",
        "#movies[movies['Genre']]==\"Fantasy\"\n",
        "#movies[movies['Genre']==\"Fantasy\"]\n",
        "#for m in movies['Genre']:\n",
        "#   print(\"Fantasy\" in m)\n",
        "#   glist.append(\"Fantasy\" in m)\n",
        "#glist\n",
        "\n",
        "#LIST COMPREHENSION (ALTERNATIVE SOLUTION)\n",
        "#movies[[\"Fantasy\" in m for m in movies('Genre')]]"
      ],
      "metadata": {
        "id": "JO0Mjt1Th1Cz"
      },
      "execution_count": 199,
      "outputs": []
    },
    {
      "cell_type": "code",
      "source": [
        "#To find specific types of movies\n",
        "#movies.groupby(\"Genre\").count().sort_values(by=\"title\")\n",
        "#movies[movies[\"Genre\"]==\"Musical|War\"]"
      ],
      "metadata": {
        "id": "G-p7M8Wth7i5"
      },
      "execution_count": 200,
      "outputs": []
    },
    {
      "cell_type": "code",
      "source": [
        "#To describe groups of movies\n",
        "#groupedmovies=movies.groupby(\"Genre\").count()\n",
        "#groupedmovies.describe()\n",
        "\n",
        "#To sort column by a particular criteria\n",
        "#groupedmovies.sort_values(by=\"title\")"
      ],
      "metadata": {
        "id": "0HGoa7EOSOny"
      },
      "execution_count": 201,
      "outputs": []
    },
    {
      "cell_type": "markdown",
      "source": [
        "##Numpy"
      ],
      "metadata": {
        "id": "FX0hebbhSp6O"
      }
    },
    {
      "cell_type": "code",
      "source": [
        "import numpy as np"
      ],
      "metadata": {
        "id": "31p3VJSsR2kE"
      },
      "execution_count": 202,
      "outputs": []
    },
    {
      "cell_type": "code",
      "source": [
        "a=3\n",
        "type(a)"
      ],
      "metadata": {
        "colab": {
          "base_uri": "https://localhost:8080/"
        },
        "id": "gXJighxtUDhP",
        "outputId": "49ca8c9c-93a5-4a84-d8a5-e2d337553ba7"
      },
      "execution_count": 203,
      "outputs": [
        {
          "output_type": "execute_result",
          "data": {
            "text/plain": [
              "int"
            ]
          },
          "metadata": {},
          "execution_count": 203
        }
      ]
    },
    {
      "cell_type": "code",
      "source": [
        "a=np.int16(3)"
      ],
      "metadata": {
        "id": "tS4sG01WUMmi"
      },
      "execution_count": 204,
      "outputs": []
    },
    {
      "cell_type": "code",
      "source": [
        "a.dtype"
      ],
      "metadata": {
        "colab": {
          "base_uri": "https://localhost:8080/"
        },
        "id": "W-cgBMqIUTc_",
        "outputId": "e93c7d87-8be6-47f8-95e4-a75eedb44cc1"
      },
      "execution_count": 205,
      "outputs": [
        {
          "output_type": "execute_result",
          "data": {
            "text/plain": [
              "dtype('int16')"
            ]
          },
          "metadata": {},
          "execution_count": 205
        }
      ]
    },
    {
      "cell_type": "code",
      "source": [
        "a=np.int8(3)"
      ],
      "metadata": {
        "id": "EJzB1uvfUYib"
      },
      "execution_count": 206,
      "outputs": []
    },
    {
      "cell_type": "code",
      "source": [
        "print(np.uint8(256))"
      ],
      "metadata": {
        "colab": {
          "base_uri": "https://localhost:8080/"
        },
        "id": "QBRZGnG4UoQk",
        "outputId": "01926417-3f51-46a7-b404-3c0e577ba3f1"
      },
      "execution_count": 207,
      "outputs": [
        {
          "output_type": "stream",
          "name": "stdout",
          "text": [
            "0\n"
          ]
        }
      ]
    },
    {
      "cell_type": "code",
      "source": [
        "#glist[3:5]\n",
        "#np.array(glist)"
      ],
      "metadata": {
        "id": "gkL5dVy4U1Ra"
      },
      "execution_count": 208,
      "outputs": []
    },
    {
      "cell_type": "code",
      "source": [
        "listVar"
      ],
      "metadata": {
        "colab": {
          "base_uri": "https://localhost:8080/"
        },
        "id": "2m25v-nfWSCB",
        "outputId": "6dffa335-147e-4a1c-fd88-81bffd5b923b"
      },
      "execution_count": 209,
      "outputs": [
        {
          "output_type": "execute_result",
          "data": {
            "text/plain": [
              "[3, 9, 'hello world', 0, True, 11]"
            ]
          },
          "metadata": {},
          "execution_count": 209
        }
      ]
    },
    {
      "cell_type": "code",
      "source": [
        "np.array(listVar)"
      ],
      "metadata": {
        "colab": {
          "base_uri": "https://localhost:8080/"
        },
        "id": "AZgtIX_kWT6M",
        "outputId": "b9fd3112-d0c0-44a0-cc74-05fb2edf6033"
      },
      "execution_count": 210,
      "outputs": [
        {
          "output_type": "execute_result",
          "data": {
            "text/plain": [
              "array(['3', '9', 'hello world', '0', 'True', '11'], dtype='<U21')"
            ]
          },
          "metadata": {},
          "execution_count": 210
        }
      ]
    },
    {
      "cell_type": "code",
      "source": [
        "np.zeros((10,2),float)"
      ],
      "metadata": {
        "colab": {
          "base_uri": "https://localhost:8080/"
        },
        "id": "snEme9OIWWr-",
        "outputId": "f6cec54e-c4a2-4941-eb3b-6607594cf319"
      },
      "execution_count": 211,
      "outputs": [
        {
          "output_type": "execute_result",
          "data": {
            "text/plain": [
              "array([[0., 0.],\n",
              "       [0., 0.],\n",
              "       [0., 0.],\n",
              "       [0., 0.],\n",
              "       [0., 0.],\n",
              "       [0., 0.],\n",
              "       [0., 0.],\n",
              "       [0., 0.],\n",
              "       [0., 0.],\n",
              "       [0., 0.]])"
            ]
          },
          "metadata": {},
          "execution_count": 211
        }
      ]
    },
    {
      "cell_type": "code",
      "source": [
        "randArr=np.random.randn(10,2,3)\n",
        "#from numpy import random\n",
        "#(then I don't need to specify random)"
      ],
      "metadata": {
        "id": "Jkx6LMLWWeB0"
      },
      "execution_count": 212,
      "outputs": []
    },
    {
      "cell_type": "code",
      "source": [
        "#shows just the first line of random array\n",
        "randArr[0]"
      ],
      "metadata": {
        "colab": {
          "base_uri": "https://localhost:8080/"
        },
        "id": "0AffZqlTW5Oo",
        "outputId": "80371e5e-8268-40b1-f8d6-52068e6680d3"
      },
      "execution_count": 213,
      "outputs": [
        {
          "output_type": "execute_result",
          "data": {
            "text/plain": [
              "array([[-1.3508397 ,  3.07318932, -1.52020166],\n",
              "       [ 2.57851787, -0.34182726, -0.54475532]])"
            ]
          },
          "metadata": {},
          "execution_count": 213
        }
      ]
    },
    {
      "cell_type": "code",
      "source": [
        "#finds size from first to sixth column\n",
        "randArr[1:6].shape"
      ],
      "metadata": {
        "colab": {
          "base_uri": "https://localhost:8080/"
        },
        "id": "jaM86myNXXw4",
        "outputId": "c9c1c367-8944-494a-b6c1-d7ba83656fda"
      },
      "execution_count": 214,
      "outputs": [
        {
          "output_type": "execute_result",
          "data": {
            "text/plain": [
              "(5, 2, 3)"
            ]
          },
          "metadata": {},
          "execution_count": 214
        }
      ]
    },
    {
      "cell_type": "code",
      "source": [
        "#shows all lines, first column and each element has two elements inside\n",
        "randArr[:,0, :2]"
      ],
      "metadata": {
        "colab": {
          "base_uri": "https://localhost:8080/"
        },
        "id": "KZzNmnn4XxlX",
        "outputId": "30349d50-4a9f-474c-b2e2-88810fd2d037"
      },
      "execution_count": 215,
      "outputs": [
        {
          "output_type": "execute_result",
          "data": {
            "text/plain": [
              "array([[-1.3508397 ,  3.07318932],\n",
              "       [-0.99560195,  0.37245189],\n",
              "       [ 0.23988535,  0.5964521 ],\n",
              "       [ 1.69961156,  1.02962112],\n",
              "       [-1.782926  ,  0.88895865],\n",
              "       [ 2.3852608 ,  0.09191617],\n",
              "       [ 0.33832682, -0.06934146],\n",
              "       [-0.62459125, -1.30106528],\n",
              "       [ 1.8621998 , -0.98826636],\n",
              "       [-0.10769227, -0.11577988]])"
            ]
          },
          "metadata": {},
          "execution_count": 215
        }
      ]
    },
    {
      "cell_type": "code",
      "source": [
        "#estrapolates datas with a criteria\n",
        "randArr[randArr>0]"
      ],
      "metadata": {
        "colab": {
          "base_uri": "https://localhost:8080/"
        },
        "id": "31mtKbLVYFJv",
        "outputId": "daec45f1-1fea-4c2f-c166-f9901039e83d"
      },
      "execution_count": 216,
      "outputs": [
        {
          "output_type": "execute_result",
          "data": {
            "text/plain": [
              "array([3.07318932, 2.57851787, 0.37245189, 0.76314851, 0.23988535,\n",
              "       0.5964521 , 0.77903134, 0.87696255, 1.35246124, 1.69961156,\n",
              "       1.02962112, 0.37551082, 0.36400189, 0.88895865, 0.25374994,\n",
              "       1.28797187, 0.79047565, 0.27138367, 2.3852608 , 0.09191617,\n",
              "       0.40908247, 1.07971897, 1.51849869, 0.33832682, 0.81822762,\n",
              "       0.5960087 , 0.09101754, 1.8223222 , 1.8621998 , 1.39759596,\n",
              "       0.34162375])"
            ]
          },
          "metadata": {},
          "execution_count": 216
        }
      ]
    },
    {
      "cell_type": "code",
      "source": [
        "#range pandas (not transformend in list-->list(range()))==arange numpy (already an array)\n",
        "rageArr1=np.arange(0,100,1)"
      ],
      "metadata": {
        "id": "nNfbUx3ZYbJe"
      },
      "execution_count": 217,
      "outputs": []
    },
    {
      "cell_type": "code",
      "source": [
        "rageArr1=rageArr1.reshape(10,10)"
      ],
      "metadata": {
        "id": "-hNLru09ZBir"
      },
      "execution_count": 218,
      "outputs": []
    },
    {
      "cell_type": "code",
      "source": [
        "#list as defined in pandas\n",
        "list10=list(range(10))"
      ],
      "metadata": {
        "id": "iWruTaj-ZLDN"
      },
      "execution_count": 219,
      "outputs": []
    },
    {
      "cell_type": "code",
      "source": [
        "#*=multiply numbers of the array\n",
        "rageArr1*2"
      ],
      "metadata": {
        "colab": {
          "base_uri": "https://localhost:8080/"
        },
        "id": "HAPAcv0VZUb_",
        "outputId": "f4f55a1e-cd60-406b-dca4-c6796d61af02"
      },
      "execution_count": 220,
      "outputs": [
        {
          "output_type": "execute_result",
          "data": {
            "text/plain": [
              "array([[  0,   2,   4,   6,   8,  10,  12,  14,  16,  18],\n",
              "       [ 20,  22,  24,  26,  28,  30,  32,  34,  36,  38],\n",
              "       [ 40,  42,  44,  46,  48,  50,  52,  54,  56,  58],\n",
              "       [ 60,  62,  64,  66,  68,  70,  72,  74,  76,  78],\n",
              "       [ 80,  82,  84,  86,  88,  90,  92,  94,  96,  98],\n",
              "       [100, 102, 104, 106, 108, 110, 112, 114, 116, 118],\n",
              "       [120, 122, 124, 126, 128, 130, 132, 134, 136, 138],\n",
              "       [140, 142, 144, 146, 148, 150, 152, 154, 156, 158],\n",
              "       [160, 162, 164, 166, 168, 170, 172, 174, 176, 178],\n",
              "       [180, 182, 184, 186, 188, 190, 192, 194, 196, 198]])"
            ]
          },
          "metadata": {},
          "execution_count": 220
        }
      ]
    },
    {
      "cell_type": "code",
      "source": [
        "#list * = concatenates\n",
        "list10*2"
      ],
      "metadata": {
        "colab": {
          "base_uri": "https://localhost:8080/"
        },
        "id": "uKvrf5xwZd6-",
        "outputId": "d03d1d43-eb65-4025-c0c9-317eb9912733"
      },
      "execution_count": 221,
      "outputs": [
        {
          "output_type": "execute_result",
          "data": {
            "text/plain": [
              "[0, 1, 2, 3, 4, 5, 6, 7, 8, 9, 0, 1, 2, 3, 4, 5, 6, 7, 8, 9]"
            ]
          },
          "metadata": {},
          "execution_count": 221
        }
      ]
    },
    {
      "cell_type": "code",
      "source": [
        "#to multiply factors have to be of the same size\n",
        "rageArr1*randArr[:,0,0]"
      ],
      "metadata": {
        "colab": {
          "base_uri": "https://localhost:8080/"
        },
        "id": "axFWRM_IZsRt",
        "outputId": "b7417ca4-cc32-4ca5-a00d-f1790a0d853a"
      },
      "execution_count": 222,
      "outputs": [
        {
          "output_type": "execute_result",
          "data": {
            "text/plain": [
              "array([[  -0.        ,   -0.99560195,    0.47977069,    5.09883468,\n",
              "          -7.13170402,   11.926304  ,    2.02996093,   -4.37213876,\n",
              "          14.89759836,   -0.96923047],\n",
              "       [ -13.50839703,  -10.95162144,    2.87862416,   22.09495027,\n",
              "         -24.96096405,   35.778912  ,    5.41322914,  -10.61805128,\n",
              "          33.51959632,   -2.04615322],\n",
              "       [ -27.01679406,  -20.90764093,    5.27747763,   39.09106587,\n",
              "         -42.79022409,   59.63152001,    8.79649736,  -16.86396379,\n",
              "          52.14159428,   -3.12307597],\n",
              "       [ -40.52519109,  -30.86366043,    7.6763311 ,   56.08718146,\n",
              "         -60.61948413,   83.48412801,   12.17976557,  -23.10987631,\n",
              "          70.76359223,   -4.19999872],\n",
              "       [ -54.03358812,  -40.81967992,   10.07518457,   73.08329706,\n",
              "         -78.44874417,  107.33673601,   15.56303379,  -29.35578882,\n",
              "          89.38559019,   -5.27692147],\n",
              "       [ -67.54198515,  -50.77569941,   12.47403804,   90.07941265,\n",
              "         -96.27800421,  131.18934401,   18.946302  ,  -35.60170134,\n",
              "         108.00758814,   -6.35384422],\n",
              "       [ -81.05038218,  -60.7317189 ,   14.87289151,  107.07552825,\n",
              "        -114.10726424,  155.04195201,   22.32957022,  -41.84761386,\n",
              "         126.6295861 ,   -7.43076697],\n",
              "       [ -94.55877921,  -70.68773839,   17.27174497,  124.07164384,\n",
              "        -131.93652428,  178.89456002,   25.71283843,  -48.09352637,\n",
              "         145.25158405,   -8.50768972],\n",
              "       [-108.06717624,  -80.64375789,   19.67059844,  141.06775943,\n",
              "        -149.76578432,  202.74716802,   29.09610664,  -54.33943889,\n",
              "         163.87358201,   -9.58461247],\n",
              "       [-121.57557327,  -90.59977738,   22.06945191,  158.06387503,\n",
              "        -167.59504436,  226.59977602,   32.47937486,  -60.5853514 ,\n",
              "         182.49557996,  -10.66153522]])"
            ]
          },
          "metadata": {},
          "execution_count": 222
        }
      ]
    },
    {
      "cell_type": "markdown",
      "source": [
        "##Exercize: palindromes"
      ],
      "metadata": {
        "id": "kp_6syVwaiwN"
      }
    },
    {
      "cell_type": "code",
      "source": [
        "def pal(word):\n",
        "  \"\"\"\n",
        "  word: a string\n",
        "  \"\"\"\n",
        "  word=word.lower()\n",
        "  lw=len(word)\n",
        "  rword=word[::-1]\n",
        "  if word[:int(lw/2)]==rword[:int(lw/2)]:\n",
        "    print(\"Yes\")\n",
        "  else:\n",
        "    print(\"No\")\n"
      ],
      "metadata": {
        "id": "aDE_rySSZ6tn"
      },
      "execution_count": 223,
      "outputs": []
    },
    {
      "cell_type": "code",
      "source": [
        "pal(\"ottimo\")"
      ],
      "metadata": {
        "colab": {
          "base_uri": "https://localhost:8080/"
        },
        "id": "YjqcSLZscBpJ",
        "outputId": "b55dcdd8-fcd2-4b0a-cebc-e380753dfeee"
      },
      "execution_count": 224,
      "outputs": [
        {
          "output_type": "stream",
          "name": "stdout",
          "text": [
            "No\n"
          ]
        }
      ]
    },
    {
      "cell_type": "code",
      "source": [
        "pal(\"anna\")"
      ],
      "metadata": {
        "colab": {
          "base_uri": "https://localhost:8080/"
        },
        "id": "21XqDbdOefeI",
        "outputId": "c3c3e52a-fe84-4f72-f879-fb48b6ad971d"
      },
      "execution_count": 225,
      "outputs": [
        {
          "output_type": "stream",
          "name": "stdout",
          "text": [
            "Yes\n"
          ]
        }
      ]
    },
    {
      "cell_type": "markdown",
      "source": [
        "##Exercize: even and odd array elements\n",
        "\n",
        "\n",
        "\n"
      ],
      "metadata": {
        "id": "zAK2iCOyffMN"
      }
    },
    {
      "cell_type": "code",
      "source": [
        "#extract all even numbers from array (numbers)\n",
        "numbers=list(range(11))\n",
        "even_numbers = []\n",
        "\n",
        "for i in numbers:\n",
        "    if i % 2 == 0:\n",
        "       even_numbers.append(i)\n",
        "print(even_numbers)\n",
        "    \n",
        "#reverse even_numbers\n",
        "reven_numbers=even_numbers[::-1]\n",
        "print(reven_numbers)\n",
        "\n",
        "#make all odd by adding a 1 to each element of array numbers\n",
        "rodd_numbers=[];\n",
        "for i in reven_numbers:\n",
        "       rodd_numbers.append(i-1)\n",
        "print(rodd_numbers)"
      ],
      "metadata": {
        "colab": {
          "base_uri": "https://localhost:8080/"
        },
        "id": "Omc4Txlsbdfb",
        "outputId": "b98b75e5-d522-4ce6-abd8-6322fe717b8c"
      },
      "execution_count": 1,
      "outputs": [
        {
          "output_type": "stream",
          "name": "stdout",
          "text": [
            "[0, 2, 4, 6, 8, 10]\n",
            "[10, 8, 6, 4, 2, 0]\n",
            "[9, 7, 5, 3, 1, -1]\n"
          ]
        }
      ]
    },
    {
      "cell_type": "markdown",
      "source": [
        "#Matplotlib"
      ],
      "metadata": {
        "id": "ia6YJhc7gV3u"
      }
    },
    {
      "cell_type": "code",
      "source": [
        "import matplotlib as mpl"
      ],
      "metadata": {
        "id": "rFzlLxUWgYjq"
      },
      "execution_count": 13,
      "outputs": []
    },
    {
      "cell_type": "code",
      "source": [
        "import pylab as pl\n",
        "%pylab inline \n",
        "#locally necessary"
      ],
      "metadata": {
        "colab": {
          "base_uri": "https://localhost:8080/"
        },
        "id": "iUkvia9PgbKD",
        "outputId": "be0e14be-8a2b-419a-f4e1-08a6d29c070a"
      },
      "execution_count": 14,
      "outputs": [
        {
          "output_type": "stream",
          "name": "stdout",
          "text": [
            "Populating the interactive namespace from numpy and matplotlib\n"
          ]
        },
        {
          "output_type": "stream",
          "name": "stderr",
          "text": [
            "/usr/local/lib/python3.9/dist-packages/IPython/core/magics/pylab.py:159: UserWarning: pylab import has clobbered these variables: ['ylim']\n",
            "`%matplotlib` prevents importing * from pylab and numpy\n",
            "  warn(\"pylab import has clobbered these variables: %s\"  % clobbered +\n"
          ]
        }
      ]
    },
    {
      "cell_type": "code",
      "source": [
        "pl.rcParams"
      ],
      "metadata": {
        "colab": {
          "base_uri": "https://localhost:8080/"
        },
        "id": "vA5S3gO1ghWN",
        "outputId": "cd0eed8b-ac4b-4747-e560-18f5f427426b"
      },
      "execution_count": 15,
      "outputs": [
        {
          "output_type": "execute_result",
          "data": {
            "text/plain": [
              "RcParams({'_internal.classic_mode': False,\n",
              "          'agg.path.chunksize': 0,\n",
              "          'animation.bitrate': -1,\n",
              "          'animation.codec': 'h264',\n",
              "          'animation.convert_args': [],\n",
              "          'animation.convert_path': 'convert',\n",
              "          'animation.embed_limit': 20.0,\n",
              "          'animation.ffmpeg_args': [],\n",
              "          'animation.ffmpeg_path': 'ffmpeg',\n",
              "          'animation.frame_format': 'png',\n",
              "          'animation.html': 'none',\n",
              "          'animation.writer': 'ffmpeg',\n",
              "          'axes.autolimit_mode': 'data',\n",
              "          'axes.axisbelow': 'line',\n",
              "          'axes.edgecolor': 'black',\n",
              "          'axes.facecolor': 'white',\n",
              "          'axes.formatter.limits': [-5, 6],\n",
              "          'axes.formatter.min_exponent': 0,\n",
              "          'axes.formatter.offset_threshold': 4,\n",
              "          'axes.formatter.use_locale': False,\n",
              "          'axes.formatter.use_mathtext': False,\n",
              "          'axes.formatter.useoffset': True,\n",
              "          'axes.grid': False,\n",
              "          'axes.grid.axis': 'both',\n",
              "          'axes.grid.which': 'major',\n",
              "          'axes.labelcolor': 'black',\n",
              "          'axes.labelpad': 4.0,\n",
              "          'axes.labelsize': 'medium',\n",
              "          'axes.labelweight': 'normal',\n",
              "          'axes.linewidth': 0.8,\n",
              "          'axes.prop_cycle': cycler('color', ['#1f77b4', '#ff7f0e', '#2ca02c', '#d62728', '#9467bd', '#8c564b', '#e377c2', '#7f7f7f', '#bcbd22', '#17becf']),\n",
              "          'axes.spines.bottom': True,\n",
              "          'axes.spines.left': True,\n",
              "          'axes.spines.right': True,\n",
              "          'axes.spines.top': True,\n",
              "          'axes.titlecolor': 'auto',\n",
              "          'axes.titlelocation': 'center',\n",
              "          'axes.titlepad': 6.0,\n",
              "          'axes.titlesize': 'large',\n",
              "          'axes.titleweight': 'normal',\n",
              "          'axes.titley': None,\n",
              "          'axes.unicode_minus': True,\n",
              "          'axes.xmargin': 0.05,\n",
              "          'axes.ymargin': 0.05,\n",
              "          'axes.zmargin': 0.05,\n",
              "          'axes3d.grid': True,\n",
              "          'backend': 'module://ipykernel.pylab.backend_inline',\n",
              "          'backend_fallback': True,\n",
              "          'boxplot.bootstrap': None,\n",
              "          'boxplot.boxprops.color': 'black',\n",
              "          'boxplot.boxprops.linestyle': '-',\n",
              "          'boxplot.boxprops.linewidth': 1.0,\n",
              "          'boxplot.capprops.color': 'black',\n",
              "          'boxplot.capprops.linestyle': '-',\n",
              "          'boxplot.capprops.linewidth': 1.0,\n",
              "          'boxplot.flierprops.color': 'black',\n",
              "          'boxplot.flierprops.linestyle': 'none',\n",
              "          'boxplot.flierprops.linewidth': 1.0,\n",
              "          'boxplot.flierprops.marker': 'o',\n",
              "          'boxplot.flierprops.markeredgecolor': 'black',\n",
              "          'boxplot.flierprops.markeredgewidth': 1.0,\n",
              "          'boxplot.flierprops.markerfacecolor': 'none',\n",
              "          'boxplot.flierprops.markersize': 6.0,\n",
              "          'boxplot.meanline': False,\n",
              "          'boxplot.meanprops.color': 'C2',\n",
              "          'boxplot.meanprops.linestyle': '--',\n",
              "          'boxplot.meanprops.linewidth': 1.0,\n",
              "          'boxplot.meanprops.marker': '^',\n",
              "          'boxplot.meanprops.markeredgecolor': 'C2',\n",
              "          'boxplot.meanprops.markerfacecolor': 'C2',\n",
              "          'boxplot.meanprops.markersize': 6.0,\n",
              "          'boxplot.medianprops.color': 'C1',\n",
              "          'boxplot.medianprops.linestyle': '-',\n",
              "          'boxplot.medianprops.linewidth': 1.0,\n",
              "          'boxplot.notch': False,\n",
              "          'boxplot.patchartist': False,\n",
              "          'boxplot.showbox': True,\n",
              "          'boxplot.showcaps': True,\n",
              "          'boxplot.showfliers': True,\n",
              "          'boxplot.showmeans': False,\n",
              "          'boxplot.vertical': True,\n",
              "          'boxplot.whiskerprops.color': 'black',\n",
              "          'boxplot.whiskerprops.linestyle': '-',\n",
              "          'boxplot.whiskerprops.linewidth': 1.0,\n",
              "          'boxplot.whiskers': 1.5,\n",
              "          'contour.corner_mask': True,\n",
              "          'contour.linewidth': None,\n",
              "          'contour.negative_linestyle': 'dashed',\n",
              "          'date.autoformatter.day': '%Y-%m-%d',\n",
              "          'date.autoformatter.hour': '%m-%d %H',\n",
              "          'date.autoformatter.microsecond': '%M:%S.%f',\n",
              "          'date.autoformatter.minute': '%d %H:%M',\n",
              "          'date.autoformatter.month': '%Y-%m',\n",
              "          'date.autoformatter.second': '%H:%M:%S',\n",
              "          'date.autoformatter.year': '%Y',\n",
              "          'date.converter': 'auto',\n",
              "          'date.epoch': '1970-01-01T00:00:00',\n",
              "          'date.interval_multiples': True,\n",
              "          'docstring.hardcopy': False,\n",
              "          'errorbar.capsize': 0.0,\n",
              "          'figure.autolayout': False,\n",
              "          'figure.constrained_layout.h_pad': 0.04167,\n",
              "          'figure.constrained_layout.hspace': 0.02,\n",
              "          'figure.constrained_layout.use': False,\n",
              "          'figure.constrained_layout.w_pad': 0.04167,\n",
              "          'figure.constrained_layout.wspace': 0.02,\n",
              "          'figure.dpi': 72.0,\n",
              "          'figure.edgecolor': (1, 1, 1, 0),\n",
              "          'figure.facecolor': (1, 1, 1, 0),\n",
              "          'figure.figsize': [6.0, 4.0],\n",
              "          'figure.frameon': True,\n",
              "          'figure.max_open_warning': 20,\n",
              "          'figure.raise_window': True,\n",
              "          'figure.subplot.bottom': 0.125,\n",
              "          'figure.subplot.hspace': 0.2,\n",
              "          'figure.subplot.left': 0.125,\n",
              "          'figure.subplot.right': 0.9,\n",
              "          'figure.subplot.top': 0.88,\n",
              "          'figure.subplot.wspace': 0.2,\n",
              "          'figure.titlesize': 'large',\n",
              "          'figure.titleweight': 'normal',\n",
              "          'font.cursive': ['Apple Chancery',\n",
              "                           'Textile',\n",
              "                           'Zapf Chancery',\n",
              "                           'Sand',\n",
              "                           'Script MT',\n",
              "                           'Felipa',\n",
              "                           'Comic Neue',\n",
              "                           'Comic Sans MS',\n",
              "                           'cursive'],\n",
              "          'font.family': ['sans-serif'],\n",
              "          'font.fantasy': ['Chicago',\n",
              "                           'Charcoal',\n",
              "                           'Impact',\n",
              "                           'Western',\n",
              "                           'Humor Sans',\n",
              "                           'xkcd',\n",
              "                           'fantasy'],\n",
              "          'font.monospace': ['DejaVu Sans Mono',\n",
              "                             'Bitstream Vera Sans Mono',\n",
              "                             'Computer Modern Typewriter',\n",
              "                             'Andale Mono',\n",
              "                             'Nimbus Mono L',\n",
              "                             'Courier New',\n",
              "                             'Courier',\n",
              "                             'Fixed',\n",
              "                             'Terminal',\n",
              "                             'monospace'],\n",
              "          'font.sans-serif': ['DejaVu Sans',\n",
              "                              'Bitstream Vera Sans',\n",
              "                              'Computer Modern Sans Serif',\n",
              "                              'Lucida Grande',\n",
              "                              'Verdana',\n",
              "                              'Geneva',\n",
              "                              'Lucid',\n",
              "                              'Arial',\n",
              "                              'Helvetica',\n",
              "                              'Avant Garde',\n",
              "                              'sans-serif'],\n",
              "          'font.serif': ['DejaVu Serif',\n",
              "                         'Bitstream Vera Serif',\n",
              "                         'Computer Modern Roman',\n",
              "                         'New Century Schoolbook',\n",
              "                         'Century Schoolbook L',\n",
              "                         'Utopia',\n",
              "                         'ITC Bookman',\n",
              "                         'Bookman',\n",
              "                         'Nimbus Roman No9 L',\n",
              "                         'Times New Roman',\n",
              "                         'Times',\n",
              "                         'Palatino',\n",
              "                         'Charter',\n",
              "                         'serif'],\n",
              "          'font.size': 10.0,\n",
              "          'font.stretch': 'normal',\n",
              "          'font.style': 'normal',\n",
              "          'font.variant': 'normal',\n",
              "          'font.weight': 'normal',\n",
              "          'grid.alpha': 1.0,\n",
              "          'grid.color': '#b0b0b0',\n",
              "          'grid.linestyle': '-',\n",
              "          'grid.linewidth': 0.8,\n",
              "          'hatch.color': 'black',\n",
              "          'hatch.linewidth': 1.0,\n",
              "          'hist.bins': 10,\n",
              "          'image.aspect': 'equal',\n",
              "          'image.cmap': 'viridis',\n",
              "          'image.composite_image': True,\n",
              "          'image.interpolation': 'antialiased',\n",
              "          'image.lut': 256,\n",
              "          'image.origin': 'upper',\n",
              "          'image.resample': True,\n",
              "          'interactive': True,\n",
              "          'keymap.back': ['left', 'c', 'backspace', 'MouseButton.BACK'],\n",
              "          'keymap.copy': ['ctrl+c', 'cmd+c'],\n",
              "          'keymap.forward': ['right', 'v', 'MouseButton.FORWARD'],\n",
              "          'keymap.fullscreen': ['f', 'ctrl+f'],\n",
              "          'keymap.grid': ['g'],\n",
              "          'keymap.grid_minor': ['G'],\n",
              "          'keymap.help': ['f1'],\n",
              "          'keymap.home': ['h', 'r', 'home'],\n",
              "          'keymap.pan': ['p'],\n",
              "          'keymap.quit': ['ctrl+w', 'cmd+w', 'q'],\n",
              "          'keymap.quit_all': [],\n",
              "          'keymap.save': ['s', 'ctrl+s'],\n",
              "          'keymap.xscale': ['k', 'L'],\n",
              "          'keymap.yscale': ['l'],\n",
              "          'keymap.zoom': ['o'],\n",
              "          'legend.borderaxespad': 0.5,\n",
              "          'legend.borderpad': 0.4,\n",
              "          'legend.columnspacing': 2.0,\n",
              "          'legend.edgecolor': '0.8',\n",
              "          'legend.facecolor': 'inherit',\n",
              "          'legend.fancybox': True,\n",
              "          'legend.fontsize': 'medium',\n",
              "          'legend.framealpha': 0.8,\n",
              "          'legend.frameon': True,\n",
              "          'legend.handleheight': 0.7,\n",
              "          'legend.handlelength': 2.0,\n",
              "          'legend.handletextpad': 0.8,\n",
              "          'legend.labelcolor': 'None',\n",
              "          'legend.labelspacing': 0.5,\n",
              "          'legend.loc': 'best',\n",
              "          'legend.markerscale': 1.0,\n",
              "          'legend.numpoints': 1,\n",
              "          'legend.scatterpoints': 1,\n",
              "          'legend.shadow': False,\n",
              "          'legend.title_fontsize': None,\n",
              "          'lines.antialiased': True,\n",
              "          'lines.color': 'C0',\n",
              "          'lines.dash_capstyle': <CapStyle.butt: 'butt'>,\n",
              "          'lines.dash_joinstyle': <JoinStyle.round: 'round'>,\n",
              "          'lines.dashdot_pattern': [6.4, 1.6, 1.0, 1.6],\n",
              "          'lines.dashed_pattern': [3.7, 1.6],\n",
              "          'lines.dotted_pattern': [1.0, 1.65],\n",
              "          'lines.linestyle': '-',\n",
              "          'lines.linewidth': 1.5,\n",
              "          'lines.marker': 'None',\n",
              "          'lines.markeredgecolor': 'auto',\n",
              "          'lines.markeredgewidth': 1.0,\n",
              "          'lines.markerfacecolor': 'auto',\n",
              "          'lines.markersize': 6.0,\n",
              "          'lines.scale_dashes': True,\n",
              "          'lines.solid_capstyle': <CapStyle.projecting: 'projecting'>,\n",
              "          'lines.solid_joinstyle': <JoinStyle.round: 'round'>,\n",
              "          'markers.fillstyle': 'full',\n",
              "          'mathtext.bf': 'sans:bold',\n",
              "          'mathtext.cal': 'cursive',\n",
              "          'mathtext.default': 'it',\n",
              "          'mathtext.fallback': 'cm',\n",
              "          'mathtext.fontset': 'dejavusans',\n",
              "          'mathtext.it': 'sans:italic',\n",
              "          'mathtext.rm': 'sans',\n",
              "          'mathtext.sf': 'sans',\n",
              "          'mathtext.tt': 'monospace',\n",
              "          'patch.antialiased': True,\n",
              "          'patch.edgecolor': 'black',\n",
              "          'patch.facecolor': 'C0',\n",
              "          'patch.force_edgecolor': False,\n",
              "          'patch.linewidth': 1.0,\n",
              "          'path.effects': [],\n",
              "          'path.simplify': True,\n",
              "          'path.simplify_threshold': 0.111111111111,\n",
              "          'path.sketch': None,\n",
              "          'path.snap': True,\n",
              "          'pcolor.shading': 'auto',\n",
              "          'pcolormesh.snap': True,\n",
              "          'pdf.compression': 6,\n",
              "          'pdf.fonttype': 3,\n",
              "          'pdf.inheritcolor': False,\n",
              "          'pdf.use14corefonts': False,\n",
              "          'pgf.preamble': '',\n",
              "          'pgf.rcfonts': True,\n",
              "          'pgf.texsystem': 'xelatex',\n",
              "          'polaraxes.grid': True,\n",
              "          'ps.distiller.res': 6000,\n",
              "          'ps.fonttype': 3,\n",
              "          'ps.papersize': 'letter',\n",
              "          'ps.useafm': False,\n",
              "          'ps.usedistiller': None,\n",
              "          'savefig.bbox': None,\n",
              "          'savefig.directory': '~',\n",
              "          'savefig.dpi': 'figure',\n",
              "          'savefig.edgecolor': 'auto',\n",
              "          'savefig.facecolor': 'auto',\n",
              "          'savefig.format': 'png',\n",
              "          'savefig.orientation': 'portrait',\n",
              "          'savefig.pad_inches': 0.1,\n",
              "          'savefig.transparent': False,\n",
              "          'scatter.edgecolors': 'face',\n",
              "          'scatter.marker': 'o',\n",
              "          'svg.fonttype': 'path',\n",
              "          'svg.hashsalt': None,\n",
              "          'svg.image_inline': True,\n",
              "          'text.antialiased': True,\n",
              "          'text.color': 'black',\n",
              "          'text.hinting': 'force_autohint',\n",
              "          'text.hinting_factor': 8,\n",
              "          'text.kerning_factor': 0,\n",
              "          'text.latex.preamble': '',\n",
              "          'text.usetex': False,\n",
              "          'timezone': 'UTC',\n",
              "          'tk.window_focus': False,\n",
              "          'toolbar': 'toolbar2',\n",
              "          'webagg.address': '127.0.0.1',\n",
              "          'webagg.open_in_browser': True,\n",
              "          'webagg.port': 8988,\n",
              "          'webagg.port_retries': 50,\n",
              "          'xaxis.labellocation': 'center',\n",
              "          'xtick.alignment': 'center',\n",
              "          'xtick.bottom': True,\n",
              "          'xtick.color': 'black',\n",
              "          'xtick.direction': 'out',\n",
              "          'xtick.labelbottom': True,\n",
              "          'xtick.labelcolor': 'inherit',\n",
              "          'xtick.labelsize': 'medium',\n",
              "          'xtick.labeltop': False,\n",
              "          'xtick.major.bottom': True,\n",
              "          'xtick.major.pad': 3.5,\n",
              "          'xtick.major.size': 3.5,\n",
              "          'xtick.major.top': True,\n",
              "          'xtick.major.width': 0.8,\n",
              "          'xtick.minor.bottom': True,\n",
              "          'xtick.minor.pad': 3.4,\n",
              "          'xtick.minor.size': 2.0,\n",
              "          'xtick.minor.top': True,\n",
              "          'xtick.minor.visible': False,\n",
              "          'xtick.minor.width': 0.6,\n",
              "          'xtick.top': False,\n",
              "          'yaxis.labellocation': 'center',\n",
              "          'ytick.alignment': 'center_baseline',\n",
              "          'ytick.color': 'black',\n",
              "          'ytick.direction': 'out',\n",
              "          'ytick.labelcolor': 'inherit',\n",
              "          'ytick.labelleft': True,\n",
              "          'ytick.labelright': False,\n",
              "          'ytick.labelsize': 'medium',\n",
              "          'ytick.left': True,\n",
              "          'ytick.major.left': True,\n",
              "          'ytick.major.pad': 3.5,\n",
              "          'ytick.major.right': True,\n",
              "          'ytick.major.size': 3.5,\n",
              "          'ytick.major.width': 0.8,\n",
              "          'ytick.minor.left': True,\n",
              "          'ytick.minor.pad': 3.4,\n",
              "          'ytick.minor.right': True,\n",
              "          'ytick.minor.size': 2.0,\n",
              "          'ytick.minor.visible': False,\n",
              "          'ytick.minor.width': 0.6,\n",
              "          'ytick.right': False})"
            ]
          },
          "metadata": {},
          "execution_count": 15
        }
      ]
    },
    {
      "cell_type": "code",
      "source": [
        "#s={'fontsize':20, 'figure.figsize': (10,10)}\n",
        "#pylab.rcParams.update(s)"
      ],
      "metadata": {
        "id": "iFdIt3KmhATK"
      },
      "execution_count": 16,
      "outputs": []
    },
    {
      "cell_type": "code",
      "source": [
        "myx=np.arange(10)"
      ],
      "metadata": {
        "id": "VqQDq-AQhnQa"
      },
      "execution_count": 17,
      "outputs": []
    },
    {
      "cell_type": "code",
      "source": [
        "myy=np.arange(0,100,10)"
      ],
      "metadata": {
        "id": "2XfRh2gOhqHe"
      },
      "execution_count": 18,
      "outputs": []
    },
    {
      "cell_type": "code",
      "source": [
        "myy2=np.linspace(0,25,10)"
      ],
      "metadata": {
        "id": "TtBTx73biuN-"
      },
      "execution_count": 19,
      "outputs": []
    },
    {
      "cell_type": "code",
      "source": [
        "fig=pl.figure(figsize=(3,3))\n",
        "ax=fig.add_subplot(1,1,1)\n",
        "#in subplot: lines, columns, \n",
        "pl.rcParams['font.size']=12"
      ],
      "metadata": {
        "colab": {
          "base_uri": "https://localhost:8080/",
          "height": 215
        },
        "id": "F_vcFnL8htjw",
        "outputId": "557b78ae-6d43-4565-fa54-dc6af9d03c28"
      },
      "execution_count": 20,
      "outputs": [
        {
          "output_type": "display_data",
          "data": {
            "text/plain": [
              "<Figure size 216x216 with 1 Axes>"
            ],
            "image/png": "[encoded data removed]"
          },
          "metadata": {
            "needs_background": "light"
          }
        }
      ]
    },
    {
      "cell_type": "code",
      "source": [
        "fig=pl.figure()\n",
        "ax1=fig.add_subplot(121)\n",
        "ax2=fig.add_subplot(122)\n",
        "ax1.plot(myx,myy, 'k--', label=\"same y value\")\n",
        "ax2.plot(myx,myy2, 'ro', ms=5,label=\"something else\")\n",
        "ax1.legend(fontsize=10)\n",
        "ax2.legend(fontsize=10)\n",
        "ylim=ax1.get_ylim()\n",
        "ax2.set_ylim(ylim)"
      ],
      "metadata": {
        "colab": {
          "base_uri": "https://localhost:8080/",
          "height": 285
        },
        "id": "-J9FlOtZhux9",
        "outputId": "9d4bff63-7d52-4255-e8dc-ba271fc69ac0"
      },
      "execution_count": 21,
      "outputs": [
        {
          "output_type": "execute_result",
          "data": {
            "text/plain": [
              "(-4.5, 94.5)"
            ]
          },
          "metadata": {},
          "execution_count": 21
        },
        {
          "output_type": "display_data",
          "data": {
            "text/plain": [
              "<Figure size 432x288 with 2 Axes>"
            ],
            "image/png": "[encoded data removed]"
          },
          "metadata": {
            "needs_background": "light"
          }
        }
      ]
    },
    {
      "cell_type": "code",
      "source": [
        "np.random.randn(10,10)"
      ],
      "metadata": {
        "colab": {
          "base_uri": "https://localhost:8080/"
        },
        "id": "EOcFbdMFi_PQ",
        "outputId": "e7a251ff-47b0-4852-842a-f63feb0f3fc3"
      },
      "execution_count": 22,
      "outputs": [
        {
          "output_type": "execute_result",
          "data": {
            "text/plain": [
              "array([[-1.34336017e+00, -7.04575765e-01, -1.76078973e+00,\n",
              "        -6.84083013e-01, -9.18264318e-01, -1.30442521e-01,\n",
              "         2.25051341e+00, -1.02652342e+00, -9.38000076e-01,\n",
              "        -7.92296875e-01],\n",
              "       [-8.00104662e-02,  9.51731487e-01, -1.35057328e+00,\n",
              "        -5.04038917e-01,  6.61060341e-01,  6.80729181e-02,\n",
              "        -4.69875115e-02,  1.68138336e+00,  9.37431436e-01,\n",
              "        -8.33883261e-01],\n",
              "       [-7.02362826e-01, -1.45410582e+00,  1.07910550e+00,\n",
              "         1.27489179e-01, -4.76204026e-01, -2.58033718e-01,\n",
              "         4.52598012e-01, -1.08568554e+00,  2.50518528e-01,\n",
              "        -2.99213150e-01],\n",
              "       [-1.26813735e+00,  4.32029033e-01,  1.59960033e-02,\n",
              "         6.10598311e-01, -9.34936459e-01,  4.66062529e-01,\n",
              "         1.13650420e+00,  9.57852640e-01, -4.12727725e-01,\n",
              "         1.42254639e+00],\n",
              "       [-1.99561218e-01,  5.51767091e-01,  1.07652143e+00,\n",
              "        -3.12762398e-01,  4.22171951e-01, -9.62185194e-01,\n",
              "        -8.54944796e-01,  6.50504695e-01,  2.85203214e-01,\n",
              "        -5.25768320e-01],\n",
              "       [ 3.81000263e-01,  6.30226973e-01,  2.24778156e+00,\n",
              "         7.51767738e-01, -2.76582034e-01,  5.81619971e-01,\n",
              "        -3.15783394e-01,  7.91142800e-01,  1.30599051e+00,\n",
              "        -5.67268158e-01],\n",
              "       [-4.10670092e-01, -8.06617425e-01, -5.05497143e-01,\n",
              "         3.06156451e-01, -6.27270651e-01, -4.34916783e-01,\n",
              "        -2.09590359e-02,  4.38123334e-01,  2.58317787e-01,\n",
              "         1.60103096e+00],\n",
              "       [ 3.05094303e+00, -5.53681763e-01,  6.55892175e-01,\n",
              "         4.93678022e-01,  5.88625434e-01,  4.36937299e-01,\n",
              "         5.11650965e-01, -1.38992213e+00,  7.24075186e-01,\n",
              "        -3.11745912e-02],\n",
              "       [ 3.83418630e-01,  2.26880007e+00, -6.95071422e-01,\n",
              "         9.21707952e-01,  1.33321754e+00,  5.74030325e-01,\n",
              "         8.62880047e-01,  3.05983049e+00,  7.72775208e-01,\n",
              "         4.74383876e-02],\n",
              "       [-8.01488457e-02,  3.02425197e-01,  4.18664923e-01,\n",
              "        -2.33858092e-01,  3.61938811e-01, -7.16255777e-01,\n",
              "        -1.05830009e-01,  2.23532140e-03, -2.54087967e-01,\n",
              "         1.22005080e+00]])"
            ]
          },
          "metadata": {},
          "execution_count": 22
        }
      ]
    },
    {
      "cell_type": "code",
      "source": [
        "pl.imshow(np.random.randn(10,10), interpolation='bilinear');\n",
        "pl.colorbar()"
      ],
      "metadata": {
        "colab": {
          "base_uri": "https://localhost:8080/",
          "height": 285
        },
        "id": "pjPTYbIUkf1n",
        "outputId": "d448a7d1-fd3e-4c4e-dfc9-aff56da96129"
      },
      "execution_count": 23,
      "outputs": [
        {
          "output_type": "execute_result",
          "data": {
            "text/plain": [
              "<matplotlib.colorbar.Colorbar at 0x7f2ef8279370>"
            ]
          },
          "metadata": {},
          "execution_count": 23
        },
        {
          "output_type": "display_data",
          "data": {
            "text/plain": [
              "<Figure size 432x288 with 2 Axes>"
            ],
            "image/png": "[encoded data removed]"
          },
          "metadata": {
            "needs_background": "light"
          }
        }
      ]
    },
    {
      "cell_type": "code",
      "source": [],
      "metadata": {
        "id": "JI5LJlJDkry0"
      },
      "execution_count": 23,
      "outputs": []
    }
  ]
}