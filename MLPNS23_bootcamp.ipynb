{
  "nbformat": 4,
  "nbformat_minor": 0,
  "metadata": {
    "colab": {
      "provenance": [],
      "authorship_tag": "ABX9TyMYakjEOM7UYbxbe1YkBPQc",
      "include_colab_link": true
    },
    "kernelspec": {
      "name": "python3",
      "display_name": "Python 3"
    },
    "language_info": {
      "name": "python"
    }
  },
  "cells": [
    {
      "cell_type": "markdown",
      "metadata": {
        "id": "view-in-github",
        "colab_type": "text"
      },
      "source": [
        "<a href=\"https://colab.research.google.com/github/carlottaviappiani/MLPNS_CViappiani/blob/main/MLPNS23_bootcamp.ipynb\" target=\"_parent\"><img src=\"https://colab.research.google.com/assets/colab-badge.svg\" alt=\"Open In Colab\"/></a>"
      ]
    },
    {
      "cell_type": "markdown",
      "source": [],
      "metadata": {
        "id": "6b2rbU-P1k8t"
      }
    },
    {
      "cell_type": "code",
      "source": [],
      "metadata": {
        "id": "4PeoEH0Q1kx-"
      },
      "execution_count": 1,
      "outputs": []
    },
    {
      "cell_type": "markdown",
      "source": [
        "# First markdown cell\n",
        "This is a text cell in markdown syntax \\\\\n",
        "Ex.: $\\alpha_\\text{a}$=$\\frac{3}{4}$"
      ],
      "metadata": {
        "id": "eNhAolkF1uKm"
      }
    },
    {
      "cell_type": "code",
      "execution_count": 2,
      "metadata": {
        "colab": {
          "base_uri": "https://localhost:8080/"
        },
        "id": "UXdzApS70Tmp",
        "outputId": "1acac950-3eb2-4bf5-d2af-d24807cba437"
      },
      "outputs": [
        {
          "output_type": "execute_result",
          "data": {
            "text/plain": [
              "4"
            ]
          },
          "metadata": {},
          "execution_count": 2
        }
      ],
      "source": [
        "2*2\n"
      ]
    },
    {
      "cell_type": "markdown",
      "source": [
        "# Here we start coding:"
      ],
      "metadata": {
        "id": "6onbejrP2RG8"
      }
    },
    {
      "cell_type": "markdown",
      "source": [
        "# 1) Native variables and variables types"
      ],
      "metadata": {
        "id": "0uiqZbB_2ueM"
      }
    },
    {
      "cell_type": "markdown",
      "source": [
        "## Integers"
      ],
      "metadata": {
        "id": "kUYFxtmx7Br8"
      }
    },
    {
      "cell_type": "code",
      "source": [
        "intVar = 3"
      ],
      "metadata": {
        "id": "VIK0dM-i2y8k"
      },
      "execution_count": 3,
      "outputs": []
    },
    {
      "cell_type": "code",
      "source": [
        "type(intVar)"
      ],
      "metadata": {
        "colab": {
          "base_uri": "https://localhost:8080/"
        },
        "id": "tE9IyupU3dBX",
        "outputId": "75f943d9-ca3d-4c7e-e7a8-c343eee7f3e9"
      },
      "execution_count": 4,
      "outputs": [
        {
          "output_type": "execute_result",
          "data": {
            "text/plain": [
              "int"
            ]
          },
          "metadata": {},
          "execution_count": 4
        }
      ]
    },
    {
      "cell_type": "markdown",
      "source": [
        "## Float"
      ],
      "metadata": {
        "id": "OFN7apz17GRU"
      }
    },
    {
      "cell_type": "code",
      "source": [
        "floatVar= 3.0"
      ],
      "metadata": {
        "id": "hA1d0KrH3fOj"
      },
      "execution_count": 5,
      "outputs": []
    },
    {
      "cell_type": "code",
      "source": [
        "type(floatVar)"
      ],
      "metadata": {
        "colab": {
          "base_uri": "https://localhost:8080/"
        },
        "id": "t39oD79K3lfU",
        "outputId": "d89c24e0-c06c-4ad1-eb9f-837d9dc6ecea"
      },
      "execution_count": 6,
      "outputs": [
        {
          "output_type": "execute_result",
          "data": {
            "text/plain": [
              "float"
            ]
          },
          "metadata": {},
          "execution_count": 6
        }
      ]
    },
    {
      "cell_type": "code",
      "source": [
        "float(intVar)"
      ],
      "metadata": {
        "colab": {
          "base_uri": "https://localhost:8080/"
        },
        "id": "w87aFGg-3owE",
        "outputId": "da52a4f6-f353-48e9-e3b2-087913696ac6"
      },
      "execution_count": 7,
      "outputs": [
        {
          "output_type": "execute_result",
          "data": {
            "text/plain": [
              "3.0"
            ]
          },
          "metadata": {},
          "execution_count": 7
        }
      ]
    },
    {
      "cell_type": "code",
      "source": [
        "float2var=float(intVar)"
      ],
      "metadata": {
        "id": "ZoB9Pc1E31qc"
      },
      "execution_count": 8,
      "outputs": []
    },
    {
      "cell_type": "code",
      "source": [
        "type(float2var)"
      ],
      "metadata": {
        "colab": {
          "base_uri": "https://localhost:8080/"
        },
        "id": "wJfjcx2m39dD",
        "outputId": "0db9566b-e5cf-468c-938e-7ae08f5862de"
      },
      "execution_count": 9,
      "outputs": [
        {
          "output_type": "execute_result",
          "data": {
            "text/plain": [
              "float"
            ]
          },
          "metadata": {},
          "execution_count": 9
        }
      ]
    },
    {
      "cell_type": "code",
      "source": [
        "intVar * floatVar "
      ],
      "metadata": {
        "colab": {
          "base_uri": "https://localhost:8080/"
        },
        "id": "3XEqxm_b3_da",
        "outputId": "21d342ff-0e5a-46fe-aad1-ebd2cc05a323"
      },
      "execution_count": 10,
      "outputs": [
        {
          "output_type": "execute_result",
          "data": {
            "text/plain": [
              "9.0"
            ]
          },
          "metadata": {},
          "execution_count": 10
        }
      ]
    },
    {
      "cell_type": "code",
      "source": [
        "intVar /2"
      ],
      "metadata": {
        "colab": {
          "base_uri": "https://localhost:8080/"
        },
        "id": "BBt95M4j4EDW",
        "outputId": "244018f3-e7f6-482d-aa53-edd7f169bb97"
      },
      "execution_count": 11,
      "outputs": [
        {
          "output_type": "execute_result",
          "data": {
            "text/plain": [
              "1.5"
            ]
          },
          "metadata": {},
          "execution_count": 11
        }
      ]
    },
    {
      "cell_type": "code",
      "source": [
        "intVar + floatVar"
      ],
      "metadata": {
        "colab": {
          "base_uri": "https://localhost:8080/"
        },
        "id": "d3UyaB0D4eoV",
        "outputId": "c6919588-13bb-4539-eaf3-918022d6671e"
      },
      "execution_count": 12,
      "outputs": [
        {
          "output_type": "execute_result",
          "data": {
            "text/plain": [
              "6.0"
            ]
          },
          "metadata": {},
          "execution_count": 12
        }
      ]
    },
    {
      "cell_type": "code",
      "source": [
        "intVar + floatVar -intVar/2"
      ],
      "metadata": {
        "colab": {
          "base_uri": "https://localhost:8080/"
        },
        "id": "HlcxpzLZ4mqg",
        "outputId": "ece416ff-b697-48d0-e5bc-d46ce992d210"
      },
      "execution_count": 13,
      "outputs": [
        {
          "output_type": "execute_result",
          "data": {
            "text/plain": [
              "4.5"
            ]
          },
          "metadata": {},
          "execution_count": 13
        }
      ]
    },
    {
      "cell_type": "code",
      "source": [
        "type(intVar + floatVar -intVar/2)"
      ],
      "metadata": {
        "colab": {
          "base_uri": "https://localhost:8080/"
        },
        "id": "yXU7bLgs4qyv",
        "outputId": "01385f67-5781-431e-ad6e-48bb4f30821f"
      },
      "execution_count": 14,
      "outputs": [
        {
          "output_type": "execute_result",
          "data": {
            "text/plain": [
              "float"
            ]
          },
          "metadata": {},
          "execution_count": 14
        }
      ]
    },
    {
      "cell_type": "code",
      "source": [
        "(intVar + floatVar -intVar)/2"
      ],
      "metadata": {
        "colab": {
          "base_uri": "https://localhost:8080/"
        },
        "id": "eii3Qo4L5A_b",
        "outputId": "c9b3b652-8803-417c-ee7a-e0feca61c7a2"
      },
      "execution_count": 15,
      "outputs": [
        {
          "output_type": "execute_result",
          "data": {
            "text/plain": [
              "1.5"
            ]
          },
          "metadata": {},
          "execution_count": 15
        }
      ]
    },
    {
      "cell_type": "markdown",
      "source": [
        "## Strings"
      ],
      "metadata": {
        "id": "NCmu8xOu7MLk"
      }
    },
    {
      "cell_type": "code",
      "source": [
        "print(\"Hello world\")"
      ],
      "metadata": {
        "colab": {
          "base_uri": "https://localhost:8080/"
        },
        "id": "IfsMwxhR5PO2",
        "outputId": "80ff37be-5f37-46bc-c81c-6f89ee2edc25"
      },
      "execution_count": 16,
      "outputs": [
        {
          "output_type": "stream",
          "name": "stdout",
          "text": [
            "Hello world\n"
          ]
        }
      ]
    },
    {
      "cell_type": "code",
      "source": [
        "print(\"'Hello world'\")"
      ],
      "metadata": {
        "colab": {
          "base_uri": "https://localhost:8080/"
        },
        "id": "K3oLMM675tLY",
        "outputId": "f903b571-dea8-48e8-b998-74f03c59d8a3"
      },
      "execution_count": 17,
      "outputs": [
        {
          "output_type": "stream",
          "name": "stdout",
          "text": [
            "'Hello world'\n"
          ]
        }
      ]
    },
    {
      "cell_type": "code",
      "source": [
        "print('''Hello\n",
        "world''')"
      ],
      "metadata": {
        "colab": {
          "base_uri": "https://localhost:8080/"
        },
        "id": "CUIQqNNx6Gc6",
        "outputId": "f819d965-c3fa-481a-b094-ee9c04291694"
      },
      "execution_count": 18,
      "outputs": [
        {
          "output_type": "stream",
          "name": "stdout",
          "text": [
            "Hello\n",
            "world\n"
          ]
        }
      ]
    },
    {
      "cell_type": "code",
      "source": [
        "strVar= 'Hello world'"
      ],
      "metadata": {
        "id": "qSWcGfJS6Vhz"
      },
      "execution_count": 19,
      "outputs": []
    },
    {
      "cell_type": "code",
      "source": [
        "print(strVar)\n"
      ],
      "metadata": {
        "colab": {
          "base_uri": "https://localhost:8080/"
        },
        "id": "9pHIupUO6jak",
        "outputId": "7ef7f841-f650-4be7-d325-9bb477e0ef01"
      },
      "execution_count": 20,
      "outputs": [
        {
          "output_type": "stream",
          "name": "stdout",
          "text": [
            "Hello world\n"
          ]
        }
      ]
    },
    {
      "cell_type": "markdown",
      "source": [
        "## Boolean Variables"
      ],
      "metadata": {
        "id": "u7ghD73h7Qvk"
      }
    },
    {
      "cell_type": "code",
      "source": [
        "True"
      ],
      "metadata": {
        "colab": {
          "base_uri": "https://localhost:8080/"
        },
        "id": "ol2szfTr7SzU",
        "outputId": "c9afc6b5-c0d7-4423-bc8a-4ee29898b615"
      },
      "execution_count": 21,
      "outputs": [
        {
          "output_type": "execute_result",
          "data": {
            "text/plain": [
              "True"
            ]
          },
          "metadata": {},
          "execution_count": 21
        }
      ]
    },
    {
      "cell_type": "code",
      "source": [
        "False"
      ],
      "metadata": {
        "colab": {
          "base_uri": "https://localhost:8080/"
        },
        "id": "o3TZX4dt7biN",
        "outputId": "ace7cc18-b127-4e00-942e-1240c042b304"
      },
      "execution_count": 22,
      "outputs": [
        {
          "output_type": "execute_result",
          "data": {
            "text/plain": [
              "False"
            ]
          },
          "metadata": {},
          "execution_count": 22
        }
      ]
    },
    {
      "cell_type": "code",
      "source": [
        "\n",
        "if intVar>floatVar:\n",
        "  print(\"this is true\")\n",
        "  print(intVar*floatVar)\n",
        "else:\n",
        "  print(\"condition was false\")"
      ],
      "metadata": {
        "colab": {
          "base_uri": "https://localhost:8080/"
        },
        "id": "uinshlva7dgu",
        "outputId": "2959e4cf-aa9e-4203-9a23-40f8b4ccbd99"
      },
      "execution_count": 23,
      "outputs": [
        {
          "output_type": "stream",
          "name": "stdout",
          "text": [
            "condition was false\n"
          ]
        }
      ]
    },
    {
      "cell_type": "code",
      "source": [
        "# == is equal?\n",
        "print(intVar==floatVar)\n",
        "# > greater\n",
        "print(intVar>floatVar)\n",
        "# < greater\n",
        "print(intVar<floatVar)\n",
        "# != not equal\n",
        "print(intVar!=floatVar)"
      ],
      "metadata": {
        "colab": {
          "base_uri": "https://localhost:8080/"
        },
        "id": "p8RSQP3A8F55",
        "outputId": "fbe16691-defa-43a2-f18c-9f39091db2d3"
      },
      "execution_count": 24,
      "outputs": [
        {
          "output_type": "stream",
          "name": "stdout",
          "text": [
            "True\n",
            "False\n",
            "False\n",
            "False\n"
          ]
        }
      ]
    },
    {
      "cell_type": "code",
      "source": [
        "# | is logical OR\n",
        "(intVar>floatVar) | (intVar==floatVar)\n",
        "# & is logical AND\n",
        "(intVar>floatVar) & (intVar==floatVar)"
      ],
      "metadata": {
        "colab": {
          "base_uri": "https://localhost:8080/"
        },
        "id": "DcjXNH7N-D1S",
        "outputId": "8c27143a-da0c-493c-970a-cafb83173919"
      },
      "execution_count": 25,
      "outputs": [
        {
          "output_type": "execute_result",
          "data": {
            "text/plain": [
              "False"
            ]
          },
          "metadata": {},
          "execution_count": 25
        }
      ]
    },
    {
      "cell_type": "code",
      "source": [
        "False==0"
      ],
      "metadata": {
        "colab": {
          "base_uri": "https://localhost:8080/"
        },
        "id": "HhLQqmte-OjU",
        "outputId": "eaa4cf41-a362-488f-92e1-9d223bc63a62"
      },
      "execution_count": 26,
      "outputs": [
        {
          "output_type": "execute_result",
          "data": {
            "text/plain": [
              "True"
            ]
          },
          "metadata": {},
          "execution_count": 26
        }
      ]
    },
    {
      "cell_type": "code",
      "source": [
        "True==1"
      ],
      "metadata": {
        "colab": {
          "base_uri": "https://localhost:8080/"
        },
        "id": "z1IIAL6K-lOP",
        "outputId": "1f16ffc2-6b1f-4b1b-e7ea-2fa9c947e5be"
      },
      "execution_count": 27,
      "outputs": [
        {
          "output_type": "execute_result",
          "data": {
            "text/plain": [
              "True"
            ]
          },
          "metadata": {},
          "execution_count": 27
        }
      ]
    },
    {
      "cell_type": "code",
      "source": [
        "# Instead of logical AND & I can use *\n",
        "if (intVar>floatVar) * (intVar==floatVar):\n",
        "  print(\"True\")\n",
        "else: \n",
        "  print(\"False\")"
      ],
      "metadata": {
        "colab": {
          "base_uri": "https://localhost:8080/"
        },
        "id": "G2ESsodW-m6I",
        "outputId": "9433e196-5f6b-4962-92a9-b410b72fa4f5"
      },
      "execution_count": 28,
      "outputs": [
        {
          "output_type": "stream",
          "name": "stdout",
          "text": [
            "False\n"
          ]
        }
      ]
    },
    {
      "cell_type": "code",
      "source": [
        "# Instead of logical OR | I can use +\n",
        "if (intVar>floatVar) + (intVar==floatVar):\n",
        "  print(\"True\")\n",
        "else: \n",
        "  print(\"False\")"
      ],
      "metadata": {
        "colab": {
          "base_uri": "https://localhost:8080/"
        },
        "id": "z30Ig0Iz-zdp",
        "outputId": "dfb45109-5e6d-401f-807e-27a7100af85a"
      },
      "execution_count": 29,
      "outputs": [
        {
          "output_type": "stream",
          "name": "stdout",
          "text": [
            "True\n"
          ]
        }
      ]
    },
    {
      "cell_type": "markdown",
      "source": [
        "##Loop"
      ],
      "metadata": {
        "id": "ohvPQm-WBf_z"
      }
    },
    {
      "cell_type": "code",
      "source": [
        "for i in range(1,10,3):\n",
        "  print(i)"
      ],
      "metadata": {
        "colab": {
          "base_uri": "https://localhost:8080/"
        },
        "id": "Nzw9IKLnBY0S",
        "outputId": "741ad6ea-966f-46fc-ac2b-3d64c6f5d516"
      },
      "execution_count": 30,
      "outputs": [
        {
          "output_type": "stream",
          "name": "stdout",
          "text": [
            "1\n",
            "4\n",
            "7\n"
          ]
        }
      ]
    },
    {
      "cell_type": "markdown",
      "source": [
        "#2) Variable as objects"
      ],
      "metadata": {
        "id": "MV7SM4qUCZaD"
      }
    },
    {
      "cell_type": "code",
      "source": [
        "strVar=\"hello world\"\n"
      ],
      "metadata": {
        "id": "vqB4d_PfCrFe"
      },
      "execution_count": 31,
      "outputs": []
    },
    {
      "cell_type": "code",
      "source": [
        "#capitalize puts first capital letter\n",
        "strVar.capitalize()\n"
      ],
      "metadata": {
        "colab": {
          "base_uri": "https://localhost:8080/",
          "height": 35
        },
        "id": "9xsIDPgCBxeV",
        "outputId": "bdc08130-386a-42f5-f5f6-e8dcbfc7817b"
      },
      "execution_count": 32,
      "outputs": [
        {
          "output_type": "execute_result",
          "data": {
            "text/plain": [
              "'Hello world'"
            ],
            "application/vnd.google.colaboratory.intrinsic+json": {
              "type": "string"
            }
          },
          "metadata": {},
          "execution_count": 32
        }
      ]
    },
    {
      "cell_type": "code",
      "source": [
        "#upper turns all the letters in capital letters\n",
        "strVar.upper()"
      ],
      "metadata": {
        "colab": {
          "base_uri": "https://localhost:8080/",
          "height": 35
        },
        "id": "bNw-UDFZC-wr",
        "outputId": "1276c928-57dd-4c5c-9f0f-6a11c37a4982"
      },
      "execution_count": 33,
      "outputs": [
        {
          "output_type": "execute_result",
          "data": {
            "text/plain": [
              "'HELLO WORLD'"
            ],
            "application/vnd.google.colaboratory.intrinsic+json": {
              "type": "string"
            }
          },
          "metadata": {},
          "execution_count": 33
        }
      ]
    },
    {
      "cell_type": "code",
      "source": [
        "#isdigit verifies if string is a number\n",
        "strVar.isdigit()"
      ],
      "metadata": {
        "colab": {
          "base_uri": "https://localhost:8080/"
        },
        "id": "bJ8jTeM5DI7A",
        "outputId": "39b47bd0-37ea-48c7-8ef2-663460d95bcf"
      },
      "execution_count": 34,
      "outputs": [
        {
          "output_type": "execute_result",
          "data": {
            "text/plain": [
              "False"
            ]
          },
          "metadata": {},
          "execution_count": 34
        }
      ]
    },
    {
      "cell_type": "code",
      "source": [
        "\"3\".isdigit()"
      ],
      "metadata": {
        "colab": {
          "base_uri": "https://localhost:8080/"
        },
        "id": "Fml5f7EKDMSX",
        "outputId": "d2a64b41-400b-4cf9-fdbc-3e9420d94f7b"
      },
      "execution_count": 35,
      "outputs": [
        {
          "output_type": "execute_result",
          "data": {
            "text/plain": [
              "True"
            ]
          },
          "metadata": {},
          "execution_count": 35
        }
      ]
    },
    {
      "cell_type": "code",
      "source": [
        "floatVar.is_integer()"
      ],
      "metadata": {
        "colab": {
          "base_uri": "https://localhost:8080/"
        },
        "id": "Z-rLITuqDZIU",
        "outputId": "27cbc485-3efc-4561-a67d-5cba37a6d8a3"
      },
      "execution_count": 36,
      "outputs": [
        {
          "output_type": "execute_result",
          "data": {
            "text/plain": [
              "True"
            ]
          },
          "metadata": {},
          "execution_count": 36
        }
      ]
    },
    {
      "cell_type": "markdown",
      "source": [
        "#3) List"
      ],
      "metadata": {
        "id": "sBiA5XHwEkO2"
      }
    },
    {
      "cell_type": "code",
      "source": [
        "listVar=[intVar, floatVar, strVar, 0, True]\n",
        "listVar"
      ],
      "metadata": {
        "colab": {
          "base_uri": "https://localhost:8080/"
        },
        "id": "iHgvARfGDsMv",
        "outputId": "cbf24575-7412-4d02-8a69-fb8a941a76b0"
      },
      "execution_count": 37,
      "outputs": [
        {
          "output_type": "execute_result",
          "data": {
            "text/plain": [
              "[3, 3.0, 'hello world', 0, True]"
            ]
          },
          "metadata": {},
          "execution_count": 37
        }
      ]
    },
    {
      "cell_type": "code",
      "source": [
        "#append adds elements at the end of the string\n",
        "listVar.append(11)\n",
        "listVar"
      ],
      "metadata": {
        "colab": {
          "base_uri": "https://localhost:8080/"
        },
        "id": "isdsPuhoE55E",
        "outputId": "7c8462ad-6d13-497b-c175-1d031a35b52b"
      },
      "execution_count": 38,
      "outputs": [
        {
          "output_type": "execute_result",
          "data": {
            "text/plain": [
              "[3, 3.0, 'hello world', 0, True, 11]"
            ]
          },
          "metadata": {},
          "execution_count": 38
        }
      ]
    },
    {
      "cell_type": "code",
      "source": [
        "listVar[0]"
      ],
      "metadata": {
        "colab": {
          "base_uri": "https://localhost:8080/"
        },
        "id": "fkSIxERJFFVf",
        "outputId": "e5a531d4-0c88-4475-9049-557bd0ff1c3b"
      },
      "execution_count": 39,
      "outputs": [
        {
          "output_type": "execute_result",
          "data": {
            "text/plain": [
              "3"
            ]
          },
          "metadata": {},
          "execution_count": 39
        }
      ]
    },
    {
      "cell_type": "code",
      "source": [
        "strVar[0]"
      ],
      "metadata": {
        "colab": {
          "base_uri": "https://localhost:8080/",
          "height": 35
        },
        "id": "Tpc9murzFTR9",
        "outputId": "d8373080-03f0-48c4-abc2-e84ad837abbe"
      },
      "execution_count": 40,
      "outputs": [
        {
          "output_type": "execute_result",
          "data": {
            "text/plain": [
              "'h'"
            ],
            "application/vnd.google.colaboratory.intrinsic+json": {
              "type": "string"
            }
          },
          "metadata": {},
          "execution_count": 40
        }
      ]
    },
    {
      "cell_type": "code",
      "source": [
        "'h' in strVar"
      ],
      "metadata": {
        "colab": {
          "base_uri": "https://localhost:8080/"
        },
        "id": "_YE3gXvOFV_K",
        "outputId": "a42e23a3-db4c-4ddb-a1e7-2bc04fb161f3"
      },
      "execution_count": 41,
      "outputs": [
        {
          "output_type": "execute_result",
          "data": {
            "text/plain": [
              "True"
            ]
          },
          "metadata": {},
          "execution_count": 41
        }
      ]
    },
    {
      "cell_type": "code",
      "source": [
        "3 in listVar"
      ],
      "metadata": {
        "colab": {
          "base_uri": "https://localhost:8080/"
        },
        "id": "mwAFEOqyFiPJ",
        "outputId": "9e4a21ab-5b98-46a7-bd74-33d415fa8e74"
      },
      "execution_count": 42,
      "outputs": [
        {
          "output_type": "execute_result",
          "data": {
            "text/plain": [
              "True"
            ]
          },
          "metadata": {},
          "execution_count": 42
        }
      ]
    },
    {
      "cell_type": "code",
      "source": [
        "64 in listVar"
      ],
      "metadata": {
        "colab": {
          "base_uri": "https://localhost:8080/"
        },
        "id": "0eWQdUc_FkiZ",
        "outputId": "e62dfef8-5ac9-464e-bafd-9946e13ff4f4"
      },
      "execution_count": 43,
      "outputs": [
        {
          "output_type": "execute_result",
          "data": {
            "text/plain": [
              "False"
            ]
          },
          "metadata": {},
          "execution_count": 43
        }
      ]
    },
    {
      "cell_type": "code",
      "source": [
        "listVar\n"
      ],
      "metadata": {
        "colab": {
          "base_uri": "https://localhost:8080/"
        },
        "id": "hzn0YrtlFmkV",
        "outputId": "94f8033e-27a6-4f26-9295-b911361d4e6e"
      },
      "execution_count": 44,
      "outputs": [
        {
          "output_type": "execute_result",
          "data": {
            "text/plain": [
              "[3, 3.0, 'hello world', 0, True, 11]"
            ]
          },
          "metadata": {},
          "execution_count": 44
        }
      ]
    },
    {
      "cell_type": "code",
      "source": [
        "listVar[1]=9"
      ],
      "metadata": {
        "id": "VGSMMPgdFrZw"
      },
      "execution_count": 45,
      "outputs": []
    },
    {
      "cell_type": "code",
      "source": [
        "listVar"
      ],
      "metadata": {
        "colab": {
          "base_uri": "https://localhost:8080/"
        },
        "id": "OPOuQfscF029",
        "outputId": "6dcc2223-25a7-4590-9f3f-543dc881d381"
      },
      "execution_count": 46,
      "outputs": [
        {
          "output_type": "execute_result",
          "data": {
            "text/plain": [
              "[3, 9, 'hello world', 0, True, 11]"
            ]
          },
          "metadata": {},
          "execution_count": 46
        }
      ]
    },
    {
      "cell_type": "markdown",
      "source": [
        "#4) Exercize: Wordle"
      ],
      "metadata": {
        "id": "dXO-sNg6GKjQ"
      }
    },
    {
      "cell_type": "code",
      "source": [
        "target=\"yyyyy\""
      ],
      "metadata": {
        "id": "3rMIUNNBF642"
      },
      "execution_count": 47,
      "outputs": []
    },
    {
      "cell_type": "code",
      "source": [
        "guess=\"xxxxx\""
      ],
      "metadata": {
        "id": "sCz_RGdAGRVD"
      },
      "execution_count": 48,
      "outputs": []
    },
    {
      "cell_type": "code",
      "source": [
        "target=\"ERROR\"\n",
        "guess=\"Acres\"\n",
        "if len(guess)!=5 | len(target)!=5:\n",
        "  print('Illegal word')\n",
        "else:\n",
        "  target=target.upper()\n",
        "  guess=guess.upper()\n",
        "  output=[]\n",
        "  for i in range (0,5):\n",
        "    if guess[i] in target:\n",
        "      if guess[i]==target[i]:\n",
        "        output.append(guess[i])\n",
        "      else:\n",
        "       output.append('*')\n",
        "    else:\n",
        "      output.append('_')\n",
        "  print(\" \".join(output))"
      ],
      "metadata": {
        "colab": {
          "base_uri": "https://localhost:8080/"
        },
        "id": "eE1U9mbkG8Iu",
        "outputId": "0600a02b-a1f6-43a5-c985-1a153753e7d5"
      },
      "execution_count": 49,
      "outputs": [
        {
          "output_type": "stream",
          "name": "stdout",
          "text": [
            "_ _ R * _\n"
          ]
        }
      ]
    },
    {
      "cell_type": "markdown",
      "source": [
        "#5) Functions"
      ],
      "metadata": {
        "id": "dfMNE0IkPAAu"
      }
    },
    {
      "cell_type": "code",
      "source": [
        "def wordle(guess):\n",
        "  \"\"\"\n",
        "  A function that checks a word guess against a target\n",
        "  Input: \n",
        "    guess: a string\n",
        "  Return:\n",
        "    a string\n",
        "  \"\"\"\n",
        "  target=\"ERROR\"\n",
        "\n",
        "  if len(guess)!=5 | len(target)!=5:\n",
        "    print('Illegal word')\n",
        "  else:\n",
        "    target=target.upper()\n",
        "    guess=guess.upper()\n",
        "    output=[]\n",
        "    for i in range (0,5):\n",
        "      if guess[i] in target:\n",
        "        if guess[i]==target[i]:\n",
        "          output.append(guess[i])\n",
        "        else:\n",
        "          output.append('*')\n",
        "      else:\n",
        "        output.append('_')\n",
        "    print(\" \".join(output))"
      ],
      "metadata": {
        "id": "75ZZBhjTJxHo"
      },
      "execution_count": 50,
      "outputs": []
    },
    {
      "cell_type": "code",
      "source": [
        "wordle?"
      ],
      "metadata": {
        "id": "0ifVYUeuQivc"
      },
      "execution_count": 51,
      "outputs": []
    },
    {
      "cell_type": "code",
      "source": [
        "wordle('bugia')"
      ],
      "metadata": {
        "colab": {
          "base_uri": "https://localhost:8080/"
        },
        "id": "5v__TK89RPQy",
        "outputId": "e21c8fa1-49b2-4ce2-c7e6-089100e69eef"
      },
      "execution_count": 52,
      "outputs": [
        {
          "output_type": "stream",
          "name": "stdout",
          "text": [
            "_ _ _ _ _\n"
          ]
        }
      ]
    },
    {
      "cell_type": "markdown",
      "source": [
        "#6) Importing packages"
      ],
      "metadata": {
        "id": "RshBSCrySI3J"
      }
    },
    {
      "cell_type": "markdown",
      "source": [
        "Typical packages that we'll see:\n",
        "##pandas\n",
        "manipulation of tabular data\n",
        "##numpy \n",
        "manipulation of numerical data\n",
        "##scipy\n",
        "statistica (also statsmodels)\n",
        "##matplotlib(pylab)\n",
        "visualizations and plotting\n",
        "##sklearn(scikitlearn)\n",
        "machine learning\n",
        "##tensorflow\n",
        "neural networks"
      ],
      "metadata": {
        "id": "p9oZZKNlSfTl"
      }
    },
    {
      "cell_type": "code",
      "source": [
        "import pandas as pd\n",
        "# from pandas import * # never !\n",
        "#cvs='comma separated values'"
      ],
      "metadata": {
        "id": "wTw5gQMIRRw1"
      },
      "execution_count": 53,
      "outputs": []
    },
    {
      "cell_type": "code",
      "source": [
        "url=\"https://raw.githubusercontent.com/fedhere/PyBOOT/master/311_Service_Requests_from_2010_to_Present.csv\""
      ],
      "metadata": {
        "id": "FRaju5L2TFNS"
      },
      "execution_count": 54,
      "outputs": []
    },
    {
      "cell_type": "code",
      "source": [
        "#shows file (url)\n",
        "df=pd.read_csv(url)"
      ],
      "metadata": {
        "id": "tPNXK5D4VNIc"
      },
      "execution_count": 55,
      "outputs": []
    },
    {
      "cell_type": "code",
      "source": [
        "#dimensions of file matrix\n",
        "df.shape\n"
      ],
      "metadata": {
        "colab": {
          "base_uri": "https://localhost:8080/"
        },
        "id": "ZJfBcM1tVSrp",
        "outputId": "af448f56-d4f4-4105-ec0b-3df57811768c"
      },
      "execution_count": 56,
      "outputs": [
        {
          "output_type": "execute_result",
          "data": {
            "text/plain": [
              "(924, 41)"
            ]
          },
          "metadata": {},
          "execution_count": 56
        }
      ]
    },
    {
      "cell_type": "code",
      "source": [
        "#property/name of each column\n",
        "df.columns"
      ],
      "metadata": {
        "colab": {
          "base_uri": "https://localhost:8080/"
        },
        "id": "LI3-QkxYVel4",
        "outputId": "780b784c-3c73-48f7-e7b3-1b767a4a59d5"
      },
      "execution_count": 57,
      "outputs": [
        {
          "output_type": "execute_result",
          "data": {
            "text/plain": [
              "Index(['Unique Key', 'Created Date', 'Closed Date', 'Agency', 'Agency Name',\n",
              "       'Complaint Type', 'Descriptor', 'Location Type', 'Incident Zip',\n",
              "       'Incident Address', 'Street Name', 'Cross Street 1', 'Cross Street 2',\n",
              "       'Intersection Street 1', 'Intersection Street 2', 'Address Type',\n",
              "       'City', 'Landmark', 'Facility Type', 'Status', 'Due Date',\n",
              "       'Resolution Description', 'Resolution Action Updated Date',\n",
              "       'Community Board', 'BBL', 'Borough', 'X Coordinate (State Plane)',\n",
              "       'Y Coordinate (State Plane)', 'Open Data Channel Type',\n",
              "       'Park Facility Name', 'Park Borough', 'Vehicle Type',\n",
              "       'Taxi Company Borough', 'Taxi Pick Up Location', 'Bridge Highway Name',\n",
              "       'Bridge Highway Direction', 'Road Ramp', 'Bridge Highway Segment',\n",
              "       'Latitude', 'Longitude', 'Location'],\n",
              "      dtype='object')"
            ]
          },
          "metadata": {},
          "execution_count": 57
        }
      ]
    },
    {
      "cell_type": "code",
      "source": [
        "#estrapolates first line dataframes\n",
        "df.iloc[0]"
      ],
      "metadata": {
        "colab": {
          "base_uri": "https://localhost:8080/"
        },
        "id": "LIMrguiOV4wA",
        "outputId": "62c199aa-cbdc-4f2c-aceb-3df0e4d9f5ed"
      },
      "execution_count": 58,
      "outputs": [
        {
          "output_type": "execute_result",
          "data": {
            "text/plain": [
              "Unique Key                                                       54049402\n",
              "Created Date                                       05/01/2022 12:00:03 AM\n",
              "Closed Date                                                           NaN\n",
              "Agency                                                               NYPD\n",
              "Agency Name                               New York City Police Department\n",
              "Complaint Type                                        Noise - Residential\n",
              "Descriptor                                               Loud Music/Party\n",
              "Location Type                                  Residential Building/House\n",
              "Incident Zip                                                      10452.0\n",
              "Incident Address                                       1006 GERARD AVENUE\n",
              "Street Name                                                 GERARD AVENUE\n",
              "Cross Street 1                                           EAST  164 STREET\n",
              "Cross Street 2                                           EAST  165 STREET\n",
              "Intersection Street 1                                    EAST  164 STREET\n",
              "Intersection Street 2                                    EAST  165 STREET\n",
              "Address Type                                                      ADDRESS\n",
              "City                                                                BRONX\n",
              "Landmark                                                    GERARD AVENUE\n",
              "Facility Type                                                         NaN\n",
              "Status                                                        In Progress\n",
              "Due Date                                                              NaN\n",
              "Resolution Description                                                NaN\n",
              "Resolution Action Updated Date                                        NaN\n",
              "Community Board                                                  04 BRONX\n",
              "BBL                                                          2024770001.0\n",
              "Borough                                                             BRONX\n",
              "X Coordinate (State Plane)                                      1005536.0\n",
              "Y Coordinate (State Plane)                                       241916.0\n",
              "Open Data Channel Type                                             ONLINE\n",
              "Park Facility Name                                            Unspecified\n",
              "Park Borough                                                        BRONX\n",
              "Vehicle Type                                                          NaN\n",
              "Taxi Company Borough                                                  NaN\n",
              "Taxi Pick Up Location                                                 NaN\n",
              "Bridge Highway Name                                                   NaN\n",
              "Bridge Highway Direction                                              NaN\n",
              "Road Ramp                                                             NaN\n",
              "Bridge Highway Segment                                                NaN\n",
              "Latitude                                                        40.830653\n",
              "Longitude                                                      -73.923082\n",
              "Location                          (40.83065331987539, -73.92308231033165)\n",
              "Name: 0, dtype: object"
            ]
          },
          "metadata": {},
          "execution_count": 58
        }
      ]
    },
    {
      "cell_type": "code",
      "source": [
        "df.loc[:,'Created Date']"
      ],
      "metadata": {
        "colab": {
          "base_uri": "https://localhost:8080/"
        },
        "id": "PYZQXFheWm4I",
        "outputId": "0e95071d-5547-4bb3-98e9-f6105a65a8f0"
      },
      "execution_count": 59,
      "outputs": [
        {
          "output_type": "execute_result",
          "data": {
            "text/plain": [
              "0      05/01/2022 12:00:03 AM\n",
              "1      05/01/2022 12:00:09 AM\n",
              "2      05/01/2022 12:00:17 AM\n",
              "3      05/01/2022 12:00:21 AM\n",
              "4      05/01/2022 12:00:25 AM\n",
              "                ...          \n",
              "919    05/01/2022 02:04:45 AM\n",
              "920    05/01/2022 02:05:35 AM\n",
              "921    05/01/2022 02:05:38 AM\n",
              "922    05/01/2022 02:06:13 AM\n",
              "923    05/01/2022 02:06:26 AM\n",
              "Name: Created Date, Length: 924, dtype: object"
            ]
          },
          "metadata": {},
          "execution_count": 59
        }
      ]
    },
    {
      "cell_type": "code",
      "source": [
        "url=\"https://raw.githubusercontent.com/fedhere/UInotebooks/master/dataWrangling/movies.dat\""
      ],
      "metadata": {
        "id": "AzMBswh5W6C6"
      },
      "execution_count": 60,
      "outputs": []
    },
    {
      "cell_type": "code",
      "source": [
        "import pandas as pd\n",
        "url=\"https://raw.githubusercontent.com/fedhere/UInotebooks/master/dataWrangling/movies.dat\"\n",
        "colnames=['Title', 'Genre']\n",
        "movies=pd.read_csv(url, sep=\"::\", index_col=0, header=None, names=colnames)\n",
        "#header=first line with name of columns"
      ],
      "metadata": {
        "colab": {
          "base_uri": "https://localhost:8080/"
        },
        "id": "o2bxl6eBXnCl",
        "outputId": "089f2698-db50-4b2c-e53a-0b285b14d914"
      },
      "execution_count": 61,
      "outputs": [
        {
          "output_type": "stream",
          "name": "stderr",
          "text": [
            "<ipython-input-61-9f75e845fc88>:4: ParserWarning: Falling back to the 'python' engine because the 'c' engine does not support regex separators (separators > 1 char and different from '\\s+' are interpreted as regex); you can avoid this warning by specifying engine='python'.\n",
            "  movies=pd.read_csv(url, sep=\"::\", index_col=0, header=None, names=colnames)\n"
          ]
        }
      ]
    },
    {
      "cell_type": "code",
      "source": [
        "movies.columns"
      ],
      "metadata": {
        "colab": {
          "base_uri": "https://localhost:8080/"
        },
        "id": "EWyBuu0vYvqW",
        "outputId": "7de92c16-f407-44a5-9c32-c8b6414e33df"
      },
      "execution_count": 62,
      "outputs": [
        {
          "output_type": "execute_result",
          "data": {
            "text/plain": [
              "Index(['Title', 'Genre'], dtype='object')"
            ]
          },
          "metadata": {},
          "execution_count": 62
        }
      ]
    },
    {
      "cell_type": "code",
      "source": [
        "movies[\"Title\"]"
      ],
      "metadata": {
        "colab": {
          "base_uri": "https://localhost:8080/"
        },
        "id": "87X1eqFJYxG5",
        "outputId": "ccba8036-b52a-4883-ca14-a941b0c7f820"
      },
      "execution_count": 63,
      "outputs": [
        {
          "output_type": "execute_result",
          "data": {
            "text/plain": [
              "1                         Toy Story (1995)\n",
              "2                           Jumanji (1995)\n",
              "3                  Grumpier Old Men (1995)\n",
              "4                 Waiting to Exhale (1995)\n",
              "5       Father of the Bride Part II (1995)\n",
              "                       ...                \n",
              "3948               Meet the Parents (2000)\n",
              "3949            Requiem for a Dream (2000)\n",
              "3950                      Tigerland (2000)\n",
              "3951               Two Family House (2000)\n",
              "3952                 Contender, The (2000)\n",
              "Name: Title, Length: 3883, dtype: object"
            ]
          },
          "metadata": {},
          "execution_count": 63
        }
      ]
    },
    {
      "cell_type": "code",
      "source": [
        "movies[\"Genre\"]"
      ],
      "metadata": {
        "colab": {
          "base_uri": "https://localhost:8080/"
        },
        "id": "x91WhXXAZIp7",
        "outputId": "244a113f-00ea-43ed-c9a7-25943fe0a07d"
      },
      "execution_count": 64,
      "outputs": [
        {
          "output_type": "execute_result",
          "data": {
            "text/plain": [
              "1        Animation|Children's|Comedy\n",
              "2       Adventure|Children's|Fantasy\n",
              "3                     Comedy|Romance\n",
              "4                       Comedy|Drama\n",
              "5                             Comedy\n",
              "                    ...             \n",
              "3948                          Comedy\n",
              "3949                           Drama\n",
              "3950                           Drama\n",
              "3951                           Drama\n",
              "3952                  Drama|Thriller\n",
              "Name: Genre, Length: 3883, dtype: object"
            ]
          },
          "metadata": {},
          "execution_count": 64
        }
      ]
    },
    {
      "cell_type": "code",
      "source": [
        "\"Toy Story (1995)\".split()"
      ],
      "metadata": {
        "colab": {
          "base_uri": "https://localhost:8080/"
        },
        "id": "TQ4UY10UZjKb",
        "outputId": "b9324820-0457-42e2-c804-915dae1e2d2c"
      },
      "execution_count": 65,
      "outputs": [
        {
          "output_type": "execute_result",
          "data": {
            "text/plain": [
              "['Toy', 'Story', '(1995)']"
            ]
          },
          "metadata": {},
          "execution_count": 65
        }
      ]
    },
    {
      "cell_type": "code",
      "source": [
        "\"Toy Story (1995)\".split()[2]"
      ],
      "metadata": {
        "colab": {
          "base_uri": "https://localhost:8080/",
          "height": 35
        },
        "id": "2k86cNBsZ1Wf",
        "outputId": "a4524e67-4be8-459d-99a3-a02fa36c7a24"
      },
      "execution_count": 66,
      "outputs": [
        {
          "output_type": "execute_result",
          "data": {
            "text/plain": [
              "'(1995)'"
            ],
            "application/vnd.google.colaboratory.intrinsic+json": {
              "type": "string"
            }
          },
          "metadata": {},
          "execution_count": 66
        }
      ]
    },
    {
      "cell_type": "code",
      "source": [
        "\"Toy Story (1995)\".split()[-1]"
      ],
      "metadata": {
        "colab": {
          "base_uri": "https://localhost:8080/",
          "height": 35
        },
        "id": "zGGA4pEaaB-R",
        "outputId": "a9b3f8cc-1155-4a13-a51a-65418ba35841"
      },
      "execution_count": 67,
      "outputs": [
        {
          "output_type": "execute_result",
          "data": {
            "text/plain": [
              "'(1995)'"
            ],
            "application/vnd.google.colaboratory.intrinsic+json": {
              "type": "string"
            }
          },
          "metadata": {},
          "execution_count": 67
        }
      ]
    },
    {
      "cell_type": "code",
      "source": [
        "\"Toy Story (1995)\".split()[-1].replace(\"(\",\"\").strip(\")\")"
      ],
      "metadata": {
        "colab": {
          "base_uri": "https://localhost:8080/",
          "height": 35
        },
        "id": "GBGxrWwtaM8z",
        "outputId": "c670b2dd-919e-461d-fa5f-bcd0685b2821"
      },
      "execution_count": 68,
      "outputs": [
        {
          "output_type": "execute_result",
          "data": {
            "text/plain": [
              "'1995'"
            ],
            "application/vnd.google.colaboratory.intrinsic+json": {
              "type": "string"
            }
          },
          "metadata": {},
          "execution_count": 68
        }
      ]
    },
    {
      "cell_type": "code",
      "source": [
        "#def function to estrapolate the years from the file\n",
        "def get_year(mtitle):\n",
        "  \"\"\"\n",
        "  \"\"\"\n",
        "  return int(mtitle.split(\"(\")[-1].strip(\")\"))"
      ],
      "metadata": {
        "id": "-9zFCz3yaYqE"
      },
      "execution_count": 69,
      "outputs": []
    },
    {
      "cell_type": "code",
      "source": [
        "#recall the function in our file\n",
        "movies[\"Title\"].map(get_year)"
      ],
      "metadata": {
        "colab": {
          "base_uri": "https://localhost:8080/"
        },
        "id": "m13VeES7ayus",
        "outputId": "582d354f-bfd6-46f2-b67a-72dd1b271f60"
      },
      "execution_count": 70,
      "outputs": [
        {
          "output_type": "execute_result",
          "data": {
            "text/plain": [
              "1       1995\n",
              "2       1995\n",
              "3       1995\n",
              "4       1995\n",
              "5       1995\n",
              "        ... \n",
              "3948    2000\n",
              "3949    2000\n",
              "3950    2000\n",
              "3951    2000\n",
              "3952    2000\n",
              "Name: Title, Length: 3883, dtype: int64"
            ]
          },
          "metadata": {},
          "execution_count": 70
        }
      ]
    },
    {
      "cell_type": "code",
      "source": [
        "#creates column of movies sorted by year\n",
        "movies[\"year\"]=movies[\"Title\"].map(get_year)\n",
        "movies"
      ],
      "metadata": {
        "colab": {
          "base_uri": "https://localhost:8080/",
          "height": 423
        },
        "id": "To4aOk0wa4Ky",
        "outputId": "7797497c-4ebd-478c-b5ee-bdfbf474797f"
      },
      "execution_count": 71,
      "outputs": [
        {
          "output_type": "execute_result",
          "data": {
            "text/plain": [
              "                                   Title                         Genre  year\n",
              "1                       Toy Story (1995)   Animation|Children's|Comedy  1995\n",
              "2                         Jumanji (1995)  Adventure|Children's|Fantasy  1995\n",
              "3                Grumpier Old Men (1995)                Comedy|Romance  1995\n",
              "4               Waiting to Exhale (1995)                  Comedy|Drama  1995\n",
              "5     Father of the Bride Part II (1995)                        Comedy  1995\n",
              "...                                  ...                           ...   ...\n",
              "3948             Meet the Parents (2000)                        Comedy  2000\n",
              "3949          Requiem for a Dream (2000)                         Drama  2000\n",
              "3950                    Tigerland (2000)                         Drama  2000\n",
              "3951             Two Family House (2000)                         Drama  2000\n",
              "3952               Contender, The (2000)                Drama|Thriller  2000\n",
              "\n",
              "[3883 rows x 3 columns]"
            ],
            "text/html": [
              "\n",
              "  <div id=\"df-eadef975-9c12-471c-802f-5d972f8ffddd\">\n",
              "    <div class=\"colab-df-container\">\n",
              "      <div>\n",
              "<style scoped>\n",
              "    .dataframe tbody tr th:only-of-type {\n",
              "        vertical-align: middle;\n",
              "    }\n",
              "\n",
              "    .dataframe tbody tr th {\n",
              "        vertical-align: top;\n",
              "    }\n",
              "\n",
              "    .dataframe thead th {\n",
              "        text-align: right;\n",
              "    }\n",
              "</style>\n",
              "<table border=\"1\" class=\"dataframe\">\n",
              "  <thead>\n",
              "    <tr style=\"text-align: right;\">\n",
              "      <th></th>\n",
              "      <th>Title</th>\n",
              "      <th>Genre</th>\n",
              "      <th>year</th>\n",
              "    </tr>\n",
              "  </thead>\n",
              "  <tbody>\n",
              "    <tr>\n",
              "      <th>1</th>\n",
              "      <td>Toy Story (1995)</td>\n",
              "      <td>Animation|Children's|Comedy</td>\n",
              "      <td>1995</td>\n",
              "    </tr>\n",
              "    <tr>\n",
              "      <th>2</th>\n",
              "      <td>Jumanji (1995)</td>\n",
              "      <td>Adventure|Children's|Fantasy</td>\n",
              "      <td>1995</td>\n",
              "    </tr>\n",
              "    <tr>\n",
              "      <th>3</th>\n",
              "      <td>Grumpier Old Men (1995)</td>\n",
              "      <td>Comedy|Romance</td>\n",
              "      <td>1995</td>\n",
              "    </tr>\n",
              "    <tr>\n",
              "      <th>4</th>\n",
              "      <td>Waiting to Exhale (1995)</td>\n",
              "      <td>Comedy|Drama</td>\n",
              "      <td>1995</td>\n",
              "    </tr>\n",
              "    <tr>\n",
              "      <th>5</th>\n",
              "      <td>Father of the Bride Part II (1995)</td>\n",
              "      <td>Comedy</td>\n",
              "      <td>1995</td>\n",
              "    </tr>\n",
              "    <tr>\n",
              "      <th>...</th>\n",
              "      <td>...</td>\n",
              "      <td>...</td>\n",
              "      <td>...</td>\n",
              "    </tr>\n",
              "    <tr>\n",
              "      <th>3948</th>\n",
              "      <td>Meet the Parents (2000)</td>\n",
              "      <td>Comedy</td>\n",
              "      <td>2000</td>\n",
              "    </tr>\n",
              "    <tr>\n",
              "      <th>3949</th>\n",
              "      <td>Requiem for a Dream (2000)</td>\n",
              "      <td>Drama</td>\n",
              "      <td>2000</td>\n",
              "    </tr>\n",
              "    <tr>\n",
              "      <th>3950</th>\n",
              "      <td>Tigerland (2000)</td>\n",
              "      <td>Drama</td>\n",
              "      <td>2000</td>\n",
              "    </tr>\n",
              "    <tr>\n",
              "      <th>3951</th>\n",
              "      <td>Two Family House (2000)</td>\n",
              "      <td>Drama</td>\n",
              "      <td>2000</td>\n",
              "    </tr>\n",
              "    <tr>\n",
              "      <th>3952</th>\n",
              "      <td>Contender, The (2000)</td>\n",
              "      <td>Drama|Thriller</td>\n",
              "      <td>2000</td>\n",
              "    </tr>\n",
              "  </tbody>\n",
              "</table>\n",
              "<p>3883 rows × 3 columns</p>\n",
              "</div>\n",
              "      <button class=\"colab-df-convert\" onclick=\"convertToInteractive('df-eadef975-9c12-471c-802f-5d972f8ffddd')\"\n",
              "              title=\"Convert this dataframe to an interactive table.\"\n",
              "              style=\"display:none;\">\n",
              "        \n",
              "  <svg xmlns=\"http://www.w3.org/2000/svg\" height=\"24px\"viewBox=\"0 0 24 24\"\n",
              "       width=\"24px\">\n",
              "    <path d=\"M0 0h24v24H0V0z\" fill=\"none\"/>\n",
              "    <path d=\"M18.56 5.44l.94 2.06.94-2.06 2.06-.94-2.06-.94-.94-2.06-.94 2.06-2.06.94zm-11 1L8.5 8.5l.94-2.06 2.06-.94-2.06-.94L8.5 2.5l-.94 2.06-2.06.94zm10 10l.94 2.06.94-2.06 2.06-.94-2.06-.94-.94-2.06-.94 2.06-2.06.94z\"/><path d=\"M17.41 7.96l-1.37-1.37c-.4-.4-.92-.59-1.43-.59-.52 0-1.04.2-1.43.59L10.3 9.45l-7.72 7.72c-.78.78-.78 2.05 0 2.83L4 21.41c.39.39.9.59 1.41.59.51 0 1.02-.2 1.41-.59l7.78-7.78 2.81-2.81c.8-.78.8-2.07 0-2.86zM5.41 20L4 18.59l7.72-7.72 1.47 1.35L5.41 20z\"/>\n",
              "  </svg>\n",
              "      </button>\n",
              "      \n",
              "  <style>\n",
              "    .colab-df-container {\n",
              "      display:flex;\n",
              "      flex-wrap:wrap;\n",
              "      gap: 12px;\n",
              "    }\n",
              "\n",
              "    .colab-df-convert {\n",
              "      background-color: #E8F0FE;\n",
              "      border: none;\n",
              "      border-radius: 50%;\n",
              "      cursor: pointer;\n",
              "      display: none;\n",
              "      fill: #1967D2;\n",
              "      height: 32px;\n",
              "      padding: 0 0 0 0;\n",
              "      width: 32px;\n",
              "    }\n",
              "\n",
              "    .colab-df-convert:hover {\n",
              "      background-color: #E2EBFA;\n",
              "      box-shadow: 0px 1px 2px rgba(60, 64, 67, 0.3), 0px 1px 3px 1px rgba(60, 64, 67, 0.15);\n",
              "      fill: #174EA6;\n",
              "    }\n",
              "\n",
              "    [theme=dark] .colab-df-convert {\n",
              "      background-color: #3B4455;\n",
              "      fill: #D2E3FC;\n",
              "    }\n",
              "\n",
              "    [theme=dark] .colab-df-convert:hover {\n",
              "      background-color: #434B5C;\n",
              "      box-shadow: 0px 1px 3px 1px rgba(0, 0, 0, 0.15);\n",
              "      filter: drop-shadow(0px 1px 2px rgba(0, 0, 0, 0.3));\n",
              "      fill: #FFFFFF;\n",
              "    }\n",
              "  </style>\n",
              "\n",
              "      <script>\n",
              "        const buttonEl =\n",
              "          document.querySelector('#df-eadef975-9c12-471c-802f-5d972f8ffddd button.colab-df-convert');\n",
              "        buttonEl.style.display =\n",
              "          google.colab.kernel.accessAllowed ? 'block' : 'none';\n",
              "\n",
              "        async function convertToInteractive(key) {\n",
              "          const element = document.querySelector('#df-eadef975-9c12-471c-802f-5d972f8ffddd');\n",
              "          const dataTable =\n",
              "            await google.colab.kernel.invokeFunction('convertToInteractive',\n",
              "                                                     [key], {});\n",
              "          if (!dataTable) return;\n",
              "\n",
              "          const docLinkHtml = 'Like what you see? Visit the ' +\n",
              "            '<a target=\"_blank\" href=https://colab.research.google.com/notebooks/data_table.ipynb>data table notebook</a>'\n",
              "            + ' to learn more about interactive tables.';\n",
              "          element.innerHTML = '';\n",
              "          dataTable['output_type'] = 'display_data';\n",
              "          await google.colab.output.renderOutput(dataTable, element);\n",
              "          const docLink = document.createElement('div');\n",
              "          docLink.innerHTML = docLinkHtml;\n",
              "          element.appendChild(docLink);\n",
              "        }\n",
              "      </script>\n",
              "    </div>\n",
              "  </div>\n",
              "  "
            ]
          },
          "metadata": {},
          "execution_count": 71
        }
      ]
    },
    {
      "cell_type": "code",
      "source": [
        "#plot of number of movies(years)\n",
        "movies.groupby(\"year\").count().plot(y=\"title\")"
      ],
      "metadata": {
        "colab": {
          "base_uri": "https://localhost:8080/",
          "height": 502
        },
        "id": "iXx_82-YNxi0",
        "outputId": "b523d4b4-fa6f-4146-fbf2-52ffb05b6ac2"
      },
      "execution_count": 74,
      "outputs": [
        {
          "output_type": "error",
          "ename": "KeyError",
          "evalue": "ignored",
          "traceback": [
            "\u001b[0;31m---------------------------------------------------------------------------\u001b[0m",
            "\u001b[0;31mKeyError\u001b[0m                                  Traceback (most recent call last)",
            "\u001b[0;32m/usr/local/lib/python3.9/dist-packages/pandas/core/indexes/base.py\u001b[0m in \u001b[0;36mget_loc\u001b[0;34m(self, key, method, tolerance)\u001b[0m\n\u001b[1;32m   3628\u001b[0m             \u001b[0;32mtry\u001b[0m\u001b[0;34m:\u001b[0m\u001b[0;34m\u001b[0m\u001b[0;34m\u001b[0m\u001b[0m\n\u001b[0;32m-> 3629\u001b[0;31m                 \u001b[0;32mreturn\u001b[0m \u001b[0mself\u001b[0m\u001b[0;34m.\u001b[0m\u001b[0m_engine\u001b[0m\u001b[0;34m.\u001b[0m\u001b[0mget_loc\u001b[0m\u001b[0;34m(\u001b[0m\u001b[0mcasted_key\u001b[0m\u001b[0;34m)\u001b[0m\u001b[0;34m\u001b[0m\u001b[0;34m\u001b[0m\u001b[0m\n\u001b[0m\u001b[1;32m   3630\u001b[0m             \u001b[0;32mexcept\u001b[0m \u001b[0mKeyError\u001b[0m \u001b[0;32mas\u001b[0m \u001b[0merr\u001b[0m\u001b[0;34m:\u001b[0m\u001b[0;34m\u001b[0m\u001b[0;34m\u001b[0m\u001b[0m\n",
            "\u001b[0;32m/usr/local/lib/python3.9/dist-packages/pandas/_libs/index.pyx\u001b[0m in \u001b[0;36mpandas._libs.index.IndexEngine.get_loc\u001b[0;34m()\u001b[0m\n",
            "\u001b[0;32m/usr/local/lib/python3.9/dist-packages/pandas/_libs/index.pyx\u001b[0m in \u001b[0;36mpandas._libs.index.IndexEngine.get_loc\u001b[0;34m()\u001b[0m\n",
            "\u001b[0;32mpandas/_libs/hashtable_class_helper.pxi\u001b[0m in \u001b[0;36mpandas._libs.hashtable.PyObjectHashTable.get_item\u001b[0;34m()\u001b[0m\n",
            "\u001b[0;32mpandas/_libs/hashtable_class_helper.pxi\u001b[0m in \u001b[0;36mpandas._libs.hashtable.PyObjectHashTable.get_item\u001b[0;34m()\u001b[0m\n",
            "\u001b[0;31mKeyError\u001b[0m: 'title'",
            "\nThe above exception was the direct cause of the following exception:\n",
            "\u001b[0;31mKeyError\u001b[0m                                  Traceback (most recent call last)",
            "\u001b[0;32m<ipython-input-74-2a86a95849fa>\u001b[0m in \u001b[0;36m<module>\u001b[0;34m\u001b[0m\n\u001b[1;32m      1\u001b[0m \u001b[0;31m#plot of number of movies(years)\u001b[0m\u001b[0;34m\u001b[0m\u001b[0;34m\u001b[0m\u001b[0m\n\u001b[0;32m----> 2\u001b[0;31m \u001b[0mmovies\u001b[0m\u001b[0;34m.\u001b[0m\u001b[0mgroupby\u001b[0m\u001b[0;34m(\u001b[0m\u001b[0;34m\"year\"\u001b[0m\u001b[0;34m)\u001b[0m\u001b[0;34m.\u001b[0m\u001b[0mcount\u001b[0m\u001b[0;34m(\u001b[0m\u001b[0;34m)\u001b[0m\u001b[0;34m.\u001b[0m\u001b[0mplot\u001b[0m\u001b[0;34m(\u001b[0m\u001b[0my\u001b[0m\u001b[0;34m=\u001b[0m\u001b[0;34m\"title\"\u001b[0m\u001b[0;34m)\u001b[0m\u001b[0;34m\u001b[0m\u001b[0;34m\u001b[0m\u001b[0m\n\u001b[0m",
            "\u001b[0;32m/usr/local/lib/python3.9/dist-packages/pandas/plotting/_core.py\u001b[0m in \u001b[0;36m__call__\u001b[0;34m(self, *args, **kwargs)\u001b[0m\n\u001b[1;32m    956\u001b[0m \u001b[0;34m\u001b[0m\u001b[0m\n\u001b[1;32m    957\u001b[0m                 \u001b[0;31m# don't overwrite\u001b[0m\u001b[0;34m\u001b[0m\u001b[0;34m\u001b[0m\u001b[0m\n\u001b[0;32m--> 958\u001b[0;31m                 \u001b[0mdata\u001b[0m \u001b[0;34m=\u001b[0m \u001b[0mdata\u001b[0m\u001b[0;34m[\u001b[0m\u001b[0my\u001b[0m\u001b[0;34m]\u001b[0m\u001b[0;34m.\u001b[0m\u001b[0mcopy\u001b[0m\u001b[0;34m(\u001b[0m\u001b[0;34m)\u001b[0m\u001b[0;34m\u001b[0m\u001b[0;34m\u001b[0m\u001b[0m\n\u001b[0m\u001b[1;32m    959\u001b[0m \u001b[0;34m\u001b[0m\u001b[0m\n\u001b[1;32m    960\u001b[0m                 \u001b[0;32mif\u001b[0m \u001b[0misinstance\u001b[0m\u001b[0;34m(\u001b[0m\u001b[0mdata\u001b[0m\u001b[0;34m,\u001b[0m \u001b[0mABCSeries\u001b[0m\u001b[0;34m)\u001b[0m\u001b[0;34m:\u001b[0m\u001b[0;34m\u001b[0m\u001b[0;34m\u001b[0m\u001b[0m\n",
            "\u001b[0;32m/usr/local/lib/python3.9/dist-packages/pandas/core/frame.py\u001b[0m in \u001b[0;36m__getitem__\u001b[0;34m(self, key)\u001b[0m\n\u001b[1;32m   3503\u001b[0m             \u001b[0;32mif\u001b[0m \u001b[0mself\u001b[0m\u001b[0;34m.\u001b[0m\u001b[0mcolumns\u001b[0m\u001b[0;34m.\u001b[0m\u001b[0mnlevels\u001b[0m \u001b[0;34m>\u001b[0m \u001b[0;36m1\u001b[0m\u001b[0;34m:\u001b[0m\u001b[0;34m\u001b[0m\u001b[0;34m\u001b[0m\u001b[0m\n\u001b[1;32m   3504\u001b[0m                 \u001b[0;32mreturn\u001b[0m \u001b[0mself\u001b[0m\u001b[0;34m.\u001b[0m\u001b[0m_getitem_multilevel\u001b[0m\u001b[0;34m(\u001b[0m\u001b[0mkey\u001b[0m\u001b[0;34m)\u001b[0m\u001b[0;34m\u001b[0m\u001b[0;34m\u001b[0m\u001b[0m\n\u001b[0;32m-> 3505\u001b[0;31m             \u001b[0mindexer\u001b[0m \u001b[0;34m=\u001b[0m \u001b[0mself\u001b[0m\u001b[0;34m.\u001b[0m\u001b[0mcolumns\u001b[0m\u001b[0;34m.\u001b[0m\u001b[0mget_loc\u001b[0m\u001b[0;34m(\u001b[0m\u001b[0mkey\u001b[0m\u001b[0;34m)\u001b[0m\u001b[0;34m\u001b[0m\u001b[0;34m\u001b[0m\u001b[0m\n\u001b[0m\u001b[1;32m   3506\u001b[0m             \u001b[0;32mif\u001b[0m \u001b[0mis_integer\u001b[0m\u001b[0;34m(\u001b[0m\u001b[0mindexer\u001b[0m\u001b[0;34m)\u001b[0m\u001b[0;34m:\u001b[0m\u001b[0;34m\u001b[0m\u001b[0;34m\u001b[0m\u001b[0m\n\u001b[1;32m   3507\u001b[0m                 \u001b[0mindexer\u001b[0m \u001b[0;34m=\u001b[0m \u001b[0;34m[\u001b[0m\u001b[0mindexer\u001b[0m\u001b[0;34m]\u001b[0m\u001b[0;34m\u001b[0m\u001b[0;34m\u001b[0m\u001b[0m\n",
            "\u001b[0;32m/usr/local/lib/python3.9/dist-packages/pandas/core/indexes/base.py\u001b[0m in \u001b[0;36mget_loc\u001b[0;34m(self, key, method, tolerance)\u001b[0m\n\u001b[1;32m   3629\u001b[0m                 \u001b[0;32mreturn\u001b[0m \u001b[0mself\u001b[0m\u001b[0;34m.\u001b[0m\u001b[0m_engine\u001b[0m\u001b[0;34m.\u001b[0m\u001b[0mget_loc\u001b[0m\u001b[0;34m(\u001b[0m\u001b[0mcasted_key\u001b[0m\u001b[0;34m)\u001b[0m\u001b[0;34m\u001b[0m\u001b[0;34m\u001b[0m\u001b[0m\n\u001b[1;32m   3630\u001b[0m             \u001b[0;32mexcept\u001b[0m \u001b[0mKeyError\u001b[0m \u001b[0;32mas\u001b[0m \u001b[0merr\u001b[0m\u001b[0;34m:\u001b[0m\u001b[0;34m\u001b[0m\u001b[0;34m\u001b[0m\u001b[0m\n\u001b[0;32m-> 3631\u001b[0;31m                 \u001b[0;32mraise\u001b[0m \u001b[0mKeyError\u001b[0m\u001b[0;34m(\u001b[0m\u001b[0mkey\u001b[0m\u001b[0;34m)\u001b[0m \u001b[0;32mfrom\u001b[0m \u001b[0merr\u001b[0m\u001b[0;34m\u001b[0m\u001b[0;34m\u001b[0m\u001b[0m\n\u001b[0m\u001b[1;32m   3632\u001b[0m             \u001b[0;32mexcept\u001b[0m \u001b[0mTypeError\u001b[0m\u001b[0;34m:\u001b[0m\u001b[0;34m\u001b[0m\u001b[0;34m\u001b[0m\u001b[0m\n\u001b[1;32m   3633\u001b[0m                 \u001b[0;31m# If we have a listlike key, _check_indexing_error will raise\u001b[0m\u001b[0;34m\u001b[0m\u001b[0;34m\u001b[0m\u001b[0m\n",
            "\u001b[0;31mKeyError\u001b[0m: 'title'"
          ]
        }
      ]
    },
    {
      "cell_type": "markdown",
      "source": [
        "##Exercise: sorting movies by genre"
      ],
      "metadata": {
        "id": "0OBz14pqf_2e"
      }
    },
    {
      "cell_type": "code",
      "source": [
        "import pandas as pd\n",
        "url=\"https://raw.githubusercontent.com/fedhere/UInotebooks/master/dataWrangling/movies.dat\"\n",
        "colnames=['title', 'genres']\n",
        "movies= pd.read_csv(url, sep=\"::\", index_col=0, header=None, names=colnames)"
      ],
      "metadata": {
        "colab": {
          "base_uri": "https://localhost:8080/"
        },
        "id": "pPLD0AORCPPc",
        "outputId": "0510e3c7-327f-44ad-c3ff-b9179cfccce4"
      },
      "execution_count": 75,
      "outputs": [
        {
          "output_type": "stream",
          "name": "stderr",
          "text": [
            "<ipython-input-75-5ea330670160>:4: ParserWarning: Falling back to the 'python' engine because the 'c' engine does not support regex separators (separators > 1 char and different from '\\s+' are interpreted as regex); you can avoid this warning by specifying engine='python'.\n",
            "  movies= pd.read_csv(url, sep=\"::\", index_col=0, header=None, names=colnames)\n"
          ]
        }
      ]
    },
    {
      "cell_type": "code",
      "source": [
        "movies.genres"
      ],
      "metadata": {
        "colab": {
          "base_uri": "https://localhost:8080/"
        },
        "id": "cKoAn_QQGCBn",
        "outputId": "cacab6d8-7c56-4872-f9d5-f7ce11f876bd"
      },
      "execution_count": 76,
      "outputs": [
        {
          "output_type": "execute_result",
          "data": {
            "text/plain": [
              "1        Animation|Children's|Comedy\n",
              "2       Adventure|Children's|Fantasy\n",
              "3                     Comedy|Romance\n",
              "4                       Comedy|Drama\n",
              "5                             Comedy\n",
              "                    ...             \n",
              "3948                          Comedy\n",
              "3949                           Drama\n",
              "3950                           Drama\n",
              "3951                           Drama\n",
              "3952                  Drama|Thriller\n",
              "Name: genres, Length: 3883, dtype: object"
            ]
          },
          "metadata": {},
          "execution_count": 76
        }
      ]
    },
    {
      "cell_type": "code",
      "source": [
        "len(movies.genres)"
      ],
      "metadata": {
        "colab": {
          "base_uri": "https://localhost:8080/"
        },
        "id": "J6D8npxxhWM0",
        "outputId": "9fab5b2c-ec19-46ec-f214-958fbf573fab"
      },
      "execution_count": 77,
      "outputs": [
        {
          "output_type": "execute_result",
          "data": {
            "text/plain": [
              "3883"
            ]
          },
          "metadata": {},
          "execution_count": 77
        }
      ]
    },
    {
      "cell_type": "code",
      "source": [
        "#Finds all 'Fantasy' movies\n",
        "c=0;\n",
        "#mf=[]; to print as table\n",
        "for i in range(len(movies.genres)):\n",
        "  if \"Fantasy\" in movies.genres.iloc[i]:\n",
        "    c+=1\n",
        "    #mf.append(movies[i])\n",
        "print(\"There are\",c,\"Fantasy movies in the list.\")\n",
        "print(\"\")\n",
        "print(\"List of movies with this property:\")\n",
        "print(\"\")\n",
        "for i in range(len(movies.genres)):\n",
        "  if \"Fantasy\" in movies.genres.iloc[i]:\n",
        "    print(movies.title.iloc[i],movies.genres.iloc[i])\n",
        "#mff=pd.DataFrames(mf)\n",
        "print(\"--------------------------\")\n",
        "#Finds movies that are just 'Fantasy' \n",
        "d=0;\n",
        "for i in range(len(movies.genres)):\n",
        "  if movies.genres.iloc[i]==\"Fantasy\":\n",
        "    d+=1\n",
        "print(\"There are\",d,\"exclusevely Fantasy movies in the list.\")\n",
        "print(\"\")\n",
        "print(\"List of movies with this property:\")\n",
        "print(\"\")\n",
        "print(movies[movies.genres==\"Fantasy\"])"
      ],
      "metadata": {
        "colab": {
          "base_uri": "https://localhost:8080/"
        },
        "id": "s8AZi9XxGLUo",
        "outputId": "80fc985d-1808-48ca-88ba-845a298388fb"
      },
      "execution_count": 78,
      "outputs": [
        {
          "output_type": "stream",
          "name": "stdout",
          "text": [
            "There are 68 Fantasy movies in the list.\n",
            "\n",
            "List of movies with this property:\n",
            "\n",
            "Jumanji (1995) Adventure|Children's|Fantasy\n",
            "Kids of the Round Table (1995) Adventure|Children's|Fantasy\n",
            "Indian in the Cupboard, The (1995) Adventure|Children's|Fantasy\n",
            "NeverEnding Story III, The (1994) Adventure|Children's|Fantasy\n",
            "Heavenly Creatures (1994) Drama|Fantasy|Romance|Thriller\n",
            "Kid in King Arthur's Court, A (1995) Adventure|Children's|Comedy|Fantasy|Romance\n",
            "Star Wars: Episode IV - A New Hope (1977) Action|Adventure|Fantasy|Sci-Fi\n",
            "Santa Clause, The (1994) Children's|Comedy|Fantasy\n",
            "Mask, The (1994) Comedy|Crime|Fantasy\n",
            "Pagemaster, The (1994) Action|Adventure|Animation|Children's|Fantasy\n",
            "Dragonheart (1996) Action|Adventure|Fantasy\n",
            "Space Jam (1996) Adventure|Animation|Children's|Comedy|Fantasy\n",
            "Nutty Professor, The (1996) Comedy|Fantasy|Romance|Sci-Fi\n",
            "Hungarian Fairy Tale, A (1987) Fantasy\n",
            "Kazaam (1996) Children's|Comedy|Fantasy\n",
            "Bogus (1996) Children's|Drama|Fantasy\n",
            "Escape to Witch Mountain (1975) Adventure|Children's|Fantasy\n",
            "20,000 Leagues Under the Sea (1954) Adventure|Children's|Fantasy|Sci-Fi\n",
            "Willy Wonka and the Chocolate Factory (1971) Adventure|Children's|Comedy|Fantasy\n",
            "E.T. the Extra-Terrestrial (1982) Children's|Drama|Fantasy|Sci-Fi\n",
            "Drop Dead Fred (1991) Comedy|Fantasy\n",
            "Warriors of Virtue (1997) Action|Adventure|Children's|Fantasy\n",
            "Simple Wish, A (1997) Children's|Fantasy\n",
            "FairyTale: A True Story (1997) Children's|Drama|Fantasy\n",
            "Flubber (1997) Children's|Comedy|Fantasy\n",
            "Star Kid (1997) Adventure|Children's|Fantasy|Sci-Fi\n",
            "Borrowers, The (1997) Adventure|Children's|Comedy|Fantasy\n",
            "Quest for Camelot (1998) Adventure|Animation|Children's|Fantasy\n",
            "Small Soldiers (1998) Animation|Children's|Fantasy|War\n",
            "Labyrinth (1986) Adventure|Children's|Fantasy\n",
            "Goonies, The (1985) Adventure|Children's|Fantasy\n",
            "Absent Minded Professor, The (1961) Children's|Comedy|Fantasy\n",
            "Babes in Toyland (1961) Children's|Fantasy|Musical\n",
            "Dune (1984) Fantasy|Sci-Fi\n",
            "Darby O'Gill and the Little People (1959) Adventure|Children's|Fantasy\n",
            "Honey, I Shrunk the Kids (1989) Adventure|Children's|Comedy|Fantasy|Sci-Fi\n",
            "One Magic Christmas (1985) Drama|Fantasy\n",
            "Peter Pan (1953) Animation|Children's|Fantasy|Musical\n",
            "Return to Oz (1985) Adventure|Children's|Fantasy|Sci-Fi\n",
            "Splash (1984) Comedy|Fantasy|Romance\n",
            "Tron (1982) Action|Adventure|Fantasy|Sci-Fi\n",
            "Watership Down (1978) Animation|Children's|Drama|Fantasy\n",
            "Dark Crystal, The (1982) Children's|Fantasy|Sci-Fi\n",
            "Legend (1985) Adventure|Fantasy|Romance\n",
            "NeverEnding Story, The (1984) Adventure|Children's|Fantasy\n",
            "NeverEnding Story II: The Next Chapter, The (1990) Adventure|Children's|Fantasy\n",
            "Navigator: A Mediaeval Odyssey, The (1988) Adventure|Fantasy|Sci-Fi\n",
            "Beetlejuice (1988) Comedy|Fantasy\n",
            "Willow (1988) Action|Adventure|Fantasy\n",
            "Toys (1992) Action|Comedy|Fantasy\n",
            "Santa Claus: The Movie (1985) Adventure|Children's|Fantasy\n",
            "Boy Who Could Fly, The (1986) Drama|Fantasy\n",
            "Midsummer Night's Dream, A (1999) Comedy|Fantasy\n",
            "Star Wars: Episode I - The Phantom Menace (1999) Action|Adventure|Fantasy|Sci-Fi\n",
            "Big (1988) Comedy|Fantasy\n",
            "Excalibur (1981) Action|Drama|Fantasy|Romance\n",
            "Time Bandits (1981) Adventure|Fantasy|Sci-Fi\n",
            "7th Voyage of Sinbad, The (1958) Action|Adventure|Fantasy\n",
            "Date with an Angel (1987) Comedy|Fantasy\n",
            "Teenage Mutant Ninja Turtles (1990) Action|Children's|Fantasy\n",
            "Teenage Mutant Ninja Turtles II: The Secret of the Ooze (1991) Action|Children's|Fantasy\n",
            "Teenage Mutant Ninja Turtles III (1993) Action|Children's|Fantasy\n",
            "Heart and Souls (1993) Comedy|Fantasy\n",
            "Ladyhawke (1985) Adventure|Fantasy|Romance\n",
            "Hook (1991) Adventure|Fantasy\n",
            "Supergirl (1984) Action|Adventure|Fantasy\n",
            "Highlander: Endgame (2000) Action|Adventure|Fantasy\n",
            "Faraway, So Close (In Weiter Ferne, So Nah!) (1993) Drama|Fantasy\n",
            "--------------------------\n",
            "There are 1 exclusevely Fantasy movies in the list.\n",
            "\n",
            "List of movies with this property:\n",
            "\n",
            "                              title   genres\n",
            "792  Hungarian Fairy Tale, A (1987)  Fantasy\n"
          ]
        }
      ]
    },
    {
      "cell_type": "code",
      "source": [
        "#Finds all 'Adventure' movies\n",
        "b=0;\n",
        "for i in range(len(movies.genres)):\n",
        "  if \"Adventure\" in movies.genres.iloc[i]:\n",
        "    b+=1\n",
        "print(\"There are\",b,\"Adventure movies in the list.\")\n",
        "print(\"\")\n",
        "print(\"List of movies with this property:\")\n",
        "print(\"\")\n",
        "for i in range(len(movies.genres)):\n",
        "  if \"Adventure\" in movies.genres.iloc[i]:\n",
        "    print(movies.title.iloc[i], movies.genres.iloc[i])\n",
        "print(\"--------------------------\")\n",
        "#Finds movies that are just 'Adventure' \n",
        "a=0;\n",
        "for i in range(len(movies.genres)):\n",
        "  if movies.genres.iloc[i]==\"Adventure\":\n",
        "    a+=1\n",
        "print(\"There are\",a,\"exclusevely Fantasy movies in the list.\")\n",
        "print(\"\")\n",
        "print(\"List of movies with this property:\")\n",
        "print(\"\")\n",
        "print(movies[movies.genres==\"Adventure\"])"
      ],
      "metadata": {
        "colab": {
          "base_uri": "https://localhost:8080/"
        },
        "id": "o4xDKA4mht9d",
        "outputId": "fda0a3d1-e9f4-41ee-8766-ded61c396a93"
      },
      "execution_count": 79,
      "outputs": [
        {
          "output_type": "stream",
          "name": "stdout",
          "text": [
            "There are 283 Adventure movies in the list.\n",
            "\n",
            "List of movies with this property:\n",
            "\n",
            "Jumanji (1995) Adventure|Children's|Fantasy\n",
            "Tom and Huck (1995) Adventure|Children's\n",
            "GoldenEye (1995) Action|Adventure|Thriller\n",
            "Cutthroat Island (1995) Action|Adventure|Romance\n",
            "City of Lost Children, The (1995) Adventure|Sci-Fi\n",
            "Wings of Courage (1995) Adventure|Romance\n",
            "Mortal Kombat (1995) Action|Adventure\n",
            "Kids of the Round Table (1995) Adventure|Children's|Fantasy\n",
            "Indian in the Cupboard, The (1995) Adventure|Children's|Fantasy\n",
            "White Squall (1996) Adventure|Drama\n",
            "Muppet Treasure Island (1996) Adventure|Children's|Comedy|Musical\n",
            "Rumble in the Bronx (1995) Action|Adventure|Crime\n",
            "NeverEnding Story III, The (1994) Adventure|Children's|Fantasy\n",
            "Amazing Panda Adventure, The (1995) Adventure|Children's\n",
            "Batman Forever (1995) Action|Adventure|Comedy|Crime\n",
            "Casper (1995) Adventure|Children's\n",
            "Congo (1995) Action|Adventure|Mystery|Sci-Fi\n",
            "First Knight (1995) Action|Adventure|Drama|Romance\n",
            "Free Willy 2: The Adventure Home (1995) Adventure|Children's|Drama\n",
            "Judge Dredd (1995) Action|Adventure|Sci-Fi\n",
            "Waterworld (1995) Action|Adventure\n",
            "Far From Home: The Adventures of Yellow Dog (1995) Adventure|Children's\n",
            "Kid in King Arthur's Court, A (1995) Adventure|Children's|Comedy|Fantasy|Romance\n",
            "Star Wars: Episode IV - A New Hope (1977) Action|Adventure|Fantasy|Sci-Fi\n",
            "Quick and the Dead, The (1995) Action|Adventure|Western\n",
            "Stargate (1994) Action|Adventure|Sci-Fi\n",
            "Star Trek: Generations (1994) Action|Adventure|Sci-Fi\n",
            "War, The (1994) Adventure|Drama\n",
            "Clear and Present Danger (1994) Action|Adventure|Thriller\n",
            "Jungle Book, The (1994) Adventure|Children's|Romance\n",
            "True Lies (1994) Action|Adventure|Comedy|Romance\n",
            "Secret Adventures of Tom Thumb, The (1993) Adventure|Children's\n",
            "Black Beauty (1994) Adventure|Children's\n",
            "Cliffhanger (1993) Action|Adventure|Crime\n",
            "Free Willy (1993) Adventure|Children's|Drama\n",
            "Good Man in Africa, A (1994) Action|Adventure\n",
            "Hard Target (1993) Action|Adventure|Crime|Thriller\n",
            "Jurassic Park (1993) Action|Adventure|Sci-Fi\n",
            "Lassie (1994) Adventure|Children's\n",
            "Super Mario Bros. (1993) Action|Adventure|Children's|Sci-Fi\n",
            "Surviving the Game (1994) Action|Adventure|Thriller\n",
            "Three Musketeers, The (1993) Action|Adventure|Comedy\n",
            "Pagemaster, The (1994) Action|Adventure|Animation|Children's|Fantasy\n",
            "Andre (1994) Adventure|Children's\n",
            "Dances with Wolves (1990) Adventure|Drama|Western\n",
            "Batman (1989) Action|Adventure|Crime|Drama\n",
            "Homeward Bound II: Lost in San Francisco (1996) Adventure|Children's\n",
            "Heavy Metal (1981) Action|Adventure|Animation|Horror|Sci-Fi\n",
            "Mission: Impossible (1996) Action|Adventure|Mystery\n",
            "Dragonheart (1996) Action|Adventure|Fantasy\n",
            "Space Jam (1996) Adventure|Animation|Children's|Comedy|Fantasy\n",
            "Barbarella (1968) Adventure|Sci-Fi\n",
            "Operation Dumbo Drop (1995) Action|Adventure|Comedy|War\n",
            "Quest, The (1996) Action|Adventure\n",
            "Flipper (1996) Adventure|Children's\n",
            "Rock, The (1996) Action|Adventure|Thriller\n",
            "Twister (1996) Action|Adventure|Romance|Thriller\n",
            "Gold Diggers: The Secret of Bear Mountain (1995) Adventure|Children's\n",
            "Phantom, The (1996) Adventure\n",
            "Daylight (1996) Action|Adventure|Thriller\n",
            "Alaska (1996) Adventure|Children's\n",
            "Fled (1996) Action|Adventure\n",
            "Adventures of Pinocchio, The (1996) Adventure|Children's\n",
            "Chain Reaction (1996) Action|Adventure|Thriller\n",
            "Escape from L.A. (1996) Action|Adventure|Sci-Fi|Thriller\n",
            "For Whom the Bell Tolls (1943) Adventure|War\n",
            "Wizard of Oz, The (1939) Adventure|Children's|Drama|Musical\n",
            "Golden Earrings (1947) Adventure|Romance\n",
            "Adventures of Robin Hood, The (1938) Action|Adventure\n",
            "Mark of Zorro, The (1940) Adventure\n",
            "Around the World in 80 Days (1956) Adventure|Comedy\n",
            "African Queen, The (1951) Action|Adventure|Romance|War\n",
            "Fly Away Home (1996) Adventure|Children's\n",
            "Maximum Risk (1996) Action|Adventure|Thriller\n",
            "Escape to Witch Mountain (1975) Adventure|Children's|Fantasy\n",
            "Herbie Rides Again (1974) Adventure|Children's|Comedy\n",
            "Homeward Bound: The Incredible Journey (1993) Adventure|Children's\n",
            "Swiss Family Robinson (1960) Adventure|Children's\n",
            "20,000 Leagues Under the Sea (1954) Adventure|Children's|Fantasy|Sci-Fi\n",
            "Pete's Dragon (1977) Adventure|Animation|Children's|Musical\n",
            "Bedknobs and Broomsticks (1971) Adventure|Children's|Musical\n",
            "Ghost and the Darkness, The (1996) Action|Adventure\n",
            "Macao (1952) Adventure\n",
            "Willy Wonka and the Chocolate Factory (1971) Adventure|Children's|Comedy|Fantasy\n",
            "Old Man and the Sea, The (1958) Adventure|Drama\n",
            "Tashunga (1995) Adventure|Western\n",
            "Abyss, The (1989) Action|Adventure|Sci-Fi|Thriller\n",
            "Escape from New York (1981) Action|Adventure|Sci-Fi|Thriller\n",
            "Star Wars: Episode V - The Empire Strikes Back (1980) Action|Adventure|Drama|Sci-Fi|War\n",
            "Princess Bride, The (1987) Action|Adventure|Comedy|Romance\n",
            "Raiders of the Lost Ark (1981) Action|Adventure\n",
            "Lawrence of Arabia (1962) Adventure|War\n",
            "Star Wars: Episode VI - Return of the Jedi (1983) Action|Adventure|Romance|Sci-Fi|War\n",
            "Army of Darkness (1993) Action|Adventure|Comedy|Horror|Sci-Fi\n",
            "Big Blue, The (Le Grand Bleu) (1988) Adventure|Romance\n",
            "Treasure of the Sierra Madre, The (1948) Adventure\n",
            "Stand by Me (1986) Adventure|Comedy|Drama\n",
            "Evil Dead II (Dead By Dawn) (1987) Action|Adventure|Comedy|Horror\n",
            "Great Escape, The (1963) Adventure|War\n",
            "Akira (1988) Adventure|Animation|Sci-Fi|Thriller\n",
            "Highlander (1986) Action|Adventure\n",
            "Ben-Hur (1959) Action|Adventure|Drama\n",
            "Indiana Jones and the Last Crusade (1989) Action|Adventure\n",
            "Man Who Would Be King, The (1975) Adventure\n",
            "Star Trek: First Contact (1996) Action|Adventure|Sci-Fi\n",
            "Jingle All the Way (1996) Adventure|Children's|Comedy\n",
            "Star Trek: The Motion Picture (1979) Action|Adventure|Sci-Fi\n",
            "Star Trek VI: The Undiscovered Country (1991) Action|Adventure|Sci-Fi\n",
            "Star Trek V: The Final Frontier (1989) Action|Adventure|Sci-Fi\n",
            "Star Trek: The Wrath of Khan (1982) Action|Adventure|Sci-Fi\n",
            "Star Trek III: The Search for Spock (1984) Action|Adventure|Sci-Fi\n",
            "Star Trek IV: The Voyage Home (1986) Action|Adventure|Sci-Fi\n",
            "Batman Returns (1992) Action|Adventure|Comedy|Crime\n",
            "Turbo: A Power Rangers Movie (1997) Action|Adventure|Children's\n",
            "Anaconda (1997) Action|Adventure|Thriller\n",
            "Warriors of Virtue (1997) Action|Adventure|Children's|Fantasy\n",
            "Second Jungle Book: Mowgli & Baloo, The (1997) Adventure|Children's\n",
            "Lost World: Jurassic Park, The (1997) Action|Adventure|Sci-Fi|Thriller\n",
            "Buddy (1997) Adventure|Children's|Drama\n",
            "Con Air (1997) Action|Adventure|Thriller\n",
            "Batman & Robin (1997) Action|Adventure|Crime\n",
            "Hercules (1997) Adventure|Animation|Children's|Comedy|Musical\n",
            "Men in Black (1997) Action|Adventure|Comedy|Sci-Fi\n",
            "Wild America (1997) Adventure|Children's\n",
            "Conan the Barbarian (1982) Action|Adventure\n",
            "Spawn (1997) Action|Adventure|Sci-Fi|Thriller\n",
            "Free Willy 3: The Rescue (1997) Adventure|Children's|Drama\n",
            "Excess Baggage (1997) Adventure|Romance\n",
            "Kull the Conqueror (1997) Action|Adventure\n",
            "Edge, The (1997) Adventure|Thriller\n",
            "Starship Troopers (1997) Action|Adventure|Sci-Fi|War\n",
            "Mortal Kombat: Annihilation (1997) Action|Adventure\n",
            "Time Tracers (1995) Action|Adventure|Sci-Fi\n",
            "Firestorm (1998) Action|Adventure|Thriller\n",
            "Star Kid (1997) Adventure|Children's|Fantasy|Sci-Fi\n",
            "Sphere (1998) Adventure|Sci-Fi|Thriller\n",
            "Paulie (1998) Adventure|Children's|Comedy\n",
            "Barney's Great Adventure (1998) Adventure|Children's\n",
            "Borrowers, The (1997) Adventure|Children's|Comedy|Fantasy\n",
            "Prince Valiant (1997) Adventure\n",
            "Tarzan and the Lost City (1998) Action|Adventure\n",
            "Quest for Camelot (1998) Adventure|Animation|Children's|Fantasy\n",
            "Almost Heroes (1998) Adventure|Comedy\n",
            "Six Days Seven Nights (1998) Adventure|Comedy|Romance\n",
            "Passion in the Desert (1998) Adventure|Drama\n",
            "Armageddon (1998) Action|Adventure|Sci-Fi|Thriller\n",
            "Mutiny on the Bounty (1935) Adventure\n",
            "Labyrinth (1986) Adventure|Children's|Fantasy\n",
            "Goonies, The (1985) Adventure|Children's|Fantasy\n",
            "Mask of Zorro, The (1998) Action|Adventure|Romance\n",
            "Poseidon Adventure, The (1972) Action|Adventure\n",
            "Candleshoe (1977) Adventure|Children's|Comedy\n",
            "Cheetah (1989) Adventure|Children's\n",
            "Condorman (1981) Action|Adventure|Children's|Comedy\n",
            "Darby O'Gill and the Little People (1959) Adventure|Children's|Fantasy\n",
            "Far Off Place, A (1993) Adventure|Children's|Drama|Romance\n",
            "Flight of the Navigator (1986) Adventure|Children's|Sci-Fi\n",
            "Herbie Goes Bananas (1980) Adventure|Children's|Comedy\n",
            "Herbie Goes to Monte Carlo (1977) Adventure|Children's|Comedy\n",
            "Honey, I Shrunk the Kids (1989) Adventure|Children's|Comedy|Fantasy|Sci-Fi\n",
            "In Search of the Castaways (1962) Adventure|Children's\n",
            "Incredible Journey, The (1963) Adventure|Children's\n",
            "Journey of Natty Gann, The (1985) Adventure|Children's\n",
            "Popeye (1980) Adventure|Comedy|Musical\n",
            "Return to Oz (1985) Adventure|Children's|Fantasy|Sci-Fi\n",
            "Rocketeer, The (1991) Action|Adventure|Sci-Fi\n",
            "Song of the South (1946) Adventure|Animation|Children's|Musical\n",
            "Squanto: A Warrior's Tale (1994) Adventure|Drama\n",
            "Tall Tale (1994) Adventure|Children's\n",
            "Tron (1982) Action|Adventure|Fantasy|Sci-Fi\n",
            "Indiana Jones and the Temple of Doom (1984) Action|Adventure\n",
            "Lord of the Rings, The (1978) Adventure|Animation|Children's|Sci-Fi\n",
            "Adventures in Babysitting (1987) Adventure|Comedy\n",
            "Doctor Dolittle (1967) Adventure|Musical\n",
            "Legend (1985) Adventure|Fantasy|Romance\n",
            "Avengers, The (1998) Action|Adventure\n",
            "NeverEnding Story, The (1984) Adventure|Children's|Fantasy\n",
            "NeverEnding Story II: The Next Chapter, The (1990) Adventure|Children's|Fantasy\n",
            "Blade (1998) Action|Adventure|Horror\n",
            "Navigator: A Mediaeval Odyssey, The (1988) Adventure|Fantasy|Sci-Fi\n",
            "Willow (1988) Action|Adventure|Fantasy\n",
            "Nothing But Trouble (1991) Adventure|Comedy\n",
            "Six-String Samurai (1998) Action|Adventure|Sci-Fi\n",
            "Soldier (1998) Action|Adventure|Sci-Fi|Thriller|War\n",
            "Runaway Train (1985) Action|Adventure|Drama|Thriller\n",
            "King Kong (1933) Action|Adventure|Horror\n",
            "King Kong (1976) Action|Adventure|Horror\n",
            "King Kong Lives (1986) Action|Adventure|Horror\n",
            "Emerald Forest, The (1985) Action|Adventure|Drama\n",
            "Red Sonja (1985) Action|Adventure\n",
            "Santa Claus: The Movie (1985) Adventure|Children's|Fantasy\n",
            "Jewel of the Nile, The (1985) Action|Adventure|Comedy|Romance\n",
            "Romancing the Stone (1984) Action|Adventure|Comedy|Romance\n",
            "Young Sherlock Holmes (1985) Action|Adventure|Mystery\n",
            "Karate Kid, Part II, The (1986) Action|Adventure|Drama\n",
            "Karate Kid III, The (1989) Action|Adventure|Drama\n",
            "Mighty Joe Young (1998) Adventure|Children's|Drama\n",
            "Mighty Joe Young (1949) Adventure|Children's|Drama\n",
            "Garbage Pail Kids Movie, The (1987) Adventure|Children's\n",
            "Howard the Duck (1986) Adventure|Children's|Sci-Fi\n",
            "Crocodile Dundee (1986) Adventure|Comedy\n",
            "Crocodile Dundee II (1988) Adventure|Comedy\n",
            "Firewalker (1986) Adventure\n",
            "Logan's Run (1976) Action|Adventure|Sci-Fi\n",
            "Beyond the Poseidon Adventure (1979) Adventure\n",
            "Mighty Peking Man (Hsing hsing wang) (1977) Adventure|Sci-Fi\n",
            "My Science Project (1985) Adventure|Sci-Fi\n",
            "Mummy, The (1999) Action|Adventure|Horror|Thriller\n",
            "Star Wars: Episode I - The Phantom Menace (1999) Action|Adventure|Fantasy|Sci-Fi\n",
            "Superman (1978) Action|Adventure|Sci-Fi\n",
            "Superman II (1980) Action|Adventure|Sci-Fi\n",
            "Superman III (1983) Action|Adventure|Sci-Fi\n",
            "Superman IV: The Quest for Peace (1987) Action|Adventure|Sci-Fi\n",
            "Inspector Gadget (1999) Action|Adventure|Children's|Comedy\n",
            "Mystery Men (1999) Action|Adventure|Comedy\n",
            "Vibes (1988) Adventure|Comedy\n",
            "Golden Child, The (1986) Action|Adventure|Comedy\n",
            "Allan Quartermain and the Lost City of Gold (1987) Action|Adventure\n",
            "Male and Female (1919) Adventure|Drama\n",
            "Medicine Man (1992) Adventure|Romance\n",
            "Saturn 3 (1979) Adventure|Sci-Fi|Thriller\n",
            "Deliverance (1972) Adventure|Thriller\n",
            "Operation Condor (Feiying gaiwak) (1990) Action|Adventure|Comedy\n",
            "Operation Condor 2 (Longxiong hudi) (1990) Action|Adventure|Comedy\n",
            "Napoleon and Samantha (1972) Adventure\n",
            "Gulliver's Travels (1939) Adventure|Animation|Children's\n",
            "Sanjuro (1962) Action|Adventure\n",
            "Total Recall (1990) Action|Adventure|Sci-Fi|Thriller\n",
            "Blue Lagoon, The (1980) Adventure|Drama|Romance\n",
            "Time Bandits (1981) Adventure|Fantasy|Sci-Fi\n",
            "Fitzcarraldo (1982) Adventure|Drama\n",
            "Who Framed Roger Rabbit? (1988) Adventure|Animation|Film-Noir\n",
            "Princess Mononoke, The (Mononoke Hime) (1997) Action|Adventure|Animation\n",
            "Quest for Fire (1981) Adventure\n",
            "Adventures of Buckaroo Bonzai Across the 8th Dimension, The (1984) Adventure|Comedy|Sci-Fi\n",
            "Midnight Run (1988) Action|Adventure|Comedy|Crime\n",
            "Tarzan the Fearless (1933) Action|Adventure\n",
            "7th Voyage of Sinbad, The (1958) Action|Adventure|Fantasy\n",
            "Brenda Starr (1989) Adventure\n",
            "Easy Rider (1969) Adventure|Drama\n",
            "Ulysses (Ulisse) (1954) Adventure\n",
            "Galaxy Quest (1999) Adventure|Comedy|Sci-Fi\n",
            "Supernova (2000) Adventure|Sci-Fi\n",
            "Snows of Kilimanjaro, The (1952) Adventure\n",
            "Forever Young (1992) Adventure|Romance|Sci-Fi\n",
            "Knockout (1999) Action|Adventure\n",
            "Beach, The (2000) Adventure|Drama\n",
            "Legend of Lobo, The (1962) Adventure|Children's\n",
            "Charlie, the Lonesome Cougar (1967) Adventure|Children's\n",
            "Where Eagles Dare (1969) Action|Adventure|War\n",
            "Let's Get Harry (1986) Action|Adventure\n",
            "Shanghai Surprise (1986) Adventure\n",
            "Baby... Secret of the Lost Legend (1985) Adventure|Sci-Fi\n",
            "Captain Horatio Hornblower (1951) Action|Adventure|War\n",
            "Bear, The (1988) Adventure\n",
            "Crimson Pirate, The (1952) Adventure|Comedy|Sci-Fi\n",
            "Lord of the Flies (1963) Adventure|Drama|Thriller\n",
            "Dersu Uzala (1974) Adventure|Drama\n",
            "Ladyhawke (1985) Adventure|Fantasy|Romance\n",
            "Hook (1991) Adventure|Fantasy\n",
            "Son of the Sheik, The (1926) Adventure\n",
            "True Grit (1969) Adventure|Western\n",
            "Great Locomotive Chase, The (1956) Adventure|War\n",
            "Slipper and the Rose, The (1976) Adventure|Musical|Romance\n",
            "Benji (1974) Adventure|Children's\n",
            "Benji the Hunted (1987) Adventure|Children's\n",
            "For the Love of Benji (1977) Adventure|Children's\n",
            "Running Man, The (1987) Action|Adventure|Sci-Fi\n",
            "Starman (1984) Adventure|Drama|Romance|Sci-Fi\n",
            "Bird on a Wire (1990) Action|Adventure|Romance|Thriller\n",
            "Titan A.E. (2000) Adventure|Animation|Sci-Fi\n",
            "Perfect Storm, The (2000) Action|Adventure|Thriller\n",
            "Dreamscape (1984) Adventure|Crime|Sci-Fi|Thriller\n",
            "Golden Voyage of Sinbad, The (1974) Action|Adventure\n",
            "Knightriders (1981) Action|Adventure|Drama\n",
            "Sinbad and the Eye of the Tiger (1977) Action|Adventure\n",
            "Bronco Billy (1980) Adventure|Drama|Romance\n",
            "Godzilla 2000 (Gojira ni-sen mireniamu) (1999) Action|Adventure|Sci-Fi\n",
            "Supergirl (1984) Action|Adventure|Fantasy\n",
            "Highlander: Endgame (2000) Action|Adventure|Fantasy\n",
            "Voyage to the Bottom of the Sea (1961) Adventure|Sci-Fi\n",
            "Fantastic Voyage (1966) Adventure|Sci-Fi\n",
            "Digimon: The Movie (2000) Adventure|Animation|Children's\n",
            "--------------------------\n",
            "There are 17 exclusevely Fantasy movies in the list.\n",
            "\n",
            "List of movies with this property:\n",
            "\n",
            "                                         title     genres\n",
            "761                        Phantom, The (1996)  Adventure\n",
            "941                  Mark of Zorro, The (1940)  Adventure\n",
            "1070                              Macao (1952)  Adventure\n",
            "1254  Treasure of the Sierra Madre, The (1948)  Adventure\n",
            "1303         Man Who Would Be King, The (1975)  Adventure\n",
            "1849                     Prince Valiant (1997)  Adventure\n",
            "1931               Mutiny on the Bounty (1935)  Adventure\n",
            "2477                         Firewalker (1986)  Adventure\n",
            "2537      Beyond the Poseidon Adventure (1979)  Adventure\n",
            "2895              Napoleon and Samantha (1972)  Adventure\n",
            "3036                     Quest for Fire (1981)  Adventure\n",
            "3166                       Brenda Starr (1989)  Adventure\n",
            "3172                   Ulysses (Ulisse) (1954)  Adventure\n",
            "3207          Snows of Kilimanjaro, The (1952)  Adventure\n",
            "3390                  Shanghai Surprise (1986)  Adventure\n",
            "3412                          Bear, The (1988)  Adventure\n",
            "3492              Son of the Sheik, The (1926)  Adventure\n"
          ]
        }
      ]
    },
    {
      "cell_type": "code",
      "source": [
        "# SOLUTION OF EXERCIZE\n",
        "#movies['Genre']=movies.Genre.map(lambda x: x.split('|'))\n",
        "#movies[movies['Genre']]==\"Fantasy\"\n",
        "#movies[movies['Genre']==\"Fantasy\"]\n",
        "#for m in movies['Genre']:\n",
        "#   print(\"Fantasy\" in m)\n",
        "#   glist.append(\"Fantasy\" in m)\n",
        "#glist\n",
        "\n",
        "#LIST COMPREHENSION (ALTERNATIVE SOLUTION)\n",
        "#movies[[\"Fantasy\" in m for m in movies('Genre')]]"
      ],
      "metadata": {
        "id": "JO0Mjt1Th1Cz"
      },
      "execution_count": 80,
      "outputs": []
    },
    {
      "cell_type": "code",
      "source": [
        "#To find specific types of movies\n",
        "#movies.groupby(\"Genre\").count().sort_values(by=\"title\")\n",
        "#movies[movies[\"Genre\"]==\"Musical|War\"]"
      ],
      "metadata": {
        "id": "G-p7M8Wth7i5"
      },
      "execution_count": 81,
      "outputs": []
    },
    {
      "cell_type": "code",
      "source": [
        "#To describe groups of movies\n",
        "#groupedmovies=movies.groupby(\"Genre\").count()\n",
        "#groupedmovies.describe()\n",
        "\n",
        "#To sort column by a particular criteria\n",
        "#groupedmovies.sort_values(by=\"title\")"
      ],
      "metadata": {
        "id": "0HGoa7EOSOny"
      },
      "execution_count": 82,
      "outputs": []
    },
    {
      "cell_type": "markdown",
      "source": [
        "##Numpy"
      ],
      "metadata": {
        "id": "FX0hebbhSp6O"
      }
    },
    {
      "cell_type": "code",
      "source": [
        "import numpy as np"
      ],
      "metadata": {
        "id": "31p3VJSsR2kE"
      },
      "execution_count": 83,
      "outputs": []
    },
    {
      "cell_type": "code",
      "source": [
        "a=3\n",
        "type(a)"
      ],
      "metadata": {
        "colab": {
          "base_uri": "https://localhost:8080/"
        },
        "id": "gXJighxtUDhP",
        "outputId": "24bfec79-ab34-4704-d60c-fa743e54ae70"
      },
      "execution_count": 84,
      "outputs": [
        {
          "output_type": "execute_result",
          "data": {
            "text/plain": [
              "int"
            ]
          },
          "metadata": {},
          "execution_count": 84
        }
      ]
    },
    {
      "cell_type": "code",
      "source": [
        "a=np.int16(3)"
      ],
      "metadata": {
        "id": "tS4sG01WUMmi"
      },
      "execution_count": 85,
      "outputs": []
    },
    {
      "cell_type": "code",
      "source": [
        "a.dtype"
      ],
      "metadata": {
        "colab": {
          "base_uri": "https://localhost:8080/"
        },
        "id": "W-cgBMqIUTc_",
        "outputId": "8f6616f8-c187-4e82-d9ca-92781a3f23e7"
      },
      "execution_count": 86,
      "outputs": [
        {
          "output_type": "execute_result",
          "data": {
            "text/plain": [
              "dtype('int16')"
            ]
          },
          "metadata": {},
          "execution_count": 86
        }
      ]
    },
    {
      "cell_type": "code",
      "source": [
        "a=np.int8(3)"
      ],
      "metadata": {
        "id": "EJzB1uvfUYib"
      },
      "execution_count": 87,
      "outputs": []
    },
    {
      "cell_type": "code",
      "source": [
        "print(np.uint8(256))"
      ],
      "metadata": {
        "colab": {
          "base_uri": "https://localhost:8080/"
        },
        "id": "QBRZGnG4UoQk",
        "outputId": "5fa7bfb6-b946-4289-de85-ac8756fbba57"
      },
      "execution_count": 88,
      "outputs": [
        {
          "output_type": "stream",
          "name": "stdout",
          "text": [
            "0\n"
          ]
        }
      ]
    },
    {
      "cell_type": "code",
      "source": [
        "#glist[3:5]\n",
        "#np.array(glist)"
      ],
      "metadata": {
        "id": "gkL5dVy4U1Ra"
      },
      "execution_count": 89,
      "outputs": []
    },
    {
      "cell_type": "code",
      "source": [
        "listVar"
      ],
      "metadata": {
        "colab": {
          "base_uri": "https://localhost:8080/"
        },
        "id": "2m25v-nfWSCB",
        "outputId": "8aaeec71-19d4-4ede-ea45-84da905b94a9"
      },
      "execution_count": 90,
      "outputs": [
        {
          "output_type": "execute_result",
          "data": {
            "text/plain": [
              "[3, 9, 'hello world', 0, True, 11]"
            ]
          },
          "metadata": {},
          "execution_count": 90
        }
      ]
    },
    {
      "cell_type": "code",
      "source": [
        "np.array(listVar)"
      ],
      "metadata": {
        "colab": {
          "base_uri": "https://localhost:8080/"
        },
        "id": "AZgtIX_kWT6M",
        "outputId": "d3393fb2-1df6-4c2a-a1f9-33519ecff684"
      },
      "execution_count": 91,
      "outputs": [
        {
          "output_type": "execute_result",
          "data": {
            "text/plain": [
              "array(['3', '9', 'hello world', '0', 'True', '11'], dtype='<U21')"
            ]
          },
          "metadata": {},
          "execution_count": 91
        }
      ]
    },
    {
      "cell_type": "code",
      "source": [
        "np.zeros((10,2),float)"
      ],
      "metadata": {
        "colab": {
          "base_uri": "https://localhost:8080/"
        },
        "id": "snEme9OIWWr-",
        "outputId": "efd6977b-fec7-4082-9fe8-70aab57c7652"
      },
      "execution_count": 92,
      "outputs": [
        {
          "output_type": "execute_result",
          "data": {
            "text/plain": [
              "array([[0., 0.],\n",
              "       [0., 0.],\n",
              "       [0., 0.],\n",
              "       [0., 0.],\n",
              "       [0., 0.],\n",
              "       [0., 0.],\n",
              "       [0., 0.],\n",
              "       [0., 0.],\n",
              "       [0., 0.],\n",
              "       [0., 0.]])"
            ]
          },
          "metadata": {},
          "execution_count": 92
        }
      ]
    },
    {
      "cell_type": "code",
      "source": [
        "randArr=np.random.randn(10,2,3)\n",
        "#from numpy import random\n",
        "#(then I don't need to specify random)"
      ],
      "metadata": {
        "id": "Jkx6LMLWWeB0"
      },
      "execution_count": 93,
      "outputs": []
    },
    {
      "cell_type": "code",
      "source": [
        "#shows just the first line of random array\n",
        "randArr[0]"
      ],
      "metadata": {
        "colab": {
          "base_uri": "https://localhost:8080/"
        },
        "id": "0AffZqlTW5Oo",
        "outputId": "0119429c-eb94-461a-e218-f5d5827f0ba6"
      },
      "execution_count": 94,
      "outputs": [
        {
          "output_type": "execute_result",
          "data": {
            "text/plain": [
              "array([[-0.32964289, -1.75062321,  1.62698541],\n",
              "       [-1.02512228, -0.08199335,  0.21902045]])"
            ]
          },
          "metadata": {},
          "execution_count": 94
        }
      ]
    },
    {
      "cell_type": "code",
      "source": [
        "#finds size from first to sixth column\n",
        "randArr[1:6].shape"
      ],
      "metadata": {
        "colab": {
          "base_uri": "https://localhost:8080/"
        },
        "id": "jaM86myNXXw4",
        "outputId": "523935b6-21b3-4877-ad97-3a1dc0bcd321"
      },
      "execution_count": 95,
      "outputs": [
        {
          "output_type": "execute_result",
          "data": {
            "text/plain": [
              "(5, 2, 3)"
            ]
          },
          "metadata": {},
          "execution_count": 95
        }
      ]
    },
    {
      "cell_type": "code",
      "source": [
        "#shows all lines, first column and each element has two elements inside\n",
        "randArr[:,0, :2]"
      ],
      "metadata": {
        "colab": {
          "base_uri": "https://localhost:8080/"
        },
        "id": "KZzNmnn4XxlX",
        "outputId": "957188f9-feb4-4679-e5a5-bf4df921f9c7"
      },
      "execution_count": 96,
      "outputs": [
        {
          "output_type": "execute_result",
          "data": {
            "text/plain": [
              "array([[-0.32964289, -1.75062321],\n",
              "       [-0.40644233,  0.41318879],\n",
              "       [-0.59495591,  0.96500672],\n",
              "       [-0.03238061,  1.09827093],\n",
              "       [ 0.41487937, -0.31782844],\n",
              "       [ 0.10190027, -0.10529118],\n",
              "       [ 0.83844139,  0.00340237],\n",
              "       [ 0.50468848, -1.01869325],\n",
              "       [ 0.0778032 ,  0.32690126],\n",
              "       [ 1.22316576, -1.17658669]])"
            ]
          },
          "metadata": {},
          "execution_count": 96
        }
      ]
    },
    {
      "cell_type": "code",
      "source": [
        "#estrapolates datas with a criteria\n",
        "randArr[randArr>0]"
      ],
      "metadata": {
        "colab": {
          "base_uri": "https://localhost:8080/"
        },
        "id": "31mtKbLVYFJv",
        "outputId": "34e1338a-52de-441d-93f8-92dd724f6d85"
      },
      "execution_count": 97,
      "outputs": [
        {
          "output_type": "execute_result",
          "data": {
            "text/plain": [
              "array([1.62698541, 0.21902045, 0.41318879, 0.45347879, 0.96500672,\n",
              "       0.4363752 , 1.08504739, 1.09827093, 0.02740091, 0.31295202,\n",
              "       0.41487937, 0.57191377, 0.09605464, 0.44878063, 0.10190027,\n",
              "       0.56887934, 1.58719372, 0.83844139, 0.00340237, 0.14810917,\n",
              "       0.50468848, 0.0778032 , 0.32690126, 0.65169125, 0.644365  ,\n",
              "       1.22316576, 1.12806809, 0.82160608])"
            ]
          },
          "metadata": {},
          "execution_count": 97
        }
      ]
    },
    {
      "cell_type": "code",
      "source": [
        "#range pandas (not transformend in list-->list(range()))==arange numpy (already an array)\n",
        "rageArr1=np.arange(0,100,1)"
      ],
      "metadata": {
        "id": "nNfbUx3ZYbJe"
      },
      "execution_count": 98,
      "outputs": []
    },
    {
      "cell_type": "code",
      "source": [
        "rageArr1=rageArr1.reshape(10,10)"
      ],
      "metadata": {
        "id": "-hNLru09ZBir"
      },
      "execution_count": 99,
      "outputs": []
    },
    {
      "cell_type": "code",
      "source": [
        "#list as defined in pandas\n",
        "list10=list(range(10))"
      ],
      "metadata": {
        "id": "iWruTaj-ZLDN"
      },
      "execution_count": 100,
      "outputs": []
    },
    {
      "cell_type": "code",
      "source": [
        "#*=multiply numbers of the array\n",
        "rageArr1*2"
      ],
      "metadata": {
        "colab": {
          "base_uri": "https://localhost:8080/"
        },
        "id": "HAPAcv0VZUb_",
        "outputId": "b9f6c0ec-43d2-42db-e7a7-c94e5def3e9e"
      },
      "execution_count": 101,
      "outputs": [
        {
          "output_type": "execute_result",
          "data": {
            "text/plain": [
              "array([[  0,   2,   4,   6,   8,  10,  12,  14,  16,  18],\n",
              "       [ 20,  22,  24,  26,  28,  30,  32,  34,  36,  38],\n",
              "       [ 40,  42,  44,  46,  48,  50,  52,  54,  56,  58],\n",
              "       [ 60,  62,  64,  66,  68,  70,  72,  74,  76,  78],\n",
              "       [ 80,  82,  84,  86,  88,  90,  92,  94,  96,  98],\n",
              "       [100, 102, 104, 106, 108, 110, 112, 114, 116, 118],\n",
              "       [120, 122, 124, 126, 128, 130, 132, 134, 136, 138],\n",
              "       [140, 142, 144, 146, 148, 150, 152, 154, 156, 158],\n",
              "       [160, 162, 164, 166, 168, 170, 172, 174, 176, 178],\n",
              "       [180, 182, 184, 186, 188, 190, 192, 194, 196, 198]])"
            ]
          },
          "metadata": {},
          "execution_count": 101
        }
      ]
    },
    {
      "cell_type": "code",
      "source": [
        "#list * = concatenates\n",
        "list10*2"
      ],
      "metadata": {
        "colab": {
          "base_uri": "https://localhost:8080/"
        },
        "id": "uKvrf5xwZd6-",
        "outputId": "159c0b0b-9d3e-4a1c-b669-e3a17575afff"
      },
      "execution_count": 102,
      "outputs": [
        {
          "output_type": "execute_result",
          "data": {
            "text/plain": [
              "[0, 1, 2, 3, 4, 5, 6, 7, 8, 9, 0, 1, 2, 3, 4, 5, 6, 7, 8, 9]"
            ]
          },
          "metadata": {},
          "execution_count": 102
        }
      ]
    },
    {
      "cell_type": "code",
      "source": [
        "#to multiply factors have to be of the same size\n",
        "rageArr1*randArr[:,0,0]"
      ],
      "metadata": {
        "colab": {
          "base_uri": "https://localhost:8080/"
        },
        "id": "axFWRM_IZsRt",
        "outputId": "db0f181a-92c6-42fb-db81-014628979240"
      },
      "execution_count": 103,
      "outputs": [
        {
          "output_type": "execute_result",
          "data": {
            "text/plain": [
              "array([[-0.00000000e+00, -4.06442335e-01, -1.18991182e+00,\n",
              "        -9.71418411e-02,  1.65951749e+00,  5.09501346e-01,\n",
              "         5.03064835e+00,  3.53281939e+00,  6.22425562e-01,\n",
              "         1.10084919e+01],\n",
              "       [-3.29642886e+00, -4.47086568e+00, -7.13947091e+00,\n",
              "        -4.20947978e-01,  5.80831121e+00,  1.52850404e+00,\n",
              "         1.34150623e+01,  8.57970423e+00,  1.40045752e+00,\n",
              "         2.32401495e+01],\n",
              "       [-6.59285771e+00, -8.53528902e+00, -1.30890300e+01,\n",
              "        -7.44754115e-01,  9.95710494e+00,  2.54750673e+00,\n",
              "         2.17994762e+01,  1.36265891e+01,  2.17848947e+00,\n",
              "         3.54718071e+01],\n",
              "       [-9.88928657e+00, -1.25997124e+01, -1.90385891e+01,\n",
              "        -1.06856025e+00,  1.41058987e+01,  3.56650942e+00,\n",
              "         3.01838901e+01,  1.86734739e+01,  2.95652142e+00,\n",
              "         4.77034647e+01],\n",
              "       [-1.31857154e+01, -1.66641357e+01, -2.49881482e+01,\n",
              "        -1.39236639e+00,  1.82546924e+01,  4.58551211e+00,\n",
              "         3.85683040e+01,  2.37203588e+01,  3.73455337e+00,\n",
              "         5.99351224e+01],\n",
              "       [-1.64821443e+01, -2.07285591e+01, -3.09377073e+01,\n",
              "        -1.71617253e+00,  2.24034861e+01,  5.60451480e+00,\n",
              "         4.69527179e+01,  2.87672436e+01,  4.51258533e+00,\n",
              "         7.21667800e+01],\n",
              "       [-1.97785731e+01, -2.47929824e+01, -3.68872664e+01,\n",
              "        -2.03997866e+00,  2.65522798e+01,  6.62351750e+00,\n",
              "         5.53371318e+01,  3.38141284e+01,  5.29061728e+00,\n",
              "         8.43984376e+01],\n",
              "       [-2.30750020e+01, -2.88574058e+01, -4.28368255e+01,\n",
              "        -2.36378480e+00,  3.07010736e+01,  7.64252019e+00,\n",
              "         6.37215458e+01,  3.88610133e+01,  6.06864923e+00,\n",
              "         9.66300952e+01],\n",
              "       [-2.63714308e+01, -3.29218291e+01, -4.87863846e+01,\n",
              "        -2.68759094e+00,  3.48498673e+01,  8.66152288e+00,\n",
              "         7.21059597e+01,  4.39078981e+01,  6.84668119e+00,\n",
              "         1.08861753e+02],\n",
              "       [-2.96678597e+01, -3.69862524e+01, -5.47359437e+01,\n",
              "        -3.01139707e+00,  3.89986610e+01,  9.68052557e+00,\n",
              "         8.04903736e+01,  4.89547830e+01,  7.62471314e+00,\n",
              "         1.21093410e+02]])"
            ]
          },
          "metadata": {},
          "execution_count": 103
        }
      ]
    },
    {
      "cell_type": "markdown",
      "source": [
        "##Exercize: palindromes"
      ],
      "metadata": {
        "id": "kp_6syVwaiwN"
      }
    },
    {
      "cell_type": "code",
      "source": [
        "def pal(word):\n",
        "  \"\"\"\n",
        "  word: a string\n",
        "  \"\"\"\n",
        "  word=word.lower()\n",
        "  lw=len(word)\n",
        "  rword=word[::-1]\n",
        "  if word[:int(lw/2)]==rword[:int(lw/2)]:\n",
        "    print(\"Yes\")\n",
        "  else:\n",
        "    print(\"No\")\n"
      ],
      "metadata": {
        "id": "aDE_rySSZ6tn"
      },
      "execution_count": 104,
      "outputs": []
    },
    {
      "cell_type": "code",
      "source": [
        "pal(\"ottimo\")"
      ],
      "metadata": {
        "colab": {
          "base_uri": "https://localhost:8080/"
        },
        "id": "YjqcSLZscBpJ",
        "outputId": "a095a7af-4458-49e6-f542-c073190a4378"
      },
      "execution_count": 105,
      "outputs": [
        {
          "output_type": "stream",
          "name": "stdout",
          "text": [
            "No\n"
          ]
        }
      ]
    },
    {
      "cell_type": "code",
      "source": [
        "pal(\"anna\")"
      ],
      "metadata": {
        "colab": {
          "base_uri": "https://localhost:8080/"
        },
        "id": "21XqDbdOefeI",
        "outputId": "6437469d-1b40-4d1d-8d54-cb42dfee228e"
      },
      "execution_count": 106,
      "outputs": [
        {
          "output_type": "stream",
          "name": "stdout",
          "text": [
            "Yes\n"
          ]
        }
      ]
    },
    {
      "cell_type": "markdown",
      "source": [
        "##Exercize: even and odd array elements\n",
        "\n",
        "\n",
        "\n"
      ],
      "metadata": {
        "id": "zAK2iCOyffMN"
      }
    },
    {
      "cell_type": "code",
      "source": [
        "#extract all even numbers from array (numbers)\n",
        "numbers=list(range(11))\n",
        "even_numbers = []\n",
        "\n",
        "for i in numbers:\n",
        "    if i % 2 == 0:\n",
        "       even_numbers.append(i)\n",
        "print(even_numbers)\n",
        "    \n",
        "#reverse even_numbers\n",
        "reven_numbers=even_numbers[::-1]\n",
        "print(reven_numbers)\n",
        "\n",
        "#make all odd by adding a 1 to each element of array numbers\n",
        "rodd_numbers=[];\n",
        "for i in reven_numbers:\n",
        "       rodd_numbers.append(i+1)\n",
        "print(rodd_numbers)"
      ],
      "metadata": {
        "colab": {
          "base_uri": "https://localhost:8080/"
        },
        "id": "Omc4Txlsbdfb",
        "outputId": "f44b3df3-e26d-4737-eeb1-fd832d7c9c22"
      },
      "execution_count": 107,
      "outputs": [
        {
          "output_type": "stream",
          "name": "stdout",
          "text": [
            "[0, 2, 4, 6, 8, 10]\n",
            "[10, 8, 6, 4, 2, 0]\n",
            "[11, 9, 7, 5, 3, 1]\n"
          ]
        }
      ]
    },
    {
      "cell_type": "code",
      "source": [
        "#Alternative solution:\n",
        "import numpy as np\n",
        "np.arange(1,11)[(np.arange(1,11)%2==0)][::-1]+1"
      ],
      "metadata": {
        "colab": {
          "base_uri": "https://localhost:8080/"
        },
        "id": "rHlUcG5h20XE",
        "outputId": "0b03a2f9-76e8-4327-e424-b2b0ccf8e3d8"
      },
      "execution_count": 108,
      "outputs": [
        {
          "output_type": "execute_result",
          "data": {
            "text/plain": [
              "array([11,  9,  7,  5,  3])"
            ]
          },
          "metadata": {},
          "execution_count": 108
        }
      ]
    },
    {
      "cell_type": "markdown",
      "source": [
        "#Matplotlib"
      ],
      "metadata": {
        "id": "ia6YJhc7gV3u"
      }
    },
    {
      "cell_type": "code",
      "source": [
        "import matplotlib as mpl"
      ],
      "metadata": {
        "id": "rFzlLxUWgYjq"
      },
      "execution_count": 109,
      "outputs": []
    },
    {
      "cell_type": "code",
      "source": [
        "import pylab as pl\n",
        "%pylab inline \n",
        "#locally necessary"
      ],
      "metadata": {
        "colab": {
          "base_uri": "https://localhost:8080/"
        },
        "id": "iUkvia9PgbKD",
        "outputId": "9ad3f1b6-ad55-44fe-87a8-984a17067ecc"
      },
      "execution_count": 110,
      "outputs": [
        {
          "output_type": "stream",
          "name": "stdout",
          "text": [
            "Populating the interactive namespace from numpy and matplotlib\n"
          ]
        }
      ]
    },
    {
      "cell_type": "code",
      "source": [
        "pl.rcParams"
      ],
      "metadata": {
        "colab": {
          "base_uri": "https://localhost:8080/"
        },
        "id": "vA5S3gO1ghWN",
        "outputId": "8dd8df67-b5e4-480e-85d1-b7cad40946a9"
      },
      "execution_count": 111,
      "outputs": [
        {
          "output_type": "execute_result",
          "data": {
            "text/plain": [
              "RcParams({'_internal.classic_mode': False,\n",
              "          'agg.path.chunksize': 0,\n",
              "          'animation.bitrate': -1,\n",
              "          'animation.codec': 'h264',\n",
              "          'animation.convert_args': [],\n",
              "          'animation.convert_path': 'convert',\n",
              "          'animation.embed_limit': 20.0,\n",
              "          'animation.ffmpeg_args': [],\n",
              "          'animation.ffmpeg_path': 'ffmpeg',\n",
              "          'animation.frame_format': 'png',\n",
              "          'animation.html': 'none',\n",
              "          'animation.writer': 'ffmpeg',\n",
              "          'axes.autolimit_mode': 'data',\n",
              "          'axes.axisbelow': 'line',\n",
              "          'axes.edgecolor': 'black',\n",
              "          'axes.facecolor': 'white',\n",
              "          'axes.formatter.limits': [-5, 6],\n",
              "          'axes.formatter.min_exponent': 0,\n",
              "          'axes.formatter.offset_threshold': 4,\n",
              "          'axes.formatter.use_locale': False,\n",
              "          'axes.formatter.use_mathtext': False,\n",
              "          'axes.formatter.useoffset': True,\n",
              "          'axes.grid': False,\n",
              "          'axes.grid.axis': 'both',\n",
              "          'axes.grid.which': 'major',\n",
              "          'axes.labelcolor': 'black',\n",
              "          'axes.labelpad': 4.0,\n",
              "          'axes.labelsize': 'medium',\n",
              "          'axes.labelweight': 'normal',\n",
              "          'axes.linewidth': 0.8,\n",
              "          'axes.prop_cycle': cycler('color', ['#1f77b4', '#ff7f0e', '#2ca02c', '#d62728', '#9467bd', '#8c564b', '#e377c2', '#7f7f7f', '#bcbd22', '#17becf']),\n",
              "          'axes.spines.bottom': True,\n",
              "          'axes.spines.left': True,\n",
              "          'axes.spines.right': True,\n",
              "          'axes.spines.top': True,\n",
              "          'axes.titlecolor': 'auto',\n",
              "          'axes.titlelocation': 'center',\n",
              "          'axes.titlepad': 6.0,\n",
              "          'axes.titlesize': 'large',\n",
              "          'axes.titleweight': 'normal',\n",
              "          'axes.titley': None,\n",
              "          'axes.unicode_minus': True,\n",
              "          'axes.xmargin': 0.05,\n",
              "          'axes.ymargin': 0.05,\n",
              "          'axes.zmargin': 0.05,\n",
              "          'axes3d.grid': True,\n",
              "          'backend': 'module://ipykernel.pylab.backend_inline',\n",
              "          'backend_fallback': True,\n",
              "          'boxplot.bootstrap': None,\n",
              "          'boxplot.boxprops.color': 'black',\n",
              "          'boxplot.boxprops.linestyle': '-',\n",
              "          'boxplot.boxprops.linewidth': 1.0,\n",
              "          'boxplot.capprops.color': 'black',\n",
              "          'boxplot.capprops.linestyle': '-',\n",
              "          'boxplot.capprops.linewidth': 1.0,\n",
              "          'boxplot.flierprops.color': 'black',\n",
              "          'boxplot.flierprops.linestyle': 'none',\n",
              "          'boxplot.flierprops.linewidth': 1.0,\n",
              "          'boxplot.flierprops.marker': 'o',\n",
              "          'boxplot.flierprops.markeredgecolor': 'black',\n",
              "          'boxplot.flierprops.markeredgewidth': 1.0,\n",
              "          'boxplot.flierprops.markerfacecolor': 'none',\n",
              "          'boxplot.flierprops.markersize': 6.0,\n",
              "          'boxplot.meanline': False,\n",
              "          'boxplot.meanprops.color': 'C2',\n",
              "          'boxplot.meanprops.linestyle': '--',\n",
              "          'boxplot.meanprops.linewidth': 1.0,\n",
              "          'boxplot.meanprops.marker': '^',\n",
              "          'boxplot.meanprops.markeredgecolor': 'C2',\n",
              "          'boxplot.meanprops.markerfacecolor': 'C2',\n",
              "          'boxplot.meanprops.markersize': 6.0,\n",
              "          'boxplot.medianprops.color': 'C1',\n",
              "          'boxplot.medianprops.linestyle': '-',\n",
              "          'boxplot.medianprops.linewidth': 1.0,\n",
              "          'boxplot.notch': False,\n",
              "          'boxplot.patchartist': False,\n",
              "          'boxplot.showbox': True,\n",
              "          'boxplot.showcaps': True,\n",
              "          'boxplot.showfliers': True,\n",
              "          'boxplot.showmeans': False,\n",
              "          'boxplot.vertical': True,\n",
              "          'boxplot.whiskerprops.color': 'black',\n",
              "          'boxplot.whiskerprops.linestyle': '-',\n",
              "          'boxplot.whiskerprops.linewidth': 1.0,\n",
              "          'boxplot.whiskers': 1.5,\n",
              "          'contour.corner_mask': True,\n",
              "          'contour.linewidth': None,\n",
              "          'contour.negative_linestyle': 'dashed',\n",
              "          'date.autoformatter.day': '%Y-%m-%d',\n",
              "          'date.autoformatter.hour': '%m-%d %H',\n",
              "          'date.autoformatter.microsecond': '%M:%S.%f',\n",
              "          'date.autoformatter.minute': '%d %H:%M',\n",
              "          'date.autoformatter.month': '%Y-%m',\n",
              "          'date.autoformatter.second': '%H:%M:%S',\n",
              "          'date.autoformatter.year': '%Y',\n",
              "          'date.converter': 'auto',\n",
              "          'date.epoch': '1970-01-01T00:00:00',\n",
              "          'date.interval_multiples': True,\n",
              "          'docstring.hardcopy': False,\n",
              "          'errorbar.capsize': 0.0,\n",
              "          'figure.autolayout': False,\n",
              "          'figure.constrained_layout.h_pad': 0.04167,\n",
              "          'figure.constrained_layout.hspace': 0.02,\n",
              "          'figure.constrained_layout.use': False,\n",
              "          'figure.constrained_layout.w_pad': 0.04167,\n",
              "          'figure.constrained_layout.wspace': 0.02,\n",
              "          'figure.dpi': 72.0,\n",
              "          'figure.edgecolor': (1, 1, 1, 0),\n",
              "          'figure.facecolor': (1, 1, 1, 0),\n",
              "          'figure.figsize': [6.0, 4.0],\n",
              "          'figure.frameon': True,\n",
              "          'figure.max_open_warning': 20,\n",
              "          'figure.raise_window': True,\n",
              "          'figure.subplot.bottom': 0.125,\n",
              "          'figure.subplot.hspace': 0.2,\n",
              "          'figure.subplot.left': 0.125,\n",
              "          'figure.subplot.right': 0.9,\n",
              "          'figure.subplot.top': 0.88,\n",
              "          'figure.subplot.wspace': 0.2,\n",
              "          'figure.titlesize': 'large',\n",
              "          'figure.titleweight': 'normal',\n",
              "          'font.cursive': ['Apple Chancery',\n",
              "                           'Textile',\n",
              "                           'Zapf Chancery',\n",
              "                           'Sand',\n",
              "                           'Script MT',\n",
              "                           'Felipa',\n",
              "                           'Comic Neue',\n",
              "                           'Comic Sans MS',\n",
              "                           'cursive'],\n",
              "          'font.family': ['sans-serif'],\n",
              "          'font.fantasy': ['Chicago',\n",
              "                           'Charcoal',\n",
              "                           'Impact',\n",
              "                           'Western',\n",
              "                           'Humor Sans',\n",
              "                           'xkcd',\n",
              "                           'fantasy'],\n",
              "          'font.monospace': ['DejaVu Sans Mono',\n",
              "                             'Bitstream Vera Sans Mono',\n",
              "                             'Computer Modern Typewriter',\n",
              "                             'Andale Mono',\n",
              "                             'Nimbus Mono L',\n",
              "                             'Courier New',\n",
              "                             'Courier',\n",
              "                             'Fixed',\n",
              "                             'Terminal',\n",
              "                             'monospace'],\n",
              "          'font.sans-serif': ['DejaVu Sans',\n",
              "                              'Bitstream Vera Sans',\n",
              "                              'Computer Modern Sans Serif',\n",
              "                              'Lucida Grande',\n",
              "                              'Verdana',\n",
              "                              'Geneva',\n",
              "                              'Lucid',\n",
              "                              'Arial',\n",
              "                              'Helvetica',\n",
              "                              'Avant Garde',\n",
              "                              'sans-serif'],\n",
              "          'font.serif': ['DejaVu Serif',\n",
              "                         'Bitstream Vera Serif',\n",
              "                         'Computer Modern Roman',\n",
              "                         'New Century Schoolbook',\n",
              "                         'Century Schoolbook L',\n",
              "                         'Utopia',\n",
              "                         'ITC Bookman',\n",
              "                         'Bookman',\n",
              "                         'Nimbus Roman No9 L',\n",
              "                         'Times New Roman',\n",
              "                         'Times',\n",
              "                         'Palatino',\n",
              "                         'Charter',\n",
              "                         'serif'],\n",
              "          'font.size': 10.0,\n",
              "          'font.stretch': 'normal',\n",
              "          'font.style': 'normal',\n",
              "          'font.variant': 'normal',\n",
              "          'font.weight': 'normal',\n",
              "          'grid.alpha': 1.0,\n",
              "          'grid.color': '#b0b0b0',\n",
              "          'grid.linestyle': '-',\n",
              "          'grid.linewidth': 0.8,\n",
              "          'hatch.color': 'black',\n",
              "          'hatch.linewidth': 1.0,\n",
              "          'hist.bins': 10,\n",
              "          'image.aspect': 'equal',\n",
              "          'image.cmap': 'viridis',\n",
              "          'image.composite_image': True,\n",
              "          'image.interpolation': 'antialiased',\n",
              "          'image.lut': 256,\n",
              "          'image.origin': 'upper',\n",
              "          'image.resample': True,\n",
              "          'interactive': True,\n",
              "          'keymap.back': ['left', 'c', 'backspace', 'MouseButton.BACK'],\n",
              "          'keymap.copy': ['ctrl+c', 'cmd+c'],\n",
              "          'keymap.forward': ['right', 'v', 'MouseButton.FORWARD'],\n",
              "          'keymap.fullscreen': ['f', 'ctrl+f'],\n",
              "          'keymap.grid': ['g'],\n",
              "          'keymap.grid_minor': ['G'],\n",
              "          'keymap.help': ['f1'],\n",
              "          'keymap.home': ['h', 'r', 'home'],\n",
              "          'keymap.pan': ['p'],\n",
              "          'keymap.quit': ['ctrl+w', 'cmd+w', 'q'],\n",
              "          'keymap.quit_all': [],\n",
              "          'keymap.save': ['s', 'ctrl+s'],\n",
              "          'keymap.xscale': ['k', 'L'],\n",
              "          'keymap.yscale': ['l'],\n",
              "          'keymap.zoom': ['o'],\n",
              "          'legend.borderaxespad': 0.5,\n",
              "          'legend.borderpad': 0.4,\n",
              "          'legend.columnspacing': 2.0,\n",
              "          'legend.edgecolor': '0.8',\n",
              "          'legend.facecolor': 'inherit',\n",
              "          'legend.fancybox': True,\n",
              "          'legend.fontsize': 'medium',\n",
              "          'legend.framealpha': 0.8,\n",
              "          'legend.frameon': True,\n",
              "          'legend.handleheight': 0.7,\n",
              "          'legend.handlelength': 2.0,\n",
              "          'legend.handletextpad': 0.8,\n",
              "          'legend.labelcolor': 'None',\n",
              "          'legend.labelspacing': 0.5,\n",
              "          'legend.loc': 'best',\n",
              "          'legend.markerscale': 1.0,\n",
              "          'legend.numpoints': 1,\n",
              "          'legend.scatterpoints': 1,\n",
              "          'legend.shadow': False,\n",
              "          'legend.title_fontsize': None,\n",
              "          'lines.antialiased': True,\n",
              "          'lines.color': 'C0',\n",
              "          'lines.dash_capstyle': <CapStyle.butt: 'butt'>,\n",
              "          'lines.dash_joinstyle': <JoinStyle.round: 'round'>,\n",
              "          'lines.dashdot_pattern': [6.4, 1.6, 1.0, 1.6],\n",
              "          'lines.dashed_pattern': [3.7, 1.6],\n",
              "          'lines.dotted_pattern': [1.0, 1.65],\n",
              "          'lines.linestyle': '-',\n",
              "          'lines.linewidth': 1.5,\n",
              "          'lines.marker': 'None',\n",
              "          'lines.markeredgecolor': 'auto',\n",
              "          'lines.markeredgewidth': 1.0,\n",
              "          'lines.markerfacecolor': 'auto',\n",
              "          'lines.markersize': 6.0,\n",
              "          'lines.scale_dashes': True,\n",
              "          'lines.solid_capstyle': <CapStyle.projecting: 'projecting'>,\n",
              "          'lines.solid_joinstyle': <JoinStyle.round: 'round'>,\n",
              "          'markers.fillstyle': 'full',\n",
              "          'mathtext.bf': 'sans:bold',\n",
              "          'mathtext.cal': 'cursive',\n",
              "          'mathtext.default': 'it',\n",
              "          'mathtext.fallback': 'cm',\n",
              "          'mathtext.fontset': 'dejavusans',\n",
              "          'mathtext.it': 'sans:italic',\n",
              "          'mathtext.rm': 'sans',\n",
              "          'mathtext.sf': 'sans',\n",
              "          'mathtext.tt': 'monospace',\n",
              "          'patch.antialiased': True,\n",
              "          'patch.edgecolor': 'black',\n",
              "          'patch.facecolor': 'C0',\n",
              "          'patch.force_edgecolor': False,\n",
              "          'patch.linewidth': 1.0,\n",
              "          'path.effects': [],\n",
              "          'path.simplify': True,\n",
              "          'path.simplify_threshold': 0.111111111111,\n",
              "          'path.sketch': None,\n",
              "          'path.snap': True,\n",
              "          'pcolor.shading': 'auto',\n",
              "          'pcolormesh.snap': True,\n",
              "          'pdf.compression': 6,\n",
              "          'pdf.fonttype': 3,\n",
              "          'pdf.inheritcolor': False,\n",
              "          'pdf.use14corefonts': False,\n",
              "          'pgf.preamble': '',\n",
              "          'pgf.rcfonts': True,\n",
              "          'pgf.texsystem': 'xelatex',\n",
              "          'polaraxes.grid': True,\n",
              "          'ps.distiller.res': 6000,\n",
              "          'ps.fonttype': 3,\n",
              "          'ps.papersize': 'letter',\n",
              "          'ps.useafm': False,\n",
              "          'ps.usedistiller': None,\n",
              "          'savefig.bbox': None,\n",
              "          'savefig.directory': '~',\n",
              "          'savefig.dpi': 'figure',\n",
              "          'savefig.edgecolor': 'auto',\n",
              "          'savefig.facecolor': 'auto',\n",
              "          'savefig.format': 'png',\n",
              "          'savefig.orientation': 'portrait',\n",
              "          'savefig.pad_inches': 0.1,\n",
              "          'savefig.transparent': False,\n",
              "          'scatter.edgecolors': 'face',\n",
              "          'scatter.marker': 'o',\n",
              "          'svg.fonttype': 'path',\n",
              "          'svg.hashsalt': None,\n",
              "          'svg.image_inline': True,\n",
              "          'text.antialiased': True,\n",
              "          'text.color': 'black',\n",
              "          'text.hinting': 'force_autohint',\n",
              "          'text.hinting_factor': 8,\n",
              "          'text.kerning_factor': 0,\n",
              "          'text.latex.preamble': '',\n",
              "          'text.usetex': False,\n",
              "          'timezone': 'UTC',\n",
              "          'tk.window_focus': False,\n",
              "          'toolbar': 'toolbar2',\n",
              "          'webagg.address': '127.0.0.1',\n",
              "          'webagg.open_in_browser': True,\n",
              "          'webagg.port': 8988,\n",
              "          'webagg.port_retries': 50,\n",
              "          'xaxis.labellocation': 'center',\n",
              "          'xtick.alignment': 'center',\n",
              "          'xtick.bottom': True,\n",
              "          'xtick.color': 'black',\n",
              "          'xtick.direction': 'out',\n",
              "          'xtick.labelbottom': True,\n",
              "          'xtick.labelcolor': 'inherit',\n",
              "          'xtick.labelsize': 'medium',\n",
              "          'xtick.labeltop': False,\n",
              "          'xtick.major.bottom': True,\n",
              "          'xtick.major.pad': 3.5,\n",
              "          'xtick.major.size': 3.5,\n",
              "          'xtick.major.top': True,\n",
              "          'xtick.major.width': 0.8,\n",
              "          'xtick.minor.bottom': True,\n",
              "          'xtick.minor.pad': 3.4,\n",
              "          'xtick.minor.size': 2.0,\n",
              "          'xtick.minor.top': True,\n",
              "          'xtick.minor.visible': False,\n",
              "          'xtick.minor.width': 0.6,\n",
              "          'xtick.top': False,\n",
              "          'yaxis.labellocation': 'center',\n",
              "          'ytick.alignment': 'center_baseline',\n",
              "          'ytick.color': 'black',\n",
              "          'ytick.direction': 'out',\n",
              "          'ytick.labelcolor': 'inherit',\n",
              "          'ytick.labelleft': True,\n",
              "          'ytick.labelright': False,\n",
              "          'ytick.labelsize': 'medium',\n",
              "          'ytick.left': True,\n",
              "          'ytick.major.left': True,\n",
              "          'ytick.major.pad': 3.5,\n",
              "          'ytick.major.right': True,\n",
              "          'ytick.major.size': 3.5,\n",
              "          'ytick.major.width': 0.8,\n",
              "          'ytick.minor.left': True,\n",
              "          'ytick.minor.pad': 3.4,\n",
              "          'ytick.minor.right': True,\n",
              "          'ytick.minor.size': 2.0,\n",
              "          'ytick.minor.visible': False,\n",
              "          'ytick.minor.width': 0.6,\n",
              "          'ytick.right': False})"
            ]
          },
          "metadata": {},
          "execution_count": 111
        }
      ]
    },
    {
      "cell_type": "code",
      "source": [
        "#s={'fontsize':20, 'figure.figsize': (10,10)}\n",
        "#pylab.rcParams.update(s)"
      ],
      "metadata": {
        "id": "iFdIt3KmhATK"
      },
      "execution_count": 112,
      "outputs": []
    },
    {
      "cell_type": "code",
      "source": [
        "myx=np.arange(10)"
      ],
      "metadata": {
        "id": "VqQDq-AQhnQa"
      },
      "execution_count": 113,
      "outputs": []
    },
    {
      "cell_type": "code",
      "source": [
        "myy=np.arange(0,100,10)"
      ],
      "metadata": {
        "id": "2XfRh2gOhqHe"
      },
      "execution_count": 114,
      "outputs": []
    },
    {
      "cell_type": "code",
      "source": [
        "myy2=np.linspace(0,25,10)"
      ],
      "metadata": {
        "id": "TtBTx73biuN-"
      },
      "execution_count": 115,
      "outputs": []
    },
    {
      "cell_type": "code",
      "source": [
        "fig=pl.figure(figsize=(3,3))\n",
        "ax=fig.add_subplot(1,1,1)\n",
        "#in subplot: lines, columns, \n",
        "pl.rcParams['font.size']=12"
      ],
      "metadata": {
        "colab": {
          "base_uri": "https://localhost:8080/",
          "height": 215
        },
        "id": "F_vcFnL8htjw",
        "outputId": "12d64f60-ea59-4e6e-8c79-2368e43d4be1"
      },
      "execution_count": 116,
      "outputs": [
        {
          "output_type": "display_data",
          "data": {
            "text/plain": [
              "<Figure size 216x216 with 1 Axes>"
            ],
            "image/png": "[encoded data removed]"
          },
          "metadata": {
            "needs_background": "light"
          }
        }
      ]
    },
    {
      "cell_type": "code",
      "source": [
        "fig=pl.figure()\n",
        "ax1=fig.add_subplot(121)\n",
        "ax2=fig.add_subplot(122)\n",
        "ax1.plot(myx,myy, 'k--', label=\"same y value\")\n",
        "ax2.plot(myx,myy2, 'ro', ms=5,label=\"something else\")\n",
        "ax1.legend(fontsize=10)\n",
        "ax2.legend(fontsize=10)\n",
        "ylim=ax1.get_ylim()\n",
        "ax2.set_ylim(ylim)"
      ],
      "metadata": {
        "colab": {
          "base_uri": "https://localhost:8080/",
          "height": 285
        },
        "id": "-J9FlOtZhux9",
        "outputId": "fb0ce7d6-b28c-431f-b08f-2cb99cf68899"
      },
      "execution_count": 117,
      "outputs": [
        {
          "output_type": "execute_result",
          "data": {
            "text/plain": [
              "(-4.5, 94.5)"
            ]
          },
          "metadata": {},
          "execution_count": 117
        },
        {
          "output_type": "display_data",
          "data": {
            "text/plain": [
              "<Figure size 432x288 with 2 Axes>"
            ],
            "image/png": "[encoded data removed]"
          },
          "metadata": {
            "needs_background": "light"
          }
        }
      ]
    },
    {
      "cell_type": "code",
      "source": [
        "np.random.randn(10,10)"
      ],
      "metadata": {
        "colab": {
          "base_uri": "https://localhost:8080/"
        },
        "id": "EOcFbdMFi_PQ",
        "outputId": "2a075a64-f667-4850-9987-5d3f384f4a2a"
      },
      "execution_count": 118,
      "outputs": [
        {
          "output_type": "execute_result",
          "data": {
            "text/plain": [
              "array([[-1.50940165e-01, -7.08340914e-01, -1.16391253e+00,\n",
              "        -1.74362072e+00, -5.74283306e-01, -7.45860294e-01,\n",
              "        -1.72246412e+00, -1.57527394e+00,  2.57776465e-01,\n",
              "         2.91606926e-01],\n",
              "       [ 1.29928913e+00, -1.37564015e+00,  1.00398222e+00,\n",
              "         4.78537899e-01,  2.66906626e-01,  1.12684242e+00,\n",
              "        -8.14161383e-01,  6.54469752e-01,  9.34831824e-01,\n",
              "        -1.22711777e+00],\n",
              "       [ 1.01764968e+00, -1.66125582e+00, -7.60949914e-01,\n",
              "         8.19300743e-01, -3.63640009e-01,  2.41758351e+00,\n",
              "        -2.92398503e-01, -2.69844691e-01, -1.12610938e+00,\n",
              "        -6.08608020e-01],\n",
              "       [-1.23731106e-01, -1.73428473e+00,  1.24484069e+00,\n",
              "         1.18961741e+00, -9.04752731e-01, -7.50082210e-01,\n",
              "         2.86273055e-01,  1.50126353e+00, -1.07991864e+00,\n",
              "        -8.89012708e-02],\n",
              "       [-1.06297515e+00,  4.54321717e-01, -3.40417265e-01,\n",
              "        -1.70751231e-01, -1.26351484e+00,  7.75621449e-01,\n",
              "        -2.20775288e-01,  1.07838411e+00,  4.66312984e-01,\n",
              "         7.68234910e-01],\n",
              "       [-2.95291965e-01,  9.62158289e-01,  1.25806148e+00,\n",
              "        -1.03304068e+00, -6.86138280e-02,  1.09074296e+00,\n",
              "         1.05044650e+00,  4.99369330e-01,  8.23053700e-01,\n",
              "        -3.48187757e-01],\n",
              "       [-5.95172686e-04,  1.10605131e+00, -8.07246772e-01,\n",
              "         7.76562509e-02,  2.54307326e-01, -4.65260861e-01,\n",
              "         1.13547662e-01, -2.32425123e+00, -1.09300114e+00,\n",
              "        -6.27909751e-01],\n",
              "       [-1.04841361e+00, -1.29401895e+00, -9.61424524e-01,\n",
              "         1.99524068e+00, -2.05820133e-01,  8.69592825e-01,\n",
              "        -7.97136507e-01, -1.04898117e+00, -8.22158346e-01,\n",
              "        -3.23507100e-01],\n",
              "       [ 5.39775744e-01, -1.23434675e+00,  6.26650413e-01,\n",
              "         1.34074829e-01,  8.08579063e-01, -8.09660065e-01,\n",
              "        -3.82185556e-01, -8.68591620e-01, -1.83462789e+00,\n",
              "        -1.12674713e+00],\n",
              "       [-6.23556850e-01,  4.65268914e-01,  1.74932849e-02,\n",
              "        -3.57377292e-01, -4.22679379e-01, -7.87372055e-01,\n",
              "         6.44610734e-01,  2.34527083e-01, -8.23806679e-01,\n",
              "        -4.87374528e-01]])"
            ]
          },
          "metadata": {},
          "execution_count": 118
        }
      ]
    },
    {
      "cell_type": "code",
      "source": [
        "pl.imshow(np.random.randn(10,10), interpolation='bilinear');\n",
        "pl.colorbar()"
      ],
      "metadata": {
        "colab": {
          "base_uri": "https://localhost:8080/",
          "height": 285
        },
        "id": "pjPTYbIUkf1n",
        "outputId": "b261afb6-7829-4e55-9eb2-1a1a4d498d08"
      },
      "execution_count": 119,
      "outputs": [
        {
          "output_type": "execute_result",
          "data": {
            "text/plain": [
              "<matplotlib.colorbar.Colorbar at 0x7f8891624130>"
            ]
          },
          "metadata": {},
          "execution_count": 119
        },
        {
          "output_type": "display_data",
          "data": {
            "text/plain": [
              "<Figure size 432x288 with 2 Axes>"
            ],
            "image/png": "[encoded data removed]"
          },
          "metadata": {
            "needs_background": "light"
          }
        }
      ]
    },
    {
      "cell_type": "code",
      "source": [
        "import numpy as np"
      ],
      "metadata": {
        "id": "JI5LJlJDkry0"
      },
      "execution_count": 120,
      "outputs": []
    },
    {
      "cell_type": "markdown",
      "source": [
        "#Theory 14/03"
      ],
      "metadata": {
        "id": "Jjbm8XSh2Ina"
      }
    },
    {
      "cell_type": "code",
      "source": [
        "from numpy import random"
      ],
      "metadata": {
        "id": "6Ix-f6ar1fKf"
      },
      "execution_count": 121,
      "outputs": []
    },
    {
      "cell_type": "code",
      "source": [
        "np.random.seed(125)"
      ],
      "metadata": {
        "id": "grVIs3X01ihF"
      },
      "execution_count": 122,
      "outputs": []
    },
    {
      "cell_type": "code",
      "source": [
        "np.random.randint(0,12,100)"
      ],
      "metadata": {
        "colab": {
          "base_uri": "https://localhost:8080/"
        },
        "id": "eWjJnzjy1s86",
        "outputId": "38674267-f896-4641-d071-cf6e096cadce"
      },
      "execution_count": 123,
      "outputs": [
        {
          "output_type": "execute_result",
          "data": {
            "text/plain": [
              "array([ 2,  7,  3,  6, 11, 11,  0,  5,  6,  2, 11,  5, 10,  0,  4, 11,  2,\n",
              "        9,  0,  7,  2,  7,  9,  5,  3,  5,  7,  9,  9,  1,  4,  4, 11,  1,\n",
              "        6,  3,  1,  7,  4, 11,  9,  6,  7,  6,  1, 10,  7,  4,  4, 11, 11,\n",
              "        2,  7,  5,  6,  8, 11,  0,  3,  3, 10,  3,  9,  2,  4,  0,  0,  0,\n",
              "        1,  9,  0,  3,  0, 10,  5,  9,  3, 10,  1,  3, 10,  0, 11,  4, 10,\n",
              "        0,  9,  3, 11,  0,  3,  6,  7,  8,  6,  8,  0,  9,  0,  5])"
            ]
          },
          "metadata": {},
          "execution_count": 123
        }
      ]
    },
    {
      "cell_type": "markdown",
      "source": [
        "##Distributions"
      ],
      "metadata": {
        "id": "RLccieoTD5yI"
      }
    },
    {
      "cell_type": "code",
      "source": [
        "import pandas as pd\n",
        "import numpy as np\n",
        "import pylab as pl\n",
        "url=('https://bit.ly/videosfile')\n",
        "videos=pd.read_csv(url)\n",
        "videos"
      ],
      "metadata": {
        "colab": {
          "base_uri": "https://localhost:8080/",
          "height": 1000
        },
        "id": "TVprNxH_152T",
        "outputId": "a683e2d4-ce0b-4352-dbc8-ed0157019ce9"
      },
      "execution_count": 124,
      "outputs": [
        {
          "output_type": "execute_result",
          "data": {
            "text/plain": [
              "      trending_date                                              title  \\\n",
              "0          17.14.11                 WE WANT TO TALK ABOUT OUR MARRIAGE   \n",
              "1          17.14.11  The Trump Presidency: Last Week Tonight with J...   \n",
              "2          17.14.11  Racist Superman | Rudy Mancuso, King Bach & Le...   \n",
              "3          17.14.11                   Nickelback Lyrics: Real or Fake?   \n",
              "4          17.14.11                           I Dare You: GOING BALD!?   \n",
              "...             ...                                                ...   \n",
              "40944      18.14.06                       The Cat Who Caught the Laser   \n",
              "40945      18.14.06                         True Facts : Ant Mutualism   \n",
              "40946      18.14.06  I GAVE SAFIYA NYGAARD A PERFECT HAIR MAKEOVER ...   \n",
              "40947      18.14.06                How Black Panther Should Have Ended   \n",
              "40948      18.14.06  Official Call of Duty®: Black Ops 4 — Multipla...   \n",
              "\n",
              "                  channel_title  category_id              publish_time  \\\n",
              "0                  CaseyNeistat           22  2017-11-13T17:13:01.000Z   \n",
              "1               LastWeekTonight           24  2017-11-13T07:30:00.000Z   \n",
              "2                  Rudy Mancuso           23  2017-11-12T19:05:24.000Z   \n",
              "3         Good Mythical Morning           24  2017-11-13T11:00:04.000Z   \n",
              "4                      nigahiga           24  2017-11-12T18:01:41.000Z   \n",
              "...                         ...          ...                       ...   \n",
              "40944             AaronsAnimals           15  2018-05-18T13:00:04.000Z   \n",
              "40945                  zefrank1           22  2018-05-18T01:00:06.000Z   \n",
              "40946                Brad Mondo           24  2018-05-18T17:34:22.000Z   \n",
              "40947  How It Should Have Ended            1  2018-05-17T17:00:04.000Z   \n",
              "40948              Call of Duty           20  2018-05-17T17:09:38.000Z   \n",
              "\n",
              "                                                    tags     views   likes  \\\n",
              "0                                        SHANtell martin    748374   57527   \n",
              "1      last week tonight trump presidency|\"last week ...   2418783   97185   \n",
              "2      racist superman|\"rudy\"|\"mancuso\"|\"king\"|\"bach\"...   3191434  146033   \n",
              "3      rhett and link|\"gmm\"|\"good mythical morning\"|\"...    343168   10172   \n",
              "4      ryan|\"higa\"|\"higatv\"|\"nigahiga\"|\"i dare you\"|\"...   2095731  132235   \n",
              "...                                                  ...       ...     ...   \n",
              "40944  aarons animals|\"aarons\"|\"animals\"|\"cat\"|\"cats\"...   1685609   38160   \n",
              "40945                                             [none]   1064798   60008   \n",
              "40946  I gave safiya nygaard a perfect hair makeover ...   1066451   48068   \n",
              "40947  Black Panther|\"HISHE\"|\"Marvel\"|\"Infinity War\"|...   5660813  192957   \n",
              "40948      call of duty|\"cod\"|\"activision\"|\"Black Ops 4\"  10306119  357079   \n",
              "\n",
              "       dislikes  comment_count  \n",
              "0          2966          15954  \n",
              "1          6146          12703  \n",
              "2          5339           8181  \n",
              "3           666           2146  \n",
              "4          1989          17518  \n",
              "...         ...            ...  \n",
              "40944      1385           2657  \n",
              "40945       382           3936  \n",
              "40946      1032           3992  \n",
              "40947      2846          13088  \n",
              "40948    212976         144795  \n",
              "\n",
              "[40949 rows x 10 columns]"
            ],
            "text/html": [
              "\n",
              "  <div id=\"df-1e1d7840-a027-4aa7-b657-d9258e6a68e6\">\n",
              "    <div class=\"colab-df-container\">\n",
              "      <div>\n",
              "<style scoped>\n",
              "    .dataframe tbody tr th:only-of-type {\n",
              "        vertical-align: middle;\n",
              "    }\n",
              "\n",
              "    .dataframe tbody tr th {\n",
              "        vertical-align: top;\n",
              "    }\n",
              "\n",
              "    .dataframe thead th {\n",
              "        text-align: right;\n",
              "    }\n",
              "</style>\n",
              "<table border=\"1\" class=\"dataframe\">\n",
              "  <thead>\n",
              "    <tr style=\"text-align: right;\">\n",
              "      <th></th>\n",
              "      <th>trending_date</th>\n",
              "      <th>title</th>\n",
              "      <th>channel_title</th>\n",
              "      <th>category_id</th>\n",
              "      <th>publish_time</th>\n",
              "      <th>tags</th>\n",
              "      <th>views</th>\n",
              "      <th>likes</th>\n",
              "      <th>dislikes</th>\n",
              "      <th>comment_count</th>\n",
              "    </tr>\n",
              "  </thead>\n",
              "  <tbody>\n",
              "    <tr>\n",
              "      <th>0</th>\n",
              "      <td>17.14.11</td>\n",
              "      <td>WE WANT TO TALK ABOUT OUR MARRIAGE</td>\n",
              "      <td>CaseyNeistat</td>\n",
              "      <td>22</td>\n",
              "      <td>2017-11-13T17:13:01.000Z</td>\n",
              "      <td>SHANtell martin</td>\n",
              "      <td>748374</td>\n",
              "      <td>57527</td>\n",
              "      <td>2966</td>\n",
              "      <td>15954</td>\n",
              "    </tr>\n",
              "    <tr>\n",
              "      <th>1</th>\n",
              "      <td>17.14.11</td>\n",
              "      <td>The Trump Presidency: Last Week Tonight with J...</td>\n",
              "      <td>LastWeekTonight</td>\n",
              "      <td>24</td>\n",
              "      <td>2017-11-13T07:30:00.000Z</td>\n",
              "      <td>last week tonight trump presidency|\"last week ...</td>\n",
              "      <td>2418783</td>\n",
              "      <td>97185</td>\n",
              "      <td>6146</td>\n",
              "      <td>12703</td>\n",
              "    </tr>\n",
              "    <tr>\n",
              "      <th>2</th>\n",
              "      <td>17.14.11</td>\n",
              "      <td>Racist Superman | Rudy Mancuso, King Bach &amp; Le...</td>\n",
              "      <td>Rudy Mancuso</td>\n",
              "      <td>23</td>\n",
              "      <td>2017-11-12T19:05:24.000Z</td>\n",
              "      <td>racist superman|\"rudy\"|\"mancuso\"|\"king\"|\"bach\"...</td>\n",
              "      <td>3191434</td>\n",
              "      <td>146033</td>\n",
              "      <td>5339</td>\n",
              "      <td>8181</td>\n",
              "    </tr>\n",
              "    <tr>\n",
              "      <th>3</th>\n",
              "      <td>17.14.11</td>\n",
              "      <td>Nickelback Lyrics: Real or Fake?</td>\n",
              "      <td>Good Mythical Morning</td>\n",
              "      <td>24</td>\n",
              "      <td>2017-11-13T11:00:04.000Z</td>\n",
              "      <td>rhett and link|\"gmm\"|\"good mythical morning\"|\"...</td>\n",
              "      <td>343168</td>\n",
              "      <td>10172</td>\n",
              "      <td>666</td>\n",
              "      <td>2146</td>\n",
              "    </tr>\n",
              "    <tr>\n",
              "      <th>4</th>\n",
              "      <td>17.14.11</td>\n",
              "      <td>I Dare You: GOING BALD!?</td>\n",
              "      <td>nigahiga</td>\n",
              "      <td>24</td>\n",
              "      <td>2017-11-12T18:01:41.000Z</td>\n",
              "      <td>ryan|\"higa\"|\"higatv\"|\"nigahiga\"|\"i dare you\"|\"...</td>\n",
              "      <td>2095731</td>\n",
              "      <td>132235</td>\n",
              "      <td>1989</td>\n",
              "      <td>17518</td>\n",
              "    </tr>\n",
              "    <tr>\n",
              "      <th>...</th>\n",
              "      <td>...</td>\n",
              "      <td>...</td>\n",
              "      <td>...</td>\n",
              "      <td>...</td>\n",
              "      <td>...</td>\n",
              "      <td>...</td>\n",
              "      <td>...</td>\n",
              "      <td>...</td>\n",
              "      <td>...</td>\n",
              "      <td>...</td>\n",
              "    </tr>\n",
              "    <tr>\n",
              "      <th>40944</th>\n",
              "      <td>18.14.06</td>\n",
              "      <td>The Cat Who Caught the Laser</td>\n",
              "      <td>AaronsAnimals</td>\n",
              "      <td>15</td>\n",
              "      <td>2018-05-18T13:00:04.000Z</td>\n",
              "      <td>aarons animals|\"aarons\"|\"animals\"|\"cat\"|\"cats\"...</td>\n",
              "      <td>1685609</td>\n",
              "      <td>38160</td>\n",
              "      <td>1385</td>\n",
              "      <td>2657</td>\n",
              "    </tr>\n",
              "    <tr>\n",
              "      <th>40945</th>\n",
              "      <td>18.14.06</td>\n",
              "      <td>True Facts : Ant Mutualism</td>\n",
              "      <td>zefrank1</td>\n",
              "      <td>22</td>\n",
              "      <td>2018-05-18T01:00:06.000Z</td>\n",
              "      <td>[none]</td>\n",
              "      <td>1064798</td>\n",
              "      <td>60008</td>\n",
              "      <td>382</td>\n",
              "      <td>3936</td>\n",
              "    </tr>\n",
              "    <tr>\n",
              "      <th>40946</th>\n",
              "      <td>18.14.06</td>\n",
              "      <td>I GAVE SAFIYA NYGAARD A PERFECT HAIR MAKEOVER ...</td>\n",
              "      <td>Brad Mondo</td>\n",
              "      <td>24</td>\n",
              "      <td>2018-05-18T17:34:22.000Z</td>\n",
              "      <td>I gave safiya nygaard a perfect hair makeover ...</td>\n",
              "      <td>1066451</td>\n",
              "      <td>48068</td>\n",
              "      <td>1032</td>\n",
              "      <td>3992</td>\n",
              "    </tr>\n",
              "    <tr>\n",
              "      <th>40947</th>\n",
              "      <td>18.14.06</td>\n",
              "      <td>How Black Panther Should Have Ended</td>\n",
              "      <td>How It Should Have Ended</td>\n",
              "      <td>1</td>\n",
              "      <td>2018-05-17T17:00:04.000Z</td>\n",
              "      <td>Black Panther|\"HISHE\"|\"Marvel\"|\"Infinity War\"|...</td>\n",
              "      <td>5660813</td>\n",
              "      <td>192957</td>\n",
              "      <td>2846</td>\n",
              "      <td>13088</td>\n",
              "    </tr>\n",
              "    <tr>\n",
              "      <th>40948</th>\n",
              "      <td>18.14.06</td>\n",
              "      <td>Official Call of Duty®: Black Ops 4 — Multipla...</td>\n",
              "      <td>Call of Duty</td>\n",
              "      <td>20</td>\n",
              "      <td>2018-05-17T17:09:38.000Z</td>\n",
              "      <td>call of duty|\"cod\"|\"activision\"|\"Black Ops 4\"</td>\n",
              "      <td>10306119</td>\n",
              "      <td>357079</td>\n",
              "      <td>212976</td>\n",
              "      <td>144795</td>\n",
              "    </tr>\n",
              "  </tbody>\n",
              "</table>\n",
              "<p>40949 rows × 10 columns</p>\n",
              "</div>\n",
              "      <button class=\"colab-df-convert\" onclick=\"convertToInteractive('df-1e1d7840-a027-4aa7-b657-d9258e6a68e6')\"\n",
              "              title=\"Convert this dataframe to an interactive table.\"\n",
              "              style=\"display:none;\">\n",
              "        \n",
              "  <svg xmlns=\"http://www.w3.org/2000/svg\" height=\"24px\"viewBox=\"0 0 24 24\"\n",
              "       width=\"24px\">\n",
              "    <path d=\"M0 0h24v24H0V0z\" fill=\"none\"/>\n",
              "    <path d=\"M18.56 5.44l.94 2.06.94-2.06 2.06-.94-2.06-.94-.94-2.06-.94 2.06-2.06.94zm-11 1L8.5 8.5l.94-2.06 2.06-.94-2.06-.94L8.5 2.5l-.94 2.06-2.06.94zm10 10l.94 2.06.94-2.06 2.06-.94-2.06-.94-.94-2.06-.94 2.06-2.06.94z\"/><path d=\"M17.41 7.96l-1.37-1.37c-.4-.4-.92-.59-1.43-.59-.52 0-1.04.2-1.43.59L10.3 9.45l-7.72 7.72c-.78.78-.78 2.05 0 2.83L4 21.41c.39.39.9.59 1.41.59.51 0 1.02-.2 1.41-.59l7.78-7.78 2.81-2.81c.8-.78.8-2.07 0-2.86zM5.41 20L4 18.59l7.72-7.72 1.47 1.35L5.41 20z\"/>\n",
              "  </svg>\n",
              "      </button>\n",
              "      \n",
              "  <style>\n",
              "    .colab-df-container {\n",
              "      display:flex;\n",
              "      flex-wrap:wrap;\n",
              "      gap: 12px;\n",
              "    }\n",
              "\n",
              "    .colab-df-convert {\n",
              "      background-color: #E8F0FE;\n",
              "      border: none;\n",
              "      border-radius: 50%;\n",
              "      cursor: pointer;\n",
              "      display: none;\n",
              "      fill: #1967D2;\n",
              "      height: 32px;\n",
              "      padding: 0 0 0 0;\n",
              "      width: 32px;\n",
              "    }\n",
              "\n",
              "    .colab-df-convert:hover {\n",
              "      background-color: #E2EBFA;\n",
              "      box-shadow: 0px 1px 2px rgba(60, 64, 67, 0.3), 0px 1px 3px 1px rgba(60, 64, 67, 0.15);\n",
              "      fill: #174EA6;\n",
              "    }\n",
              "\n",
              "    [theme=dark] .colab-df-convert {\n",
              "      background-color: #3B4455;\n",
              "      fill: #D2E3FC;\n",
              "    }\n",
              "\n",
              "    [theme=dark] .colab-df-convert:hover {\n",
              "      background-color: #434B5C;\n",
              "      box-shadow: 0px 1px 3px 1px rgba(0, 0, 0, 0.15);\n",
              "      filter: drop-shadow(0px 1px 2px rgba(0, 0, 0, 0.3));\n",
              "      fill: #FFFFFF;\n",
              "    }\n",
              "  </style>\n",
              "\n",
              "      <script>\n",
              "        const buttonEl =\n",
              "          document.querySelector('#df-1e1d7840-a027-4aa7-b657-d9258e6a68e6 button.colab-df-convert');\n",
              "        buttonEl.style.display =\n",
              "          google.colab.kernel.accessAllowed ? 'block' : 'none';\n",
              "\n",
              "        async function convertToInteractive(key) {\n",
              "          const element = document.querySelector('#df-1e1d7840-a027-4aa7-b657-d9258e6a68e6');\n",
              "          const dataTable =\n",
              "            await google.colab.kernel.invokeFunction('convertToInteractive',\n",
              "                                                     [key], {});\n",
              "          if (!dataTable) return;\n",
              "\n",
              "          const docLinkHtml = 'Like what you see? Visit the ' +\n",
              "            '<a target=\"_blank\" href=https://colab.research.google.com/notebooks/data_table.ipynb>data table notebook</a>'\n",
              "            + ' to learn more about interactive tables.';\n",
              "          element.innerHTML = '';\n",
              "          dataTable['output_type'] = 'display_data';\n",
              "          await google.colab.output.renderOutput(dataTable, element);\n",
              "          const docLink = document.createElement('div');\n",
              "          docLink.innerHTML = docLinkHtml;\n",
              "          element.appendChild(docLink);\n",
              "        }\n",
              "      </script>\n",
              "    </div>\n",
              "  </div>\n",
              "  "
            ]
          },
          "metadata": {},
          "execution_count": 124
        }
      ]
    },
    {
      "cell_type": "code",
      "source": [
        "videos.columns"
      ],
      "metadata": {
        "colab": {
          "base_uri": "https://localhost:8080/"
        },
        "id": "M-COt-AVE3ET",
        "outputId": "0edaf9e3-1c07-4955-bb4b-69a69d367544"
      },
      "execution_count": 125,
      "outputs": [
        {
          "output_type": "execute_result",
          "data": {
            "text/plain": [
              "Index(['trending_date', 'title', 'channel_title', 'category_id',\n",
              "       'publish_time', 'tags', 'views', 'likes', 'dislikes', 'comment_count'],\n",
              "      dtype='object')"
            ]
          },
          "metadata": {},
          "execution_count": 125
        }
      ]
    },
    {
      "cell_type": "code",
      "source": [
        "videos.describe()"
      ],
      "metadata": {
        "colab": {
          "base_uri": "https://localhost:8080/",
          "height": 300
        },
        "id": "uquC3pIeFSNB",
        "outputId": "541cd87d-55bb-44a2-b6eb-2454eb7441f2"
      },
      "execution_count": 126,
      "outputs": [
        {
          "output_type": "execute_result",
          "data": {
            "text/plain": [
              "        category_id         views         likes      dislikes  comment_count\n",
              "count  40949.000000  4.094900e+04  4.094900e+04  4.094900e+04   4.094900e+04\n",
              "mean      19.972429  2.360785e+06  7.426670e+04  3.711401e+03   8.446804e+03\n",
              "std        7.568327  7.394114e+06  2.288853e+05  2.902971e+04   3.743049e+04\n",
              "min        1.000000  5.490000e+02  0.000000e+00  0.000000e+00   0.000000e+00\n",
              "25%       17.000000  2.423290e+05  5.424000e+03  2.020000e+02   6.140000e+02\n",
              "50%       24.000000  6.818610e+05  1.809100e+04  6.310000e+02   1.856000e+03\n",
              "75%       25.000000  1.823157e+06  5.541700e+04  1.938000e+03   5.755000e+03\n",
              "max       43.000000  2.252119e+08  5.613827e+06  1.674420e+06   1.361580e+06"
            ],
            "text/html": [
              "\n",
              "  <div id=\"df-da423a90-91fa-4f1e-bf10-cb13719d9633\">\n",
              "    <div class=\"colab-df-container\">\n",
              "      <div>\n",
              "<style scoped>\n",
              "    .dataframe tbody tr th:only-of-type {\n",
              "        vertical-align: middle;\n",
              "    }\n",
              "\n",
              "    .dataframe tbody tr th {\n",
              "        vertical-align: top;\n",
              "    }\n",
              "\n",
              "    .dataframe thead th {\n",
              "        text-align: right;\n",
              "    }\n",
              "</style>\n",
              "<table border=\"1\" class=\"dataframe\">\n",
              "  <thead>\n",
              "    <tr style=\"text-align: right;\">\n",
              "      <th></th>\n",
              "      <th>category_id</th>\n",
              "      <th>views</th>\n",
              "      <th>likes</th>\n",
              "      <th>dislikes</th>\n",
              "      <th>comment_count</th>\n",
              "    </tr>\n",
              "  </thead>\n",
              "  <tbody>\n",
              "    <tr>\n",
              "      <th>count</th>\n",
              "      <td>40949.000000</td>\n",
              "      <td>4.094900e+04</td>\n",
              "      <td>4.094900e+04</td>\n",
              "      <td>4.094900e+04</td>\n",
              "      <td>4.094900e+04</td>\n",
              "    </tr>\n",
              "    <tr>\n",
              "      <th>mean</th>\n",
              "      <td>19.972429</td>\n",
              "      <td>2.360785e+06</td>\n",
              "      <td>7.426670e+04</td>\n",
              "      <td>3.711401e+03</td>\n",
              "      <td>8.446804e+03</td>\n",
              "    </tr>\n",
              "    <tr>\n",
              "      <th>std</th>\n",
              "      <td>7.568327</td>\n",
              "      <td>7.394114e+06</td>\n",
              "      <td>2.288853e+05</td>\n",
              "      <td>2.902971e+04</td>\n",
              "      <td>3.743049e+04</td>\n",
              "    </tr>\n",
              "    <tr>\n",
              "      <th>min</th>\n",
              "      <td>1.000000</td>\n",
              "      <td>5.490000e+02</td>\n",
              "      <td>0.000000e+00</td>\n",
              "      <td>0.000000e+00</td>\n",
              "      <td>0.000000e+00</td>\n",
              "    </tr>\n",
              "    <tr>\n",
              "      <th>25%</th>\n",
              "      <td>17.000000</td>\n",
              "      <td>2.423290e+05</td>\n",
              "      <td>5.424000e+03</td>\n",
              "      <td>2.020000e+02</td>\n",
              "      <td>6.140000e+02</td>\n",
              "    </tr>\n",
              "    <tr>\n",
              "      <th>50%</th>\n",
              "      <td>24.000000</td>\n",
              "      <td>6.818610e+05</td>\n",
              "      <td>1.809100e+04</td>\n",
              "      <td>6.310000e+02</td>\n",
              "      <td>1.856000e+03</td>\n",
              "    </tr>\n",
              "    <tr>\n",
              "      <th>75%</th>\n",
              "      <td>25.000000</td>\n",
              "      <td>1.823157e+06</td>\n",
              "      <td>5.541700e+04</td>\n",
              "      <td>1.938000e+03</td>\n",
              "      <td>5.755000e+03</td>\n",
              "    </tr>\n",
              "    <tr>\n",
              "      <th>max</th>\n",
              "      <td>43.000000</td>\n",
              "      <td>2.252119e+08</td>\n",
              "      <td>5.613827e+06</td>\n",
              "      <td>1.674420e+06</td>\n",
              "      <td>1.361580e+06</td>\n",
              "    </tr>\n",
              "  </tbody>\n",
              "</table>\n",
              "</div>\n",
              "      <button class=\"colab-df-convert\" onclick=\"convertToInteractive('df-da423a90-91fa-4f1e-bf10-cb13719d9633')\"\n",
              "              title=\"Convert this dataframe to an interactive table.\"\n",
              "              style=\"display:none;\">\n",
              "        \n",
              "  <svg xmlns=\"http://www.w3.org/2000/svg\" height=\"24px\"viewBox=\"0 0 24 24\"\n",
              "       width=\"24px\">\n",
              "    <path d=\"M0 0h24v24H0V0z\" fill=\"none\"/>\n",
              "    <path d=\"M18.56 5.44l.94 2.06.94-2.06 2.06-.94-2.06-.94-.94-2.06-.94 2.06-2.06.94zm-11 1L8.5 8.5l.94-2.06 2.06-.94-2.06-.94L8.5 2.5l-.94 2.06-2.06.94zm10 10l.94 2.06.94-2.06 2.06-.94-2.06-.94-.94-2.06-.94 2.06-2.06.94z\"/><path d=\"M17.41 7.96l-1.37-1.37c-.4-.4-.92-.59-1.43-.59-.52 0-1.04.2-1.43.59L10.3 9.45l-7.72 7.72c-.78.78-.78 2.05 0 2.83L4 21.41c.39.39.9.59 1.41.59.51 0 1.02-.2 1.41-.59l7.78-7.78 2.81-2.81c.8-.78.8-2.07 0-2.86zM5.41 20L4 18.59l7.72-7.72 1.47 1.35L5.41 20z\"/>\n",
              "  </svg>\n",
              "      </button>\n",
              "      \n",
              "  <style>\n",
              "    .colab-df-container {\n",
              "      display:flex;\n",
              "      flex-wrap:wrap;\n",
              "      gap: 12px;\n",
              "    }\n",
              "\n",
              "    .colab-df-convert {\n",
              "      background-color: #E8F0FE;\n",
              "      border: none;\n",
              "      border-radius: 50%;\n",
              "      cursor: pointer;\n",
              "      display: none;\n",
              "      fill: #1967D2;\n",
              "      height: 32px;\n",
              "      padding: 0 0 0 0;\n",
              "      width: 32px;\n",
              "    }\n",
              "\n",
              "    .colab-df-convert:hover {\n",
              "      background-color: #E2EBFA;\n",
              "      box-shadow: 0px 1px 2px rgba(60, 64, 67, 0.3), 0px 1px 3px 1px rgba(60, 64, 67, 0.15);\n",
              "      fill: #174EA6;\n",
              "    }\n",
              "\n",
              "    [theme=dark] .colab-df-convert {\n",
              "      background-color: #3B4455;\n",
              "      fill: #D2E3FC;\n",
              "    }\n",
              "\n",
              "    [theme=dark] .colab-df-convert:hover {\n",
              "      background-color: #434B5C;\n",
              "      box-shadow: 0px 1px 3px 1px rgba(0, 0, 0, 0.15);\n",
              "      filter: drop-shadow(0px 1px 2px rgba(0, 0, 0, 0.3));\n",
              "      fill: #FFFFFF;\n",
              "    }\n",
              "  </style>\n",
              "\n",
              "      <script>\n",
              "        const buttonEl =\n",
              "          document.querySelector('#df-da423a90-91fa-4f1e-bf10-cb13719d9633 button.colab-df-convert');\n",
              "        buttonEl.style.display =\n",
              "          google.colab.kernel.accessAllowed ? 'block' : 'none';\n",
              "\n",
              "        async function convertToInteractive(key) {\n",
              "          const element = document.querySelector('#df-da423a90-91fa-4f1e-bf10-cb13719d9633');\n",
              "          const dataTable =\n",
              "            await google.colab.kernel.invokeFunction('convertToInteractive',\n",
              "                                                     [key], {});\n",
              "          if (!dataTable) return;\n",
              "\n",
              "          const docLinkHtml = 'Like what you see? Visit the ' +\n",
              "            '<a target=\"_blank\" href=https://colab.research.google.com/notebooks/data_table.ipynb>data table notebook</a>'\n",
              "            + ' to learn more about interactive tables.';\n",
              "          element.innerHTML = '';\n",
              "          dataTable['output_type'] = 'display_data';\n",
              "          await google.colab.output.renderOutput(dataTable, element);\n",
              "          const docLink = document.createElement('div');\n",
              "          docLink.innerHTML = docLinkHtml;\n",
              "          element.appendChild(docLink);\n",
              "        }\n",
              "      </script>\n",
              "    </div>\n",
              "  </div>\n",
              "  "
            ]
          },
          "metadata": {},
          "execution_count": 126
        }
      ]
    },
    {
      "cell_type": "code",
      "source": [
        "ncols=videos.describe().columns\n"
      ],
      "metadata": {
        "id": "WsGiAxMMGjSo"
      },
      "execution_count": 127,
      "outputs": []
    },
    {
      "cell_type": "code",
      "source": [
        "videos[ncols].mean()\n",
        "videos[ncols].std()"
      ],
      "metadata": {
        "colab": {
          "base_uri": "https://localhost:8080/"
        },
        "id": "w8yI0IhUFeue",
        "outputId": "a4dd5c13-471c-4512-e4ac-609e5fe8278f"
      },
      "execution_count": 128,
      "outputs": [
        {
          "output_type": "execute_result",
          "data": {
            "text/plain": [
              "category_id      7.568327e+00\n",
              "views            7.394114e+06\n",
              "likes            2.288853e+05\n",
              "dislikes         2.902971e+04\n",
              "comment_count    3.743049e+04\n",
              "dtype: float64"
            ]
          },
          "metadata": {},
          "execution_count": 128
        }
      ]
    },
    {
      "cell_type": "code",
      "source": [
        "videos_array=videos[ncols].values"
      ],
      "metadata": {
        "id": "7HKWoGNnGmbu"
      },
      "execution_count": 129,
      "outputs": []
    },
    {
      "cell_type": "code",
      "source": [
        "videos_array.shape"
      ],
      "metadata": {
        "colab": {
          "base_uri": "https://localhost:8080/"
        },
        "id": "XJVQZDiwGrm5",
        "outputId": "ef527a83-9d48-4312-ac09-16bd660b9fbb"
      },
      "execution_count": 130,
      "outputs": [
        {
          "output_type": "execute_result",
          "data": {
            "text/plain": [
              "(40949, 5)"
            ]
          },
          "metadata": {},
          "execution_count": 130
        }
      ]
    },
    {
      "cell_type": "code",
      "source": [
        "#np.median(videos_array.mean,axis=0)"
      ],
      "metadata": {
        "id": "0OksJDaQGuCj"
      },
      "execution_count": 131,
      "outputs": []
    },
    {
      "cell_type": "code",
      "source": [
        "pl.imshow(videos[ncols].corr(),cmap='RdBu');\n",
        "pl.colorbar();\n",
        "pl.xticks([0,1,2,3,4],['cathegory id','views','like','dislike','comment_count'], rotation=45)\n",
        "pl.yticks([0,1,2,3,4],['cathegory id','views','like','dislike','comment_count'], rotation=45)"
      ],
      "metadata": {
        "colab": {
          "base_uri": "https://localhost:8080/",
          "height": 512
        },
        "id": "yNLgf3uDHQDM",
        "outputId": "f0303a48-6b83-4446-a2f2-69041694acfa"
      },
      "execution_count": 132,
      "outputs": [
        {
          "output_type": "execute_result",
          "data": {
            "text/plain": [
              "([<matplotlib.axis.YTick at 0x7f888efb0160>,\n",
              "  <matplotlib.axis.YTick at 0x7f888efa99a0>,\n",
              "  <matplotlib.axis.YTick at 0x7f888efa4820>,\n",
              "  <matplotlib.axis.YTick at 0x7f8891522b80>,\n",
              "  <matplotlib.axis.YTick at 0x7f8891526310>],\n",
              " [Text(0, 0, 'cathegory id'),\n",
              "  Text(0, 1, 'views'),\n",
              "  Text(0, 2, 'like'),\n",
              "  Text(0, 3, 'dislike'),\n",
              "  Text(0, 4, 'comment_count')])"
            ]
          },
          "metadata": {},
          "execution_count": 132
        },
        {
          "output_type": "display_data",
          "data": {
            "text/plain": [
              "<Figure size 432x288 with 2 Axes>"
            ],
            "image/png": "[encoded data removed]"
          },
          "metadata": {
            "needs_background": "light"
          }
        }
      ]
    },
    {
      "cell_type": "code",
      "source": [],
      "metadata": {
        "id": "M36eilD8ALeX"
      },
      "execution_count": null,
      "outputs": []
    }
  ]
}